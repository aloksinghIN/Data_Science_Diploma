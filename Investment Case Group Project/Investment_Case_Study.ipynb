{
 "cells": [
  {
   "cell_type": "code",
   "execution_count": 1,
   "metadata": {},
   "outputs": [],
   "source": [
    "# Supress Warnings\n",
    "\n",
    "import warnings\n",
    "warnings.filterwarnings('ignore')"
   ]
  },
  {
   "cell_type": "code",
   "execution_count": 2,
   "metadata": {},
   "outputs": [],
   "source": [
    "# Import the numpy and pandas packages\n",
    "\n",
    "import numpy as np\n",
    "import pandas as pd"
   ]
  },
  {
   "cell_type": "code",
   "execution_count": 3,
   "metadata": {
    "scrolled": false
   },
   "outputs": [],
   "source": [
    "# TASK 1\n",
    "#Load the companies and rounds data into two data frames and name them companies and rounds2 respectively.\n",
    "\n",
    "companies = pd.read_csv(\"companies.txt\", sep=\"\\t\", encoding = \"ISO-8859-1\")\n",
    "#companies.head()\n",
    "rounds2 = pd.read_csv(\"rounds2.csv\", sep=\",\", encoding = \"ISO-8859-1\")\n",
    "#rounds2.head()"
   ]
  },
  {
   "cell_type": "code",
   "execution_count": 4,
   "metadata": {},
   "outputs": [],
   "source": [
    "#Handle encoding and decoding for companies\n",
    "companies['permalink'] = companies['permalink'].str.encode('utf-8').str.decode('ascii', 'ignore')"
   ]
  },
  {
   "cell_type": "code",
   "execution_count": 5,
   "metadata": {},
   "outputs": [],
   "source": [
    "#making permalink of companies df into lowercase\n",
    "companies.permalink=companies.permalink.str.lower()"
   ]
  },
  {
   "cell_type": "code",
   "execution_count": 6,
   "metadata": {},
   "outputs": [],
   "source": [
    "#deconding the coded for rounds2\n",
    "rounds2['company_permalink'] = rounds2['company_permalink'].str.encode('utf-8').str.decode('ascii', 'ignore')"
   ]
  },
  {
   "cell_type": "code",
   "execution_count": 7,
   "metadata": {},
   "outputs": [],
   "source": [
    "#making permalink of rounds2 df into lowercase\n",
    "rounds2.company_permalink=rounds2.company_permalink.str.lower()"
   ]
  },
  {
   "cell_type": "code",
   "execution_count": 8,
   "metadata": {},
   "outputs": [
    {
     "name": "stdout",
     "output_type": "stream",
     "text": [
      "66368\n"
     ]
    }
   ],
   "source": [
    "#checking the unique record excepting nulls for rounds2\n",
    "print(rounds2.company_permalink.nunique())"
   ]
  },
  {
   "cell_type": "code",
   "execution_count": 9,
   "metadata": {},
   "outputs": [
    {
     "name": "stdout",
     "output_type": "stream",
     "text": [
      "66368\n"
     ]
    }
   ],
   "source": [
    "#checking the unique record excepting nulls for companies\n",
    "print(companies.permalink.nunique())"
   ]
  },
  {
   "cell_type": "code",
   "execution_count": 10,
   "metadata": {},
   "outputs": [],
   "source": [
    "#In the companies data frame, which column can be used as the unique key for each company? Write the name of the column.\n",
    "#Ans:permalink"
   ]
  },
  {
   "cell_type": "code",
   "execution_count": 11,
   "metadata": {},
   "outputs": [
    {
     "data": {
      "text/plain": [
       "True"
      ]
     },
     "execution_count": 11,
     "metadata": {},
     "output_type": "execute_result"
    }
   ],
   "source": [
    "#Are there any companies in the rounds2 file which are not present in companies? Answer yes or no: Y/N\n",
    "\n",
    "rounds2.loc[~rounds2['company_permalink'].isin(companies['permalink']),:]\n",
    "\n",
    "#Since the above statement returns 0 we can conlude that there are no companies in rounds2 that are not in companies\n",
    "\n",
    "companies_diff = (rounds2.company_permalink).unique is not (companies.permalink).unique\n",
    "companies_diff"
   ]
  },
  {
   "cell_type": "code",
   "execution_count": 12,
   "metadata": {},
   "outputs": [
    {
     "name": "stdout",
     "output_type": "stream",
     "text": [
      "114949\n"
     ]
    }
   ],
   "source": [
    "#Merging data frame\n",
    "master_frame = pd.merge(companies, rounds2, how='inner', left_on='permalink',right_on='company_permalink')\n",
    "master_frame.head(50)\n",
    "#to get total no of rows\n",
    "print(len(master_frame.index))"
   ]
  },
  {
   "cell_type": "code",
   "execution_count": 13,
   "metadata": {},
   "outputs": [
    {
     "name": "stdout",
     "output_type": "stream",
     "text": [
      "permalink                   0.00\n",
      "name                        0.00\n",
      "homepage_url                4.56\n",
      "category_list               1.10\n",
      "status                      0.00\n",
      "country_code                6.16\n",
      "state_code                  8.01\n",
      "region                      7.42\n",
      "city                        7.42\n",
      "founded_at                 16.81\n",
      "company_permalink           0.00\n",
      "funding_round_permalink     0.00\n",
      "funding_round_type          0.00\n",
      "funding_round_code         70.34\n",
      "funded_at                   0.00\n",
      "raised_amount_usd           0.00\n",
      "dtype: float64\n"
     ]
    }
   ],
   "source": [
    "# **** Cleaning the master frame\n",
    "master_frame=master_frame[(master_frame['raised_amount_usd']).notnull()]\n",
    "\n",
    "print(round(100*(master_frame.isnull().sum()/len(master_frame.index)),2))\n",
    "#len(master.index)\n",
    "#master.raised_amount_usd.isnull().sum()"
   ]
  },
  {
   "cell_type": "code",
   "execution_count": 14,
   "metadata": {},
   "outputs": [
    {
     "name": "stdout",
     "output_type": "stream",
     "text": [
      "11748949.13\n",
      "958694.47\n",
      "719818.0\n",
      "73308593.03\n"
     ]
    }
   ],
   "source": [
    "# TASK 2\n",
    "# getting the averages for venture,Angel,Seed,Private_equity\n",
    "print(round(master_frame[master_frame['funding_round_type'].str.match('venture', case=False)].raised_amount_usd.mean(),2))\n",
    "print(round(master_frame[master_frame['funding_round_type'].str.match('angel', case=False)].raised_amount_usd.mean(),2))\n",
    "print(round(master_frame[master_frame['funding_round_type'].str.match('seed', case=False)].raised_amount_usd.mean(),2))\n",
    "print(round(master_frame[master_frame['funding_round_type'].str.match('private_equity', case=False)].raised_amount_usd.mean(),2))"
   ]
  },
  {
   "cell_type": "code",
   "execution_count": 15,
   "metadata": {},
   "outputs": [],
   "source": [
    "#AS Spark Funds invests between 5 Million to 15 Million : Venture Funding is one of the Spark Fund will do."
   ]
  },
  {
   "cell_type": "code",
   "execution_count": 16,
   "metadata": {},
   "outputs": [
    {
     "data": {
      "text/plain": [
       "country_code\n",
       "USA    4.225108e+11\n",
       "CHN    3.983542e+10\n",
       "GBR    2.024563e+10\n",
       "IND    1.439186e+10\n",
       "CAN    9.583332e+09\n",
       "FRA    7.259537e+09\n",
       "ISR    6.907515e+09\n",
       "DEU    6.346960e+09\n",
       "JPN    3.363677e+09\n",
       "Name: raised_amount_usd, dtype: float64"
      ]
     },
     "execution_count": 16,
     "metadata": {},
     "output_type": "execute_result"
    }
   ],
   "source": [
    "# TASK 3\n",
    "#1-Spark Funds wants to see the top nine countries which have received the highest total funding \n",
    "#(across ALL sectors for the chosen investment type)\n",
    "#2- For the chosen investment type, make a data frame named top9 with the top nine countries \n",
    "#(based on the total investment amount each country has received)\n",
    "\n",
    "venture_df=master_frame[master_frame['funding_round_type'].str.match('venture', case=False)];\n",
    "df_by_country = venture_df.groupby(['country_code'])\n",
    "top9 = df_by_country['raised_amount_usd'].sum().sort_values(ascending = False).head(9)\n",
    "top9"
   ]
  },
  {
   "cell_type": "code",
   "execution_count": 17,
   "metadata": {},
   "outputs": [],
   "source": [
    "# As China is not english Speaking country, The Top3 English Speaking Countries are USA,GBR & IND."
   ]
  },
  {
   "cell_type": "code",
   "execution_count": 18,
   "metadata": {},
   "outputs": [],
   "source": [
    "# TASK-4\n",
    "#1-Extract the primary sector of each category list from the category_list column\n",
    "\n",
    "#2-Use the mapping file 'mapping.csv' to map each primary sector to one of the eight main sectors \n",
    "#(Note that ‘Others’ is also considered one of the main sectors)\n",
    "\n",
    "mapping = pd.read_csv(\"mapping.csv\",sep=',',  encoding = \"ISO-8859-1\")\n",
    "\n",
    "#Removing the null from category list\n",
    "master_frame=master_frame[(master_frame['category_list']).notnull()]\n",
    "\n",
    "#Getting the primary category in master data frame\n",
    "master_frame['primary_sector']=master_frame['category_list'].str.split(pat='|',expand=True)[0]\n",
    "\n",
    "#cleaning mapping df\n",
    "mapping=mapping[(mapping['category_list']).notnull()]\n",
    "\n",
    "#unpivoting the mapping df and getting the main_sector\n",
    "map_unpivoted=pd.melt(mapping,id_vars=['category_list'],var_name=['main_sector'])\n",
    "map_unpivoted=map_unpivoted[map_unpivoted.value == 1]\n",
    "\n",
    "# joining unpivoted mapping file to master dataframe\n",
    "mapped_category = pd.merge(master_frame,map_unpivoted, left_on='primary_sector',right_on='category_list',how='inner')\n",
    "\n"
   ]
  },
  {
   "cell_type": "code",
   "execution_count": 19,
   "metadata": {},
   "outputs": [],
   "source": [
    "# TASK 5\n",
    "#Create three separate data frames D1, D2 and D3 for each of the three countries containing the observations of funding type FT falling within the 5-15 million USD range. The three data frames should contain:\n",
    "\n",
    "#All the columns of the master_frame along with the primary sector and the main sector\n",
    "\n",
    "#The total number (or count) of investments for each main sector in a separate column\n",
    "\n",
    "#The total amount invested in each main sector in a separate column\n",
    "D1=mapped_category[(mapped_category['country_code']=='USA') & (mapped_category['funding_round_type'].str.match('venture', case=False))  & \n",
    "                (mapped_category.raised_amount_usd >=5000000)  & (mapped_category.raised_amount_usd <=15000000)]\n",
    "D2=mapped_category[(mapped_category['country_code']=='GBR') & (mapped_category['funding_round_type'].str.match('venture', case=False))  & \n",
    "                (mapped_category.raised_amount_usd >=5000000)  & (mapped_category.raised_amount_usd <=15000000)]\n",
    "D3=mapped_category[(mapped_category['country_code']=='IND') & (mapped_category['funding_round_type'].str.match('venture', case=False))  & \n",
    "                (mapped_category.raised_amount_usd >=5000000)  & (mapped_category.raised_amount_usd <=15000000)]\n",
    "\n",
    "#mapped_category.info()\n",
    "#master_frame.info()"
   ]
  },
  {
   "cell_type": "code",
   "execution_count": 20,
   "metadata": {},
   "outputs": [
    {
     "name": "stdout",
     "output_type": "stream",
     "text": [
      "11149\n",
      "577\n",
      "299\n"
     ]
    }
   ],
   "source": [
    "#The total number (or count) of investments for each main sector\n",
    "print(len(D1.index))\n",
    "print(len(D2.index))\n",
    "print(len(D3.index))"
   ]
  },
  {
   "cell_type": "code",
   "execution_count": 21,
   "metadata": {},
   "outputs": [
    {
     "name": "stdout",
     "output_type": "stream",
     "text": [
      "Sum of investment in D1 ($M) : 99661524549.0\n",
      "Sum of investment in D2 ($M) : 5028704358.0\n",
      "Sum of investment in D3 ($M) : 2683537552.0\n"
     ]
    }
   ],
   "source": [
    "#The total amount invested\n",
    "print('Sum of investment in D1 ($M) :' ,D1.raised_amount_usd.sum())\n",
    "print('Sum of investment in D2 ($M) :' ,D2.raised_amount_usd.sum())\n",
    "print('Sum of investment in D3 ($M) :' ,D3.raised_amount_usd.sum())"
   ]
  },
  {
   "cell_type": "code",
   "execution_count": 22,
   "metadata": {},
   "outputs": [
    {
     "name": "stdout",
     "output_type": "stream",
     "text": [
      "main_sector\n",
      "Others                                     2923\n",
      "Cleantech / Semiconductors                 2297\n",
      "Social, Finance, Analytics, Advertising    1912\n",
      "Name: company_permalink, dtype: int64\n"
     ]
    }
   ],
   "source": [
    "# Top 3 sectors - for USA\n",
    "by_usa_venture_sector = D1.groupby(['main_sector']).count().sort_values(by = 'raised_amount_usd', ascending = False).head(3)\n",
    "print(by_usa_venture_sector['company_permalink'])"
   ]
  },
  {
   "cell_type": "code",
   "execution_count": 23,
   "metadata": {},
   "outputs": [
    {
     "name": "stdout",
     "output_type": "stream",
     "text": [
      "main_sector\n",
      "Others                                     143\n",
      "Cleantech / Semiconductors                 127\n",
      "Social, Finance, Analytics, Advertising     98\n",
      "Name: company_permalink, dtype: int64\n"
     ]
    }
   ],
   "source": [
    "# Top 3 sectors - for GBR\n",
    "by_gbr_venture_sector = D2.groupby(['main_sector']).count().sort_values(by = 'raised_amount_usd', ascending = False).head(3)\n",
    "print(by_gbr_venture_sector['company_permalink'])"
   ]
  },
  {
   "cell_type": "code",
   "execution_count": 24,
   "metadata": {},
   "outputs": [
    {
     "name": "stdout",
     "output_type": "stream",
     "text": [
      "main_sector\n",
      "Others                        109\n",
      "News, Search and Messaging     52\n",
      "Entertainment                  33\n",
      "Name: company_permalink, dtype: int64\n"
     ]
    }
   ],
   "source": [
    "# Top 3 sectors - for IND\n",
    "by_ind_venture_sector = D3.groupby(['main_sector']).count().sort_values(by = 'raised_amount_usd', ascending = False).head(3)\n",
    "print(by_ind_venture_sector['company_permalink'])"
   ]
  },
  {
   "cell_type": "code",
   "execution_count": 89,
   "metadata": {},
   "outputs": [
    {
     "name": "stdout",
     "output_type": "stream",
     "text": [
      "main_sector\n",
      "Others                                     2923\n",
      "Cleantech / Semiconductors                 2297\n",
      "Social, Finance, Analytics, Advertising    1912\n",
      "Name: raised_amount_usd, dtype: int64\n",
      "main_sector\n",
      "Others                                     143\n",
      "Cleantech / Semiconductors                 127\n",
      "Social, Finance, Analytics, Advertising     98\n",
      "Name: raised_amount_usd, dtype: int64\n",
      "main_sector\n",
      "Others                        109\n",
      "News, Search and Messaging     52\n",
      "Entertainment                  33\n",
      "Name: raised_amount_usd, dtype: int64\n"
     ]
    }
   ],
   "source": [
    "#no of investment in top 3 sectors of USA,GBR,IND\n",
    "print(by_usa_venture_sector['raised_amount_usd'])\n",
    "print(by_gbr_venture_sector['raised_amount_usd'])\n",
    "print(by_ind_venture_sector['raised_amount_usd'])"
   ]
  },
  {
   "cell_type": "code",
   "execution_count": 25,
   "metadata": {},
   "outputs": [
    {
     "data": {
      "text/plain": [
       "'/organization/1stdibs'"
      ]
     },
     "execution_count": 25,
     "metadata": {},
     "output_type": "execute_result"
    }
   ],
   "source": [
    "# Top company in 'Others' sectors - for USA\n",
    "D1.loc[D1[D1.main_sector == 'Others']['raised_amount_usd'].idxmax()]['permalink']"
   ]
  },
  {
   "cell_type": "code",
   "execution_count": 26,
   "metadata": {},
   "outputs": [
    {
     "data": {
      "text/plain": [
       "'/organization/notonthehighstreet'"
      ]
     },
     "execution_count": 26,
     "metadata": {},
     "output_type": "execute_result"
    }
   ],
   "source": [
    "# Top company in 'Others' sectors - for GBR\n",
    "D2.loc[D2[D2.main_sector == 'Others']['raised_amount_usd'].idxmax()]['permalink']"
   ]
  },
  {
   "cell_type": "code",
   "execution_count": 27,
   "metadata": {},
   "outputs": [
    {
     "data": {
      "text/plain": [
       "'/organization/caratlane'"
      ]
     },
     "execution_count": 27,
     "metadata": {},
     "output_type": "execute_result"
    }
   ],
   "source": [
    "# Top company in 'Others' sectors - for IND\n",
    "D3.loc[D3[D3.main_sector == 'Others']['raised_amount_usd'].idxmax()]['permalink']"
   ]
  },
  {
   "cell_type": "code",
   "execution_count": 28,
   "metadata": {},
   "outputs": [
    {
     "data": {
      "text/plain": [
       "'/organization/480-biomedical'"
      ]
     },
     "execution_count": 28,
     "metadata": {},
     "output_type": "execute_result"
    }
   ],
   "source": [
    "# Top company in 'Cleantech / Semiconductors' sectors - for USA\n",
    "D1.loc[D1[D1.main_sector == 'Cleantech / Semiconductors']['raised_amount_usd'].idxmax()]['permalink']"
   ]
  },
  {
   "cell_type": "code",
   "execution_count": 29,
   "metadata": {},
   "outputs": [
    {
     "data": {
      "text/plain": [
       "'/organization/anadigm'"
      ]
     },
     "execution_count": 29,
     "metadata": {},
     "output_type": "execute_result"
    }
   ],
   "source": [
    "# Top company in 'Cleantech / Semiconductors' sectors - for GBR\n",
    "D2.loc[D2[D2.main_sector == 'Cleantech / Semiconductors']['raised_amount_usd'].idxmax()]['permalink']"
   ]
  },
  {
   "cell_type": "code",
   "execution_count": 30,
   "metadata": {},
   "outputs": [
    {
     "data": {
      "text/plain": [
       "'/organization/mobile2win-india'"
      ]
     },
     "execution_count": 30,
     "metadata": {},
     "output_type": "execute_result"
    }
   ],
   "source": [
    "# Top company in 'News, Search and Messaging' sectors - for IND\n",
    "D3.loc[D3[D3.main_sector == 'News, Search and Messaging']['raised_amount_usd'].idxmax()]['permalink']\n",
    "\n",
    "\n"
   ]
  },
  {
   "cell_type": "code",
   "execution_count": 96,
   "metadata": {},
   "outputs": [],
   "source": [
    "# Step 6\n",
    "# Export data frames as csv. Ensure export folder is present\n",
    "mapped_category.to_csv('./master_frame.csv', sep=',')"
   ]
  },
  {
   "cell_type": "code",
   "execution_count": null,
   "metadata": {},
   "outputs": [],
   "source": []
  }
 ],
 "metadata": {
  "kernelspec": {
   "display_name": "Python 3",
   "language": "python",
   "name": "python3"
  },
  "language_info": {
   "codemirror_mode": {
    "name": "ipython",
    "version": 3
   },
   "file_extension": ".py",
   "mimetype": "text/x-python",
   "name": "python",
   "nbconvert_exporter": "python",
   "pygments_lexer": "ipython3",
   "version": "3.7.0"
  }
 },
 "nbformat": 4,
 "nbformat_minor": 2
}
