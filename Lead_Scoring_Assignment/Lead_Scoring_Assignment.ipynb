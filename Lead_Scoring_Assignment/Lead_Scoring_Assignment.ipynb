{
 "cells": [
  {
   "cell_type": "markdown",
   "metadata": {},
   "source": [
    "## Importing required modules"
   ]
  },
  {
   "cell_type": "code",
   "execution_count": 1,
   "metadata": {},
   "outputs": [],
   "source": [
    "import pandas as pd\n",
    "import numpy as np\n",
    "import warnings\n",
    "warnings.filterwarnings('ignore')\n",
    "\n",
    "# for visulations\n",
    "import matplotlib.pyplot as plt\n",
    "import seaborn as sns"
   ]
  },
  {
   "cell_type": "markdown",
   "metadata": {},
   "source": [
    "### Importing and Understanding Data"
   ]
  },
  {
   "cell_type": "code",
   "execution_count": 2,
   "metadata": {},
   "outputs": [],
   "source": [
    "leads=pd.read_csv('Leads.csv')"
   ]
  },
  {
   "cell_type": "code",
   "execution_count": 3,
   "metadata": {},
   "outputs": [
    {
     "name": "stdout",
     "output_type": "stream",
     "text": [
      "(9240, 37)\n"
     ]
    },
    {
     "data": {
      "text/html": [
       "<div>\n",
       "<style scoped>\n",
       "    .dataframe tbody tr th:only-of-type {\n",
       "        vertical-align: middle;\n",
       "    }\n",
       "\n",
       "    .dataframe tbody tr th {\n",
       "        vertical-align: top;\n",
       "    }\n",
       "\n",
       "    .dataframe thead th {\n",
       "        text-align: right;\n",
       "    }\n",
       "</style>\n",
       "<table border=\"1\" class=\"dataframe\">\n",
       "  <thead>\n",
       "    <tr style=\"text-align: right;\">\n",
       "      <th></th>\n",
       "      <th>Prospect ID</th>\n",
       "      <th>Lead Number</th>\n",
       "      <th>Lead Origin</th>\n",
       "      <th>Lead Source</th>\n",
       "      <th>Do Not Email</th>\n",
       "      <th>Do Not Call</th>\n",
       "      <th>Converted</th>\n",
       "      <th>TotalVisits</th>\n",
       "      <th>Total Time Spent on Website</th>\n",
       "      <th>Page Views Per Visit</th>\n",
       "      <th>...</th>\n",
       "      <th>Get updates on DM Content</th>\n",
       "      <th>Lead Profile</th>\n",
       "      <th>City</th>\n",
       "      <th>Asymmetrique Activity Index</th>\n",
       "      <th>Asymmetrique Profile Index</th>\n",
       "      <th>Asymmetrique Activity Score</th>\n",
       "      <th>Asymmetrique Profile Score</th>\n",
       "      <th>I agree to pay the amount through cheque</th>\n",
       "      <th>A free copy of Mastering The Interview</th>\n",
       "      <th>Last Notable Activity</th>\n",
       "    </tr>\n",
       "  </thead>\n",
       "  <tbody>\n",
       "    <tr>\n",
       "      <th>0</th>\n",
       "      <td>7927b2df-8bba-4d29-b9a2-b6e0beafe620</td>\n",
       "      <td>660737</td>\n",
       "      <td>API</td>\n",
       "      <td>Olark Chat</td>\n",
       "      <td>No</td>\n",
       "      <td>No</td>\n",
       "      <td>0</td>\n",
       "      <td>0.0</td>\n",
       "      <td>0</td>\n",
       "      <td>0.0</td>\n",
       "      <td>...</td>\n",
       "      <td>No</td>\n",
       "      <td>Select</td>\n",
       "      <td>Select</td>\n",
       "      <td>02.Medium</td>\n",
       "      <td>02.Medium</td>\n",
       "      <td>15.0</td>\n",
       "      <td>15.0</td>\n",
       "      <td>No</td>\n",
       "      <td>No</td>\n",
       "      <td>Modified</td>\n",
       "    </tr>\n",
       "    <tr>\n",
       "      <th>1</th>\n",
       "      <td>2a272436-5132-4136-86fa-dcc88c88f482</td>\n",
       "      <td>660728</td>\n",
       "      <td>API</td>\n",
       "      <td>Organic Search</td>\n",
       "      <td>No</td>\n",
       "      <td>No</td>\n",
       "      <td>0</td>\n",
       "      <td>5.0</td>\n",
       "      <td>674</td>\n",
       "      <td>2.5</td>\n",
       "      <td>...</td>\n",
       "      <td>No</td>\n",
       "      <td>Select</td>\n",
       "      <td>Select</td>\n",
       "      <td>02.Medium</td>\n",
       "      <td>02.Medium</td>\n",
       "      <td>15.0</td>\n",
       "      <td>15.0</td>\n",
       "      <td>No</td>\n",
       "      <td>No</td>\n",
       "      <td>Email Opened</td>\n",
       "    </tr>\n",
       "    <tr>\n",
       "      <th>2</th>\n",
       "      <td>8cc8c611-a219-4f35-ad23-fdfd2656bd8a</td>\n",
       "      <td>660727</td>\n",
       "      <td>Landing Page Submission</td>\n",
       "      <td>Direct Traffic</td>\n",
       "      <td>No</td>\n",
       "      <td>No</td>\n",
       "      <td>1</td>\n",
       "      <td>2.0</td>\n",
       "      <td>1532</td>\n",
       "      <td>2.0</td>\n",
       "      <td>...</td>\n",
       "      <td>No</td>\n",
       "      <td>Potential Lead</td>\n",
       "      <td>Mumbai</td>\n",
       "      <td>02.Medium</td>\n",
       "      <td>01.High</td>\n",
       "      <td>14.0</td>\n",
       "      <td>20.0</td>\n",
       "      <td>No</td>\n",
       "      <td>Yes</td>\n",
       "      <td>Email Opened</td>\n",
       "    </tr>\n",
       "    <tr>\n",
       "      <th>3</th>\n",
       "      <td>0cc2df48-7cf4-4e39-9de9-19797f9b38cc</td>\n",
       "      <td>660719</td>\n",
       "      <td>Landing Page Submission</td>\n",
       "      <td>Direct Traffic</td>\n",
       "      <td>No</td>\n",
       "      <td>No</td>\n",
       "      <td>0</td>\n",
       "      <td>1.0</td>\n",
       "      <td>305</td>\n",
       "      <td>1.0</td>\n",
       "      <td>...</td>\n",
       "      <td>No</td>\n",
       "      <td>Select</td>\n",
       "      <td>Mumbai</td>\n",
       "      <td>02.Medium</td>\n",
       "      <td>01.High</td>\n",
       "      <td>13.0</td>\n",
       "      <td>17.0</td>\n",
       "      <td>No</td>\n",
       "      <td>No</td>\n",
       "      <td>Modified</td>\n",
       "    </tr>\n",
       "    <tr>\n",
       "      <th>4</th>\n",
       "      <td>3256f628-e534-4826-9d63-4a8b88782852</td>\n",
       "      <td>660681</td>\n",
       "      <td>Landing Page Submission</td>\n",
       "      <td>Google</td>\n",
       "      <td>No</td>\n",
       "      <td>No</td>\n",
       "      <td>1</td>\n",
       "      <td>2.0</td>\n",
       "      <td>1428</td>\n",
       "      <td>1.0</td>\n",
       "      <td>...</td>\n",
       "      <td>No</td>\n",
       "      <td>Select</td>\n",
       "      <td>Mumbai</td>\n",
       "      <td>02.Medium</td>\n",
       "      <td>01.High</td>\n",
       "      <td>15.0</td>\n",
       "      <td>18.0</td>\n",
       "      <td>No</td>\n",
       "      <td>No</td>\n",
       "      <td>Modified</td>\n",
       "    </tr>\n",
       "  </tbody>\n",
       "</table>\n",
       "<p>5 rows × 37 columns</p>\n",
       "</div>"
      ],
      "text/plain": [
       "                            Prospect ID  Lead Number              Lead Origin  \\\n",
       "0  7927b2df-8bba-4d29-b9a2-b6e0beafe620       660737                      API   \n",
       "1  2a272436-5132-4136-86fa-dcc88c88f482       660728                      API   \n",
       "2  8cc8c611-a219-4f35-ad23-fdfd2656bd8a       660727  Landing Page Submission   \n",
       "3  0cc2df48-7cf4-4e39-9de9-19797f9b38cc       660719  Landing Page Submission   \n",
       "4  3256f628-e534-4826-9d63-4a8b88782852       660681  Landing Page Submission   \n",
       "\n",
       "      Lead Source Do Not Email Do Not Call  Converted  TotalVisits  \\\n",
       "0      Olark Chat           No          No          0          0.0   \n",
       "1  Organic Search           No          No          0          5.0   \n",
       "2  Direct Traffic           No          No          1          2.0   \n",
       "3  Direct Traffic           No          No          0          1.0   \n",
       "4          Google           No          No          1          2.0   \n",
       "\n",
       "   Total Time Spent on Website  Page Views Per Visit  ...  \\\n",
       "0                            0                   0.0  ...   \n",
       "1                          674                   2.5  ...   \n",
       "2                         1532                   2.0  ...   \n",
       "3                          305                   1.0  ...   \n",
       "4                         1428                   1.0  ...   \n",
       "\n",
       "  Get updates on DM Content    Lead Profile    City  \\\n",
       "0                        No          Select  Select   \n",
       "1                        No          Select  Select   \n",
       "2                        No  Potential Lead  Mumbai   \n",
       "3                        No          Select  Mumbai   \n",
       "4                        No          Select  Mumbai   \n",
       "\n",
       "  Asymmetrique Activity Index Asymmetrique Profile Index  \\\n",
       "0                   02.Medium                  02.Medium   \n",
       "1                   02.Medium                  02.Medium   \n",
       "2                   02.Medium                    01.High   \n",
       "3                   02.Medium                    01.High   \n",
       "4                   02.Medium                    01.High   \n",
       "\n",
       "  Asymmetrique Activity Score Asymmetrique Profile Score  \\\n",
       "0                        15.0                       15.0   \n",
       "1                        15.0                       15.0   \n",
       "2                        14.0                       20.0   \n",
       "3                        13.0                       17.0   \n",
       "4                        15.0                       18.0   \n",
       "\n",
       "  I agree to pay the amount through cheque  \\\n",
       "0                                       No   \n",
       "1                                       No   \n",
       "2                                       No   \n",
       "3                                       No   \n",
       "4                                       No   \n",
       "\n",
       "  A free copy of Mastering The Interview Last Notable Activity  \n",
       "0                                     No              Modified  \n",
       "1                                     No          Email Opened  \n",
       "2                                    Yes          Email Opened  \n",
       "3                                     No              Modified  \n",
       "4                                     No              Modified  \n",
       "\n",
       "[5 rows x 37 columns]"
      ]
     },
     "execution_count": 3,
     "metadata": {},
     "output_type": "execute_result"
    }
   ],
   "source": [
    "print(leads.shape)\n",
    "leads.head()"
   ]
  },
  {
   "cell_type": "code",
   "execution_count": 4,
   "metadata": {},
   "outputs": [
    {
     "name": "stdout",
     "output_type": "stream",
     "text": [
      "<class 'pandas.core.frame.DataFrame'>\n",
      "RangeIndex: 9240 entries, 0 to 9239\n",
      "Data columns (total 37 columns):\n",
      "Prospect ID                                      9240 non-null object\n",
      "Lead Number                                      9240 non-null int64\n",
      "Lead Origin                                      9240 non-null object\n",
      "Lead Source                                      9204 non-null object\n",
      "Do Not Email                                     9240 non-null object\n",
      "Do Not Call                                      9240 non-null object\n",
      "Converted                                        9240 non-null int64\n",
      "TotalVisits                                      9103 non-null float64\n",
      "Total Time Spent on Website                      9240 non-null int64\n",
      "Page Views Per Visit                             9103 non-null float64\n",
      "Last Activity                                    9137 non-null object\n",
      "Country                                          6779 non-null object\n",
      "Specialization                                   7802 non-null object\n",
      "How did you hear about X Education               7033 non-null object\n",
      "What is your current occupation                  6550 non-null object\n",
      "What matters most to you in choosing a course    6531 non-null object\n",
      "Search                                           9240 non-null object\n",
      "Magazine                                         9240 non-null object\n",
      "Newspaper Article                                9240 non-null object\n",
      "X Education Forums                               9240 non-null object\n",
      "Newspaper                                        9240 non-null object\n",
      "Digital Advertisement                            9240 non-null object\n",
      "Through Recommendations                          9240 non-null object\n",
      "Receive More Updates About Our Courses           9240 non-null object\n",
      "Tags                                             5887 non-null object\n",
      "Lead Quality                                     4473 non-null object\n",
      "Update me on Supply Chain Content                9240 non-null object\n",
      "Get updates on DM Content                        9240 non-null object\n",
      "Lead Profile                                     6531 non-null object\n",
      "City                                             7820 non-null object\n",
      "Asymmetrique Activity Index                      5022 non-null object\n",
      "Asymmetrique Profile Index                       5022 non-null object\n",
      "Asymmetrique Activity Score                      5022 non-null float64\n",
      "Asymmetrique Profile Score                       5022 non-null float64\n",
      "I agree to pay the amount through cheque         9240 non-null object\n",
      "A free copy of Mastering The Interview           9240 non-null object\n",
      "Last Notable Activity                            9240 non-null object\n",
      "dtypes: float64(4), int64(3), object(30)\n",
      "memory usage: 2.6+ MB\n"
     ]
    }
   ],
   "source": [
    "leads.info()"
   ]
  },
  {
   "cell_type": "code",
   "execution_count": 5,
   "metadata": {},
   "outputs": [
    {
     "data": {
      "text/plain": [
       "Prospect ID                                         0\n",
       "Lead Number                                         0\n",
       "Lead Origin                                         0\n",
       "Lead Source                                        36\n",
       "Do Not Email                                        0\n",
       "Do Not Call                                         0\n",
       "Converted                                           0\n",
       "TotalVisits                                       137\n",
       "Total Time Spent on Website                         0\n",
       "Page Views Per Visit                              137\n",
       "Last Activity                                     103\n",
       "Country                                          2461\n",
       "Specialization                                   1438\n",
       "How did you hear about X Education               2207\n",
       "What is your current occupation                  2690\n",
       "What matters most to you in choosing a course    2709\n",
       "Search                                              0\n",
       "Magazine                                            0\n",
       "Newspaper Article                                   0\n",
       "X Education Forums                                  0\n",
       "Newspaper                                           0\n",
       "Digital Advertisement                               0\n",
       "Through Recommendations                             0\n",
       "Receive More Updates About Our Courses              0\n",
       "Tags                                             3353\n",
       "Lead Quality                                     4767\n",
       "Update me on Supply Chain Content                   0\n",
       "Get updates on DM Content                           0\n",
       "Lead Profile                                     2709\n",
       "City                                             1420\n",
       "Asymmetrique Activity Index                      4218\n",
       "Asymmetrique Profile Index                       4218\n",
       "Asymmetrique Activity Score                      4218\n",
       "Asymmetrique Profile Score                       4218\n",
       "I agree to pay the amount through cheque            0\n",
       "A free copy of Mastering The Interview              0\n",
       "Last Notable Activity                               0\n",
       "dtype: int64"
      ]
     },
     "execution_count": 5,
     "metadata": {},
     "output_type": "execute_result"
    }
   ],
   "source": [
    "leads.isnull().sum(axis=0)"
   ]
  },
  {
   "cell_type": "code",
   "execution_count": 6,
   "metadata": {},
   "outputs": [
    {
     "data": {
      "text/plain": [
       "Prospect ID                                       0.00\n",
       "Lead Number                                       0.00\n",
       "Lead Origin                                       0.00\n",
       "Lead Source                                       0.39\n",
       "Do Not Email                                      0.00\n",
       "Do Not Call                                       0.00\n",
       "Converted                                         0.00\n",
       "TotalVisits                                       1.48\n",
       "Total Time Spent on Website                       0.00\n",
       "Page Views Per Visit                              1.48\n",
       "Last Activity                                     1.11\n",
       "Country                                          26.63\n",
       "Specialization                                   15.56\n",
       "How did you hear about X Education               23.89\n",
       "What is your current occupation                  29.11\n",
       "What matters most to you in choosing a course    29.32\n",
       "Search                                            0.00\n",
       "Magazine                                          0.00\n",
       "Newspaper Article                                 0.00\n",
       "X Education Forums                                0.00\n",
       "Newspaper                                         0.00\n",
       "Digital Advertisement                             0.00\n",
       "Through Recommendations                           0.00\n",
       "Receive More Updates About Our Courses            0.00\n",
       "Tags                                             36.29\n",
       "Lead Quality                                     51.59\n",
       "Update me on Supply Chain Content                 0.00\n",
       "Get updates on DM Content                         0.00\n",
       "Lead Profile                                     29.32\n",
       "City                                             15.37\n",
       "Asymmetrique Activity Index                      45.65\n",
       "Asymmetrique Profile Index                       45.65\n",
       "Asymmetrique Activity Score                      45.65\n",
       "Asymmetrique Profile Score                       45.65\n",
       "I agree to pay the amount through cheque          0.00\n",
       "A free copy of Mastering The Interview            0.00\n",
       "Last Notable Activity                             0.00\n",
       "dtype: float64"
      ]
     },
     "execution_count": 6,
     "metadata": {},
     "output_type": "execute_result"
    }
   ],
   "source": [
    "round(100*(leads.isnull().sum()/len(leads.index)),2)"
   ]
  },
  {
   "cell_type": "markdown",
   "metadata": {},
   "source": [
    " - ### Observations -\n",
    "    a. There are columns where we see many null values. Such as \n",
    "        1. Country - 26.63%\n",
    "        2. Specialization - 15.56%\n",
    "        3. How did you hear about X Education - 23.89%\n",
    "        4. What is your current occupation - 29.11%\n",
    "        5. What matters most to you in choosing a course - 29.32%\n",
    "        6. Tags - 36.29%\n",
    "        7. Lead Quality - 51.59%\n",
    "        8. Lead Profile - 29.32%\n",
    "        9. Asymmetrique Activity Index- 45.65%\n",
    "        10. Asymmetrique Profile Index - 45.65%\n",
    "        11. Asymmetrique Activity Score - 45.65%\n",
    "        12. Asymmetrique Profile Score - 45.65%\n",
    "    b. We need to carefully examine them for further processing."
   ]
  },
  {
   "cell_type": "markdown",
   "metadata": {},
   "source": [
    "### Cleaning the Data"
   ]
  },
  {
   "cell_type": "code",
   "execution_count": 7,
   "metadata": {},
   "outputs": [],
   "source": [
    "# Dropping the Prospect ID and Lead number since they possess unique identifier.\n",
    "leads= leads.drop(['Prospect ID','Lead Number'],axis=1)"
   ]
  },
  {
   "cell_type": "code",
   "execution_count": 8,
   "metadata": {},
   "outputs": [],
   "source": [
    "# Dropping columns where we have many null values\n",
    "leads= leads.drop(['Country','City','Asymmetrique Activity Index','Asymmetrique Profile Index',\n",
    "                   'Asymmetrique Activity Score','Asymmetrique Profile Score','Lead Quality','Tags'],axis=1)"
   ]
  },
  {
   "cell_type": "code",
   "execution_count": 9,
   "metadata": {},
   "outputs": [],
   "source": [
    "## Based on analysis, dropping the columns which do not have any variation.\n",
    "leads= leads.drop(['Magazine','Receive More Updates About Our Courses','Update me on Supply Chain Content',\n",
    "                   'Get updates on DM Content','I agree to pay the amount through cheque'],axis=1)"
   ]
  },
  {
   "cell_type": "code",
   "execution_count": 10,
   "metadata": {},
   "outputs": [
    {
     "data": {
      "text/plain": [
       "No     9239\n",
       "Yes       1\n",
       "Name: Newspaper, dtype: int64"
      ]
     },
     "execution_count": 10,
     "metadata": {},
     "output_type": "execute_result"
    }
   ],
   "source": [
    "# Let's check the null values in column NewsPaper\n",
    "leads['Newspaper'].value_counts(dropna=False)"
   ]
  },
  {
   "cell_type": "code",
   "execution_count": 11,
   "metadata": {},
   "outputs": [],
   "source": [
    "# Based on analysis, dropping the Newspaper column, since it does not have any variation.\n",
    "leads= leads.drop(['Newspaper'],axis=1)"
   ]
  },
  {
   "cell_type": "code",
   "execution_count": 12,
   "metadata": {},
   "outputs": [
    {
     "data": {
      "text/plain": [
       "No     9238\n",
       "Yes       2\n",
       "Name: Newspaper Article, dtype: int64"
      ]
     },
     "execution_count": 12,
     "metadata": {},
     "output_type": "execute_result"
    }
   ],
   "source": [
    "# Let's check the null values in column 'NewsPaper Article'\n",
    "leads['Newspaper Article'].value_counts(dropna=False)"
   ]
  },
  {
   "cell_type": "code",
   "execution_count": 13,
   "metadata": {},
   "outputs": [],
   "source": [
    "# Based on analysis, dropping the 'Newspaper Article' column, since it does not have any variation.\n",
    "leads= leads.drop(['Newspaper Article'],axis=1)"
   ]
  },
  {
   "cell_type": "code",
   "execution_count": 14,
   "metadata": {},
   "outputs": [
    {
     "data": {
      "text/plain": [
       "No     9239\n",
       "Yes       1\n",
       "Name: X Education Forums, dtype: int64"
      ]
     },
     "execution_count": 14,
     "metadata": {},
     "output_type": "execute_result"
    }
   ],
   "source": [
    "# Let's check the null values in column 'X Education Forums'\n",
    "leads['X Education Forums'].value_counts(dropna=False)"
   ]
  },
  {
   "cell_type": "code",
   "execution_count": 15,
   "metadata": {},
   "outputs": [],
   "source": [
    "# Based on analysis, dropping the 'X Education Forums' column, since it does not have any variation.\n",
    "leads= leads.drop(['X Education Forums'],axis=1)"
   ]
  },
  {
   "cell_type": "code",
   "execution_count": 16,
   "metadata": {},
   "outputs": [
    {
     "data": {
      "text/plain": [
       "Select                         44.87\n",
       "NaN                            29.32\n",
       "Potential Lead                 17.46\n",
       "Other Leads                     5.27\n",
       "Student of SomeSchool           2.61\n",
       "Lateral Student                 0.26\n",
       "Dual Specialization Student     0.22\n",
       "Name: Lead Profile, dtype: float64"
      ]
     },
     "execution_count": 16,
     "metadata": {},
     "output_type": "execute_result"
    }
   ],
   "source": [
    "# Let's check the null values in column Lead Profile\n",
    "round(100*(leads['Lead Profile'].value_counts(dropna=False)/len(leads.index)),2)"
   ]
  },
  {
   "cell_type": "code",
   "execution_count": 17,
   "metadata": {},
   "outputs": [],
   "source": [
    "## Based on analysis of Lead Profile column, Select and null values contributes more than 70%. Hence we will drop it.\n",
    "leads= leads.drop(['Lead Profile'],axis=1)"
   ]
  },
  {
   "cell_type": "code",
   "execution_count": 18,
   "metadata": {},
   "outputs": [
    {
     "data": {
      "text/plain": [
       "Select                   54.58\n",
       "NaN                      23.89\n",
       "Online Search             8.74\n",
       "Word Of Mouth             3.77\n",
       "Student of SomeSchool     3.35\n",
       "Other                     2.01\n",
       "Multiple Sources          1.65\n",
       "Advertisements            0.76\n",
       "Social Media              0.73\n",
       "Email                     0.28\n",
       "SMS                       0.25\n",
       "Name: How did you hear about X Education, dtype: float64"
      ]
     },
     "execution_count": 18,
     "metadata": {},
     "output_type": "execute_result"
    }
   ],
   "source": [
    "# Let's check the null values in column How did you hear about X Education\n",
    "round(100*(leads['How did you hear about X Education'].value_counts(dropna=False)/len(leads.index)),2)"
   ]
  },
  {
   "cell_type": "code",
   "execution_count": 19,
   "metadata": {},
   "outputs": [],
   "source": [
    "## Based on analysis of How did you hear about X Education column, Select and null values contributes more than 75%. \n",
    "#Hence we will drop it.\n",
    "leads= leads.drop(['How did you hear about X Education'],axis=1)"
   ]
  },
  {
   "cell_type": "code",
   "execution_count": 20,
   "metadata": {},
   "outputs": [
    {
     "data": {
      "text/plain": [
       "Select                               21.02\n",
       "NaN                                  15.56\n",
       "Finance Management                   10.56\n",
       "Human Resource Management             9.18\n",
       "Marketing Management                  9.07\n",
       "Operations Management                 5.44\n",
       "Business Administration               4.36\n",
       "IT Projects Management                3.96\n",
       "Supply Chain Management               3.78\n",
       "Banking, Investment And Insurance     3.66\n",
       "Media and Advertising                 2.20\n",
       "Travel and Tourism                    2.20\n",
       "International Business                1.93\n",
       "Healthcare Management                 1.72\n",
       "Hospitality Management                1.23\n",
       "E-COMMERCE                            1.21\n",
       "Retail Management                     1.08\n",
       "Rural and Agribusiness                0.79\n",
       "E-Business                            0.62\n",
       "Services Excellence                   0.43\n",
       "Name: Specialization, dtype: float64"
      ]
     },
     "execution_count": 20,
     "metadata": {},
     "output_type": "execute_result"
    }
   ],
   "source": [
    "# Let's check the null values in column How did you hear about X Education\n",
    "round(100*(leads['Specialization'].value_counts(dropna=False)/len(leads.index)),2)"
   ]
  },
  {
   "cell_type": "code",
   "execution_count": 21,
   "metadata": {},
   "outputs": [],
   "source": [
    "## Based on analysis of 'Specialization' column, Select and null values contributes more than 36%. \n",
    "#Hence we will drop it.\n",
    "leads= leads.drop(['Specialization'],axis=1)"
   ]
  },
  {
   "cell_type": "markdown",
   "metadata": {},
   "source": [
    "### Imputing the values"
   ]
  },
  {
   "cell_type": "code",
   "execution_count": 22,
   "metadata": {},
   "outputs": [],
   "source": [
    "## Occupation is important information to keep. So imputing nan values to others \n",
    "leads['What is your current occupation']=leads['What is your current occupation'].replace(to_replace=np.nan,value='Other')"
   ]
  },
  {
   "cell_type": "code",
   "execution_count": 23,
   "metadata": {},
   "outputs": [
    {
     "data": {
      "text/plain": [
       "count    9103.000000\n",
       "mean        3.445238\n",
       "std         4.854853\n",
       "min         0.000000\n",
       "25%         1.000000\n",
       "50%         3.000000\n",
       "75%         5.000000\n",
       "max       251.000000\n",
       "Name: TotalVisits, dtype: float64"
      ]
     },
     "execution_count": 23,
     "metadata": {},
     "output_type": "execute_result"
    }
   ],
   "source": [
    "# TotalVisits 1.~1.5% nan values. Let's check the stats of this column.\n",
    "leads['TotalVisits'].describe()"
   ]
  },
  {
   "cell_type": "code",
   "execution_count": 24,
   "metadata": {},
   "outputs": [],
   "source": [
    "# Based on TotalVisits stats, we can impute nan values with median value 3.0\n",
    "leads['TotalVisits']=leads['TotalVisits'].replace(to_replace=[np.nan],value=3.0)"
   ]
  },
  {
   "cell_type": "code",
   "execution_count": 25,
   "metadata": {},
   "outputs": [
    {
     "data": {
      "text/plain": [
       "count    9103.000000\n",
       "mean        2.362820\n",
       "std         2.161418\n",
       "min         0.000000\n",
       "25%         1.000000\n",
       "50%         2.000000\n",
       "75%         3.000000\n",
       "max        55.000000\n",
       "Name: Page Views Per Visit, dtype: float64"
      ]
     },
     "execution_count": 25,
     "metadata": {},
     "output_type": "execute_result"
    }
   ],
   "source": [
    "# TotalVisits 1.~1.5% nan values. Let's check the stats of this comumn.\n",
    "leads['Page Views Per Visit'].describe()"
   ]
  },
  {
   "cell_type": "code",
   "execution_count": 26,
   "metadata": {},
   "outputs": [],
   "source": [
    "# Based on Page Views Per Visit stats, we can impute nan values with median value 2.0\n",
    "leads['Page Views Per Visit']=leads['Page Views Per Visit'].replace(to_replace=[np.nan],value=2.0)"
   ]
  },
  {
   "cell_type": "code",
   "execution_count": 27,
   "metadata": {},
   "outputs": [],
   "source": [
    "## Last Activity has nearly 1.1 % null values and it is important information to keep. So imputing nan values to others \n",
    "leads['Last Activity']=leads['Last Activity'].replace(to_replace=[np.nan],value='Other')"
   ]
  },
  {
   "cell_type": "code",
   "execution_count": 28,
   "metadata": {},
   "outputs": [
    {
     "data": {
      "text/plain": [
       "Better Career Prospects      6528\n",
       "NaN                          2709\n",
       "Flexibility & Convenience       2\n",
       "Other                           1\n",
       "Name: What matters most to you in choosing a course, dtype: int64"
      ]
     },
     "execution_count": 28,
     "metadata": {},
     "output_type": "execute_result"
    }
   ],
   "source": [
    "#round(100*(leads['What matters most to you in choosing a course'].value_counts(dropna=False)/len(leads.index)),2)\n",
    "leads['What matters most to you in choosing a course'].value_counts(dropna=False)"
   ]
  },
  {
   "cell_type": "code",
   "execution_count": 29,
   "metadata": {},
   "outputs": [],
   "source": [
    "# Based on TotalVisits stats, we can impute nan values with median value 3.0\n",
    "leads['What matters most to you in choosing a course']=leads['What matters most to you in choosing a course'].replace(to_replace=[np.nan],value='Other')"
   ]
  },
  {
   "cell_type": "code",
   "execution_count": 30,
   "metadata": {},
   "outputs": [],
   "source": [
    "# Filling the NaN values which is 0.39% in the 'lead Source' column with Google as it is very popular\n",
    "leads.loc[pd.isnull(leads['Lead Source']),['Lead Source']]='Google'"
   ]
  },
  {
   "cell_type": "markdown",
   "metadata": {},
   "source": [
    "### Data Preparation"
   ]
  },
  {
   "cell_type": "code",
   "execution_count": 31,
   "metadata": {},
   "outputs": [
    {
     "name": "stdout",
     "output_type": "stream",
     "text": [
      "<class 'pandas.core.frame.DataFrame'>\n",
      "RangeIndex: 9240 entries, 0 to 9239\n",
      "Data columns (total 16 columns):\n",
      "Lead Origin                                      9240 non-null object\n",
      "Lead Source                                      9240 non-null object\n",
      "Do Not Email                                     9240 non-null object\n",
      "Do Not Call                                      9240 non-null object\n",
      "Converted                                        9240 non-null int64\n",
      "TotalVisits                                      9240 non-null float64\n",
      "Total Time Spent on Website                      9240 non-null int64\n",
      "Page Views Per Visit                             9240 non-null float64\n",
      "Last Activity                                    9240 non-null object\n",
      "What is your current occupation                  9240 non-null object\n",
      "What matters most to you in choosing a course    9240 non-null object\n",
      "Search                                           9240 non-null object\n",
      "Digital Advertisement                            9240 non-null object\n",
      "Through Recommendations                          9240 non-null object\n",
      "A free copy of Mastering The Interview           9240 non-null object\n",
      "Last Notable Activity                            9240 non-null object\n",
      "dtypes: float64(2), int64(2), object(12)\n",
      "memory usage: 1.1+ MB\n"
     ]
    }
   ],
   "source": [
    "leads.info()"
   ]
  },
  {
   "cell_type": "code",
   "execution_count": 32,
   "metadata": {},
   "outputs": [],
   "source": [
    "## Based on analysis, below columns contain values Yes or No. So replacing them with 1 or 0\n",
    "varlist=['Search','Digital Advertisement','Through Recommendations','Do Not Email','Do Not Call',\n",
    "         'A free copy of Mastering The Interview']"
   ]
  },
  {
   "cell_type": "code",
   "execution_count": 33,
   "metadata": {},
   "outputs": [],
   "source": [
    "## Yes & No values converted to 1 & 0\n",
    "leads[varlist]=leads[varlist].replace(to_replace={'No':0,'Yes':1})"
   ]
  },
  {
   "cell_type": "code",
   "execution_count": 34,
   "metadata": {},
   "outputs": [
    {
     "data": {
      "text/html": [
       "<div>\n",
       "<style scoped>\n",
       "    .dataframe tbody tr th:only-of-type {\n",
       "        vertical-align: middle;\n",
       "    }\n",
       "\n",
       "    .dataframe tbody tr th {\n",
       "        vertical-align: top;\n",
       "    }\n",
       "\n",
       "    .dataframe thead th {\n",
       "        text-align: right;\n",
       "    }\n",
       "</style>\n",
       "<table border=\"1\" class=\"dataframe\">\n",
       "  <thead>\n",
       "    <tr style=\"text-align: right;\">\n",
       "      <th></th>\n",
       "      <th>Lead Origin</th>\n",
       "      <th>Lead Source</th>\n",
       "      <th>Do Not Email</th>\n",
       "      <th>Do Not Call</th>\n",
       "      <th>Converted</th>\n",
       "      <th>TotalVisits</th>\n",
       "      <th>Total Time Spent on Website</th>\n",
       "      <th>Page Views Per Visit</th>\n",
       "      <th>Last Activity</th>\n",
       "      <th>What is your current occupation</th>\n",
       "      <th>What matters most to you in choosing a course</th>\n",
       "      <th>Search</th>\n",
       "      <th>Digital Advertisement</th>\n",
       "      <th>Through Recommendations</th>\n",
       "      <th>A free copy of Mastering The Interview</th>\n",
       "      <th>Last Notable Activity</th>\n",
       "    </tr>\n",
       "  </thead>\n",
       "  <tbody>\n",
       "    <tr>\n",
       "      <th>0</th>\n",
       "      <td>API</td>\n",
       "      <td>Olark Chat</td>\n",
       "      <td>0</td>\n",
       "      <td>0</td>\n",
       "      <td>0</td>\n",
       "      <td>0.0</td>\n",
       "      <td>0</td>\n",
       "      <td>0.0</td>\n",
       "      <td>Page Visited on Website</td>\n",
       "      <td>Unemployed</td>\n",
       "      <td>Better Career Prospects</td>\n",
       "      <td>0</td>\n",
       "      <td>0</td>\n",
       "      <td>0</td>\n",
       "      <td>0</td>\n",
       "      <td>Modified</td>\n",
       "    </tr>\n",
       "    <tr>\n",
       "      <th>1</th>\n",
       "      <td>API</td>\n",
       "      <td>Organic Search</td>\n",
       "      <td>0</td>\n",
       "      <td>0</td>\n",
       "      <td>0</td>\n",
       "      <td>5.0</td>\n",
       "      <td>674</td>\n",
       "      <td>2.5</td>\n",
       "      <td>Email Opened</td>\n",
       "      <td>Unemployed</td>\n",
       "      <td>Better Career Prospects</td>\n",
       "      <td>0</td>\n",
       "      <td>0</td>\n",
       "      <td>0</td>\n",
       "      <td>0</td>\n",
       "      <td>Email Opened</td>\n",
       "    </tr>\n",
       "    <tr>\n",
       "      <th>2</th>\n",
       "      <td>Landing Page Submission</td>\n",
       "      <td>Direct Traffic</td>\n",
       "      <td>0</td>\n",
       "      <td>0</td>\n",
       "      <td>1</td>\n",
       "      <td>2.0</td>\n",
       "      <td>1532</td>\n",
       "      <td>2.0</td>\n",
       "      <td>Email Opened</td>\n",
       "      <td>Student</td>\n",
       "      <td>Better Career Prospects</td>\n",
       "      <td>0</td>\n",
       "      <td>0</td>\n",
       "      <td>0</td>\n",
       "      <td>1</td>\n",
       "      <td>Email Opened</td>\n",
       "    </tr>\n",
       "    <tr>\n",
       "      <th>3</th>\n",
       "      <td>Landing Page Submission</td>\n",
       "      <td>Direct Traffic</td>\n",
       "      <td>0</td>\n",
       "      <td>0</td>\n",
       "      <td>0</td>\n",
       "      <td>1.0</td>\n",
       "      <td>305</td>\n",
       "      <td>1.0</td>\n",
       "      <td>Unreachable</td>\n",
       "      <td>Unemployed</td>\n",
       "      <td>Better Career Prospects</td>\n",
       "      <td>0</td>\n",
       "      <td>0</td>\n",
       "      <td>0</td>\n",
       "      <td>0</td>\n",
       "      <td>Modified</td>\n",
       "    </tr>\n",
       "    <tr>\n",
       "      <th>4</th>\n",
       "      <td>Landing Page Submission</td>\n",
       "      <td>Google</td>\n",
       "      <td>0</td>\n",
       "      <td>0</td>\n",
       "      <td>1</td>\n",
       "      <td>2.0</td>\n",
       "      <td>1428</td>\n",
       "      <td>1.0</td>\n",
       "      <td>Converted to Lead</td>\n",
       "      <td>Unemployed</td>\n",
       "      <td>Better Career Prospects</td>\n",
       "      <td>0</td>\n",
       "      <td>0</td>\n",
       "      <td>0</td>\n",
       "      <td>0</td>\n",
       "      <td>Modified</td>\n",
       "    </tr>\n",
       "    <tr>\n",
       "      <th>5</th>\n",
       "      <td>API</td>\n",
       "      <td>Olark Chat</td>\n",
       "      <td>0</td>\n",
       "      <td>0</td>\n",
       "      <td>0</td>\n",
       "      <td>0.0</td>\n",
       "      <td>0</td>\n",
       "      <td>0.0</td>\n",
       "      <td>Olark Chat Conversation</td>\n",
       "      <td>Other</td>\n",
       "      <td>Other</td>\n",
       "      <td>0</td>\n",
       "      <td>0</td>\n",
       "      <td>0</td>\n",
       "      <td>0</td>\n",
       "      <td>Modified</td>\n",
       "    </tr>\n",
       "    <tr>\n",
       "      <th>6</th>\n",
       "      <td>Landing Page Submission</td>\n",
       "      <td>Google</td>\n",
       "      <td>0</td>\n",
       "      <td>0</td>\n",
       "      <td>1</td>\n",
       "      <td>2.0</td>\n",
       "      <td>1640</td>\n",
       "      <td>2.0</td>\n",
       "      <td>Email Opened</td>\n",
       "      <td>Unemployed</td>\n",
       "      <td>Better Career Prospects</td>\n",
       "      <td>0</td>\n",
       "      <td>0</td>\n",
       "      <td>0</td>\n",
       "      <td>0</td>\n",
       "      <td>Modified</td>\n",
       "    </tr>\n",
       "    <tr>\n",
       "      <th>7</th>\n",
       "      <td>API</td>\n",
       "      <td>Olark Chat</td>\n",
       "      <td>0</td>\n",
       "      <td>0</td>\n",
       "      <td>0</td>\n",
       "      <td>0.0</td>\n",
       "      <td>0</td>\n",
       "      <td>0.0</td>\n",
       "      <td>Olark Chat Conversation</td>\n",
       "      <td>Other</td>\n",
       "      <td>Other</td>\n",
       "      <td>0</td>\n",
       "      <td>0</td>\n",
       "      <td>0</td>\n",
       "      <td>0</td>\n",
       "      <td>Modified</td>\n",
       "    </tr>\n",
       "    <tr>\n",
       "      <th>8</th>\n",
       "      <td>Landing Page Submission</td>\n",
       "      <td>Direct Traffic</td>\n",
       "      <td>0</td>\n",
       "      <td>0</td>\n",
       "      <td>0</td>\n",
       "      <td>2.0</td>\n",
       "      <td>71</td>\n",
       "      <td>2.0</td>\n",
       "      <td>Email Opened</td>\n",
       "      <td>Other</td>\n",
       "      <td>Other</td>\n",
       "      <td>0</td>\n",
       "      <td>0</td>\n",
       "      <td>0</td>\n",
       "      <td>1</td>\n",
       "      <td>Email Opened</td>\n",
       "    </tr>\n",
       "    <tr>\n",
       "      <th>9</th>\n",
       "      <td>API</td>\n",
       "      <td>Google</td>\n",
       "      <td>0</td>\n",
       "      <td>0</td>\n",
       "      <td>0</td>\n",
       "      <td>4.0</td>\n",
       "      <td>58</td>\n",
       "      <td>4.0</td>\n",
       "      <td>Email Opened</td>\n",
       "      <td>Other</td>\n",
       "      <td>Other</td>\n",
       "      <td>0</td>\n",
       "      <td>0</td>\n",
       "      <td>0</td>\n",
       "      <td>0</td>\n",
       "      <td>Email Opened</td>\n",
       "    </tr>\n",
       "  </tbody>\n",
       "</table>\n",
       "</div>"
      ],
      "text/plain": [
       "               Lead Origin     Lead Source  Do Not Email  Do Not Call  \\\n",
       "0                      API      Olark Chat             0            0   \n",
       "1                      API  Organic Search             0            0   \n",
       "2  Landing Page Submission  Direct Traffic             0            0   \n",
       "3  Landing Page Submission  Direct Traffic             0            0   \n",
       "4  Landing Page Submission          Google             0            0   \n",
       "5                      API      Olark Chat             0            0   \n",
       "6  Landing Page Submission          Google             0            0   \n",
       "7                      API      Olark Chat             0            0   \n",
       "8  Landing Page Submission  Direct Traffic             0            0   \n",
       "9                      API          Google             0            0   \n",
       "\n",
       "   Converted  TotalVisits  Total Time Spent on Website  Page Views Per Visit  \\\n",
       "0          0          0.0                            0                   0.0   \n",
       "1          0          5.0                          674                   2.5   \n",
       "2          1          2.0                         1532                   2.0   \n",
       "3          0          1.0                          305                   1.0   \n",
       "4          1          2.0                         1428                   1.0   \n",
       "5          0          0.0                            0                   0.0   \n",
       "6          1          2.0                         1640                   2.0   \n",
       "7          0          0.0                            0                   0.0   \n",
       "8          0          2.0                           71                   2.0   \n",
       "9          0          4.0                           58                   4.0   \n",
       "\n",
       "             Last Activity What is your current occupation  \\\n",
       "0  Page Visited on Website                      Unemployed   \n",
       "1             Email Opened                      Unemployed   \n",
       "2             Email Opened                         Student   \n",
       "3              Unreachable                      Unemployed   \n",
       "4        Converted to Lead                      Unemployed   \n",
       "5  Olark Chat Conversation                           Other   \n",
       "6             Email Opened                      Unemployed   \n",
       "7  Olark Chat Conversation                           Other   \n",
       "8             Email Opened                           Other   \n",
       "9             Email Opened                           Other   \n",
       "\n",
       "  What matters most to you in choosing a course  Search  \\\n",
       "0                       Better Career Prospects       0   \n",
       "1                       Better Career Prospects       0   \n",
       "2                       Better Career Prospects       0   \n",
       "3                       Better Career Prospects       0   \n",
       "4                       Better Career Prospects       0   \n",
       "5                                         Other       0   \n",
       "6                       Better Career Prospects       0   \n",
       "7                                         Other       0   \n",
       "8                                         Other       0   \n",
       "9                                         Other       0   \n",
       "\n",
       "   Digital Advertisement  Through Recommendations  \\\n",
       "0                      0                        0   \n",
       "1                      0                        0   \n",
       "2                      0                        0   \n",
       "3                      0                        0   \n",
       "4                      0                        0   \n",
       "5                      0                        0   \n",
       "6                      0                        0   \n",
       "7                      0                        0   \n",
       "8                      0                        0   \n",
       "9                      0                        0   \n",
       "\n",
       "   A free copy of Mastering The Interview Last Notable Activity  \n",
       "0                                       0              Modified  \n",
       "1                                       0          Email Opened  \n",
       "2                                       1          Email Opened  \n",
       "3                                       0              Modified  \n",
       "4                                       0              Modified  \n",
       "5                                       0              Modified  \n",
       "6                                       0              Modified  \n",
       "7                                       0              Modified  \n",
       "8                                       1          Email Opened  \n",
       "9                                       0          Email Opened  "
      ]
     },
     "execution_count": 34,
     "metadata": {},
     "output_type": "execute_result"
    }
   ],
   "source": [
    "leads.head(10)"
   ]
  },
  {
   "cell_type": "code",
   "execution_count": 35,
   "metadata": {},
   "outputs": [
    {
     "name": "stdout",
     "output_type": "stream",
     "text": [
      "(9240, 16)\n"
     ]
    },
    {
     "data": {
      "text/plain": [
       "Lead Origin                                      0.0\n",
       "Lead Source                                      0.0\n",
       "Do Not Email                                     0.0\n",
       "Do Not Call                                      0.0\n",
       "Converted                                        0.0\n",
       "TotalVisits                                      0.0\n",
       "Total Time Spent on Website                      0.0\n",
       "Page Views Per Visit                             0.0\n",
       "Last Activity                                    0.0\n",
       "What is your current occupation                  0.0\n",
       "What matters most to you in choosing a course    0.0\n",
       "Search                                           0.0\n",
       "Digital Advertisement                            0.0\n",
       "Through Recommendations                          0.0\n",
       "A free copy of Mastering The Interview           0.0\n",
       "Last Notable Activity                            0.0\n",
       "dtype: float64"
      ]
     },
     "execution_count": 35,
     "metadata": {},
     "output_type": "execute_result"
    }
   ],
   "source": [
    "print(leads.shape)\n",
    "round(100*(leads.isnull().sum()/len(leads.index)),2)"
   ]
  },
  {
   "cell_type": "code",
   "execution_count": 36,
   "metadata": {},
   "outputs": [
    {
     "name": "stdout",
     "output_type": "stream",
     "text": [
      "<class 'pandas.core.frame.DataFrame'>\n",
      "RangeIndex: 9240 entries, 0 to 9239\n",
      "Data columns (total 16 columns):\n",
      "Lead Origin                                      9240 non-null object\n",
      "Lead Source                                      9240 non-null object\n",
      "Do Not Email                                     9240 non-null int64\n",
      "Do Not Call                                      9240 non-null int64\n",
      "Converted                                        9240 non-null int64\n",
      "TotalVisits                                      9240 non-null float64\n",
      "Total Time Spent on Website                      9240 non-null int64\n",
      "Page Views Per Visit                             9240 non-null float64\n",
      "Last Activity                                    9240 non-null object\n",
      "What is your current occupation                  9240 non-null object\n",
      "What matters most to you in choosing a course    9240 non-null object\n",
      "Search                                           9240 non-null int64\n",
      "Digital Advertisement                            9240 non-null int64\n",
      "Through Recommendations                          9240 non-null int64\n",
      "A free copy of Mastering The Interview           9240 non-null int64\n",
      "Last Notable Activity                            9240 non-null object\n",
      "dtypes: float64(2), int64(8), object(6)\n",
      "memory usage: 1.1+ MB\n"
     ]
    }
   ],
   "source": [
    "leads.info()"
   ]
  },
  {
   "cell_type": "code",
   "execution_count": 37,
   "metadata": {},
   "outputs": [
    {
     "data": {
      "image/png": "[encoded data removed]",
      "text/plain": [
       "<Figure size 1440x720 with 2 Axes>"
      ]
     },
     "metadata": {
      "needs_background": "light"
     },
     "output_type": "display_data"
    }
   ],
   "source": [
    "# Let's see the correlation matrix \n",
    "plt.figure(figsize = (20,10))        # Size of the figure\n",
    "sns.heatmap(leads.corr(),annot = True)\n",
    "plt.show()"
   ]
  },
  {
   "cell_type": "markdown",
   "metadata": {},
   "source": [
    "#### Observtions - \n",
    "    - Total VIsits seems highly corelated with Page views per visit."
   ]
  },
  {
   "cell_type": "markdown",
   "metadata": {},
   "source": [
    "### Outlier Treatment"
   ]
  },
  {
   "cell_type": "code",
   "execution_count": 38,
   "metadata": {},
   "outputs": [
    {
     "data": {
      "text/html": [
       "<div>\n",
       "<style scoped>\n",
       "    .dataframe tbody tr th:only-of-type {\n",
       "        vertical-align: middle;\n",
       "    }\n",
       "\n",
       "    .dataframe tbody tr th {\n",
       "        vertical-align: top;\n",
       "    }\n",
       "\n",
       "    .dataframe thead th {\n",
       "        text-align: right;\n",
       "    }\n",
       "</style>\n",
       "<table border=\"1\" class=\"dataframe\">\n",
       "  <thead>\n",
       "    <tr style=\"text-align: right;\">\n",
       "      <th></th>\n",
       "      <th>TotalVisits</th>\n",
       "      <th>Page Views Per Visit</th>\n",
       "      <th>Total Time Spent on Website</th>\n",
       "    </tr>\n",
       "  </thead>\n",
       "  <tbody>\n",
       "    <tr>\n",
       "      <th>count</th>\n",
       "      <td>9240.000000</td>\n",
       "      <td>9240.000000</td>\n",
       "      <td>9240.000000</td>\n",
       "    </tr>\n",
       "    <tr>\n",
       "      <th>mean</th>\n",
       "      <td>3.438636</td>\n",
       "      <td>2.357440</td>\n",
       "      <td>487.698268</td>\n",
       "    </tr>\n",
       "    <tr>\n",
       "      <th>std</th>\n",
       "      <td>4.819024</td>\n",
       "      <td>2.145781</td>\n",
       "      <td>548.021466</td>\n",
       "    </tr>\n",
       "    <tr>\n",
       "      <th>min</th>\n",
       "      <td>0.000000</td>\n",
       "      <td>0.000000</td>\n",
       "      <td>0.000000</td>\n",
       "    </tr>\n",
       "    <tr>\n",
       "      <th>25%</th>\n",
       "      <td>1.000000</td>\n",
       "      <td>1.000000</td>\n",
       "      <td>12.000000</td>\n",
       "    </tr>\n",
       "    <tr>\n",
       "      <th>50%</th>\n",
       "      <td>3.000000</td>\n",
       "      <td>2.000000</td>\n",
       "      <td>248.000000</td>\n",
       "    </tr>\n",
       "    <tr>\n",
       "      <th>75%</th>\n",
       "      <td>5.000000</td>\n",
       "      <td>3.000000</td>\n",
       "      <td>936.000000</td>\n",
       "    </tr>\n",
       "    <tr>\n",
       "      <th>90%</th>\n",
       "      <td>7.000000</td>\n",
       "      <td>5.000000</td>\n",
       "      <td>1380.000000</td>\n",
       "    </tr>\n",
       "    <tr>\n",
       "      <th>95%</th>\n",
       "      <td>10.000000</td>\n",
       "      <td>6.000000</td>\n",
       "      <td>1562.000000</td>\n",
       "    </tr>\n",
       "    <tr>\n",
       "      <th>99%</th>\n",
       "      <td>17.000000</td>\n",
       "      <td>9.000000</td>\n",
       "      <td>1840.610000</td>\n",
       "    </tr>\n",
       "    <tr>\n",
       "      <th>max</th>\n",
       "      <td>251.000000</td>\n",
       "      <td>55.000000</td>\n",
       "      <td>2272.000000</td>\n",
       "    </tr>\n",
       "  </tbody>\n",
       "</table>\n",
       "</div>"
      ],
      "text/plain": [
       "       TotalVisits  Page Views Per Visit  Total Time Spent on Website\n",
       "count  9240.000000           9240.000000                  9240.000000\n",
       "mean      3.438636              2.357440                   487.698268\n",
       "std       4.819024              2.145781                   548.021466\n",
       "min       0.000000              0.000000                     0.000000\n",
       "25%       1.000000              1.000000                    12.000000\n",
       "50%       3.000000              2.000000                   248.000000\n",
       "75%       5.000000              3.000000                   936.000000\n",
       "90%       7.000000              5.000000                  1380.000000\n",
       "95%      10.000000              6.000000                  1562.000000\n",
       "99%      17.000000              9.000000                  1840.610000\n",
       "max     251.000000             55.000000                  2272.000000"
      ]
     },
     "execution_count": 38,
     "metadata": {},
     "output_type": "execute_result"
    }
   ],
   "source": [
    "# Checking for outliers in the continuous variables\n",
    "leads_temp = leads[['TotalVisits','Page Views Per Visit','Total Time Spent on Website' ]]\n",
    "\n",
    "# Checking outliers at 25%, 50%, 75%, 90%, 95% and 99%\n",
    "leads_temp.describe(percentiles=[.25, .5, .75, .90, .95, .99])"
   ]
  },
  {
   "cell_type": "code",
   "execution_count": 39,
   "metadata": {},
   "outputs": [
    {
     "data": {
      "image/png": "[encoded data removed]",
      "text/plain": [
       "<Figure size 432x288 with 1 Axes>"
      ]
     },
     "metadata": {
      "needs_background": "light"
     },
     "output_type": "display_data"
    }
   ],
   "source": [
    "# Outlier Treatment\n",
    "plt.boxplot(leads['TotalVisits'])\n",
    "Q1 =leads['TotalVisits'].quantile(0.25)\n",
    "Q3 = leads['TotalVisits'].quantile(0.75)\n",
    "IQR = Q3 - Q1\n",
    "leads = leads[(leads['TotalVisits'] >= Q1 - 1.5*IQR) & (leads['TotalVisits'] <= Q3 + 1.5*IQR)]"
   ]
  },
  {
   "cell_type": "code",
   "execution_count": 40,
   "metadata": {},
   "outputs": [
    {
     "data": {
      "image/png": "[encoded data removed]",
      "text/plain": [
       "<Figure size 432x288 with 1 Axes>"
      ]
     },
     "metadata": {
      "needs_background": "light"
     },
     "output_type": "display_data"
    }
   ],
   "source": [
    "# Outlier Treatment\n",
    "plt.boxplot(leads['Page Views Per Visit'])\n",
    "Q1 =leads['Page Views Per Visit'].quantile(0.25)\n",
    "Q3 = leads['Page Views Per Visit'].quantile(0.75)\n",
    "IQR = Q3 - Q1\n",
    "leads = leads[(leads['Page Views Per Visit'] >= Q1 - 1.5*IQR) & (leads['Page Views Per Visit'] <= Q3 + 1.5*IQR)]"
   ]
  },
  {
   "cell_type": "code",
   "execution_count": 41,
   "metadata": {},
   "outputs": [
    {
     "data": {
      "image/png": "[encoded data removed]",
      "text/plain": [
       "<Figure size 432x288 with 1 Axes>"
      ]
     },
     "metadata": {
      "needs_background": "light"
     },
     "output_type": "display_data"
    }
   ],
   "source": [
    "# Outlier Treatment\n",
    "plt.boxplot(leads['Total Time Spent on Website'])\n",
    "Q1 =leads['Total Time Spent on Website'].quantile(0.25)\n",
    "Q3 = leads['Total Time Spent on Website'].quantile(0.75)\n",
    "IQR = Q3 - Q1\n",
    "leads = leads[(leads['Total Time Spent on Website'] >= Q1 - 1.5*IQR) & (leads['Total Time Spent on Website'] <= Q3 + 1.5*IQR)]"
   ]
  },
  {
   "cell_type": "code",
   "execution_count": 42,
   "metadata": {},
   "outputs": [
    {
     "data": {
      "text/plain": [
       "(8679, 16)"
      ]
     },
     "execution_count": 42,
     "metadata": {},
     "output_type": "execute_result"
    }
   ],
   "source": [
    "leads.shape"
   ]
  },
  {
   "cell_type": "code",
   "execution_count": 43,
   "metadata": {
    "scrolled": false
   },
   "outputs": [
    {
     "data": {
      "text/plain": [
       "{'whiskers': [<matplotlib.lines.Line2D at 0x1dd6aa55cc0>,\n",
       "  <matplotlib.lines.Line2D at 0x1dd6aa55da0>],\n",
       " 'caps': [<matplotlib.lines.Line2D at 0x1dd6aa67550>,\n",
       "  <matplotlib.lines.Line2D at 0x1dd6aa67978>],\n",
       " 'boxes': [<matplotlib.lines.Line2D at 0x1dd6aa55748>],\n",
       " 'medians': [<matplotlib.lines.Line2D at 0x1dd6aa67da0>],\n",
       " 'fliers': [<matplotlib.lines.Line2D at 0x1dd6aa67e80>],\n",
       " 'means': []}"
      ]
     },
     "execution_count": 43,
     "metadata": {},
     "output_type": "execute_result"
    },
    {
     "data": {
      "image/png": "[encoded data removed]",
      "text/plain": [
       "<Figure size 432x288 with 1 Axes>"
      ]
     },
     "metadata": {
      "needs_background": "light"
     },
     "output_type": "display_data"
    }
   ],
   "source": [
    "plt.boxplot(leads['TotalVisits'])"
   ]
  },
  {
   "cell_type": "code",
   "execution_count": 44,
   "metadata": {},
   "outputs": [
    {
     "data": {
      "text/plain": [
       "{'whiskers': [<matplotlib.lines.Line2D at 0x1dd6a686ef0>,\n",
       "  <matplotlib.lines.Line2D at 0x1dd6a686fd0>],\n",
       " 'caps': [<matplotlib.lines.Line2D at 0x1dd6a68e780>,\n",
       "  <matplotlib.lines.Line2D at 0x1dd6a68eba8>],\n",
       " 'boxes': [<matplotlib.lines.Line2D at 0x1dd6a686978>],\n",
       " 'medians': [<matplotlib.lines.Line2D at 0x1dd6a68efd0>],\n",
       " 'fliers': [<matplotlib.lines.Line2D at 0x1dd6a697438>],\n",
       " 'means': []}"
      ]
     },
     "execution_count": 44,
     "metadata": {},
     "output_type": "execute_result"
    },
    {
     "data": {
      "image/png": "[encoded data removed]",
      "text/plain": [
       "<Figure size 432x288 with 1 Axes>"
      ]
     },
     "metadata": {
      "needs_background": "light"
     },
     "output_type": "display_data"
    }
   ],
   "source": [
    "plt.boxplot(leads['Page Views Per Visit'])"
   ]
  },
  {
   "cell_type": "code",
   "execution_count": 45,
   "metadata": {},
   "outputs": [
    {
     "data": {
      "text/plain": [
       "{'whiskers': [<matplotlib.lines.Line2D at 0x1dd6a6e85c0>,\n",
       "  <matplotlib.lines.Line2D at 0x1dd6a6e89e8>],\n",
       " 'caps': [<matplotlib.lines.Line2D at 0x1dd6a6e8e10>,\n",
       "  <matplotlib.lines.Line2D at 0x1dd6a6e8ef0>],\n",
       " 'boxes': [<matplotlib.lines.Line2D at 0x1dd6a6e8048>],\n",
       " 'medians': [<matplotlib.lines.Line2D at 0x1dd6a6f06a0>],\n",
       " 'fliers': [<matplotlib.lines.Line2D at 0x1dd6a6f0ac8>],\n",
       " 'means': []}"
      ]
     },
     "execution_count": 45,
     "metadata": {},
     "output_type": "execute_result"
    },
    {
     "data": {
      "image/png": "[encoded data removed]",
      "text/plain": [
       "<Figure size 432x288 with 1 Axes>"
      ]
     },
     "metadata": {
      "needs_background": "light"
     },
     "output_type": "display_data"
    }
   ],
   "source": [
    "plt.boxplot(leads['Total Time Spent on Website'])"
   ]
  },
  {
   "cell_type": "markdown",
   "metadata": {},
   "source": [
    "### Dummy Variables"
   ]
  },
  {
   "cell_type": "code",
   "execution_count": 46,
   "metadata": {},
   "outputs": [],
   "source": [
    "# Creating dummy variables for the variable 'Lead Origin'\n",
    "lo = pd.get_dummies(leads['Lead Origin'], prefix='Lead_Origin',drop_first=True)\n",
    "\n",
    "# Concat the dummy varibale created dataframe to the original dataframe\n",
    "leads = pd.concat([leads,lo], axis=1)\n",
    "\n",
    "# Drop column whose dummy variable is created.\n",
    "leads.drop(['Lead Origin'], axis = 1, inplace = True)"
   ]
  },
  {
   "cell_type": "code",
   "execution_count": 47,
   "metadata": {},
   "outputs": [],
   "source": [
    "# Creating dummy variables for the variable 'Lead Origin'\n",
    "ls = pd.get_dummies(leads['Lead Source'], prefix='Lead_Source',drop_first=True)\n",
    "\n",
    "# Concat the dummy varibale created dataframe to the original dataframe\n",
    "leads = pd.concat([leads,ls], axis=1)\n",
    "\n",
    "# Drop column whose dummy variable is created.\n",
    "leads.drop(['Lead Source'], axis = 1, inplace = True)"
   ]
  },
  {
   "cell_type": "code",
   "execution_count": 48,
   "metadata": {},
   "outputs": [],
   "source": [
    "# Creating dummy variables for the variable 'Lead Origin'\n",
    "last_activity = pd.get_dummies(leads['Last Notable Activity'], prefix='Last_notable_Activity',drop_first=True)\n",
    "\n",
    "# Concat the dummy varibale created dataframe to the original dataframe\n",
    "leads = pd.concat([leads,last_activity], axis=1)\n",
    "\n",
    "# Drop column whose dummy variable is created.\n",
    "leads.drop(['Last Notable Activity'], axis = 1, inplace = True)"
   ]
  },
  {
   "cell_type": "code",
   "execution_count": 49,
   "metadata": {},
   "outputs": [],
   "source": [
    "# Creating dummy variables for the variable 'Lead Origin'\n",
    "last_activity = pd.get_dummies(leads['Last Activity'], prefix='Last_Activity',drop_first=True)\n",
    "\n",
    "# Concat the dummy varibale created dataframe to the original dataframe\n",
    "leads = pd.concat([leads,last_activity], axis=1)\n",
    "\n",
    "# Drop column whose dummy variable is created.\n",
    "leads.drop(['Last Activity'], axis = 1, inplace = True)"
   ]
  },
  {
   "cell_type": "code",
   "execution_count": 50,
   "metadata": {},
   "outputs": [],
   "source": [
    "# Creating dummy variables for the variable 'Lead Origin'\n",
    "current_occupation = pd.get_dummies(leads['What is your current occupation'], prefix='current_occupation',drop_first=True)\n",
    "\n",
    "# Concat the dummy varibale created dataframe to the original dataframe\n",
    "leads = pd.concat([leads,current_occupation], axis=1)\n",
    "\n",
    "# Drop column whose dummy variable is created.\n",
    "leads.drop(['What is your current occupation'], axis = 1, inplace = True)"
   ]
  },
  {
   "cell_type": "code",
   "execution_count": 51,
   "metadata": {},
   "outputs": [],
   "source": [
    "# Creating dummy variables for the variable 'Lead Origin'\n",
    "course_matters = pd.get_dummies(leads['What matters most to you in choosing a course'], prefix='course_matters',drop_first=True)\n",
    "\n",
    "# Concat the dummy varibale created dataframe to the original dataframe\n",
    "leads = pd.concat([leads,course_matters], axis=1)\n",
    "\n",
    "# Drop column whose dummy variable is created.\n",
    "leads.drop(['What matters most to you in choosing a course'], axis = 1, inplace = True)"
   ]
  },
  {
   "cell_type": "code",
   "execution_count": 52,
   "metadata": {},
   "outputs": [
    {
     "name": "stdout",
     "output_type": "stream",
     "text": [
      "(8679, 73)\n",
      "<class 'pandas.core.frame.DataFrame'>\n",
      "Int64Index: 8679 entries, 0 to 9239\n",
      "Data columns (total 73 columns):\n",
      "Do Not Email                                          8679 non-null int64\n",
      "Do Not Call                                           8679 non-null int64\n",
      "Converted                                             8679 non-null int64\n",
      "TotalVisits                                           8679 non-null float64\n",
      "Total Time Spent on Website                           8679 non-null int64\n",
      "Page Views Per Visit                                  8679 non-null float64\n",
      "Search                                                8679 non-null int64\n",
      "Digital Advertisement                                 8679 non-null int64\n",
      "Through Recommendations                               8679 non-null int64\n",
      "A free copy of Mastering The Interview                8679 non-null int64\n",
      "Lead_Origin_Landing Page Submission                   8679 non-null uint8\n",
      "Lead_Origin_Lead Add Form                             8679 non-null uint8\n",
      "Lead_Origin_Lead Import                               8679 non-null uint8\n",
      "Lead_Origin_Quick Add Form                            8679 non-null uint8\n",
      "Lead_Source_Direct Traffic                            8679 non-null uint8\n",
      "Lead_Source_Facebook                                  8679 non-null uint8\n",
      "Lead_Source_Google                                    8679 non-null uint8\n",
      "Lead_Source_Live Chat                                 8679 non-null uint8\n",
      "Lead_Source_NC_EDM                                    8679 non-null uint8\n",
      "Lead_Source_Olark Chat                                8679 non-null uint8\n",
      "Lead_Source_Organic Search                            8679 non-null uint8\n",
      "Lead_Source_Pay per Click Ads                         8679 non-null uint8\n",
      "Lead_Source_Press_Release                             8679 non-null uint8\n",
      "Lead_Source_Reference                                 8679 non-null uint8\n",
      "Lead_Source_Referral Sites                            8679 non-null uint8\n",
      "Lead_Source_Social Media                              8679 non-null uint8\n",
      "Lead_Source_WeLearn                                   8679 non-null uint8\n",
      "Lead_Source_Welingak Website                          8679 non-null uint8\n",
      "Lead_Source_bing                                      8679 non-null uint8\n",
      "Lead_Source_blog                                      8679 non-null uint8\n",
      "Lead_Source_google                                    8679 non-null uint8\n",
      "Lead_Source_testone                                   8679 non-null uint8\n",
      "Lead_Source_welearnblog_Home                          8679 non-null uint8\n",
      "Lead_Source_youtubechannel                            8679 non-null uint8\n",
      "Last_notable_Activity_Email Bounced                   8679 non-null uint8\n",
      "Last_notable_Activity_Email Link Clicked              8679 non-null uint8\n",
      "Last_notable_Activity_Email Marked Spam               8679 non-null uint8\n",
      "Last_notable_Activity_Email Opened                    8679 non-null uint8\n",
      "Last_notable_Activity_Email Received                  8679 non-null uint8\n",
      "Last_notable_Activity_Form Submitted on Website       8679 non-null uint8\n",
      "Last_notable_Activity_Had a Phone Conversation        8679 non-null uint8\n",
      "Last_notable_Activity_Modified                        8679 non-null uint8\n",
      "Last_notable_Activity_Olark Chat Conversation         8679 non-null uint8\n",
      "Last_notable_Activity_Page Visited on Website         8679 non-null uint8\n",
      "Last_notable_Activity_Resubscribed to emails          8679 non-null uint8\n",
      "Last_notable_Activity_SMS Sent                        8679 non-null uint8\n",
      "Last_notable_Activity_Unreachable                     8679 non-null uint8\n",
      "Last_notable_Activity_Unsubscribed                    8679 non-null uint8\n",
      "Last_notable_Activity_View in browser link Clicked    8679 non-null uint8\n",
      "Last_Activity_Converted to Lead                       8679 non-null uint8\n",
      "Last_Activity_Email Bounced                           8679 non-null uint8\n",
      "Last_Activity_Email Link Clicked                      8679 non-null uint8\n",
      "Last_Activity_Email Marked Spam                       8679 non-null uint8\n",
      "Last_Activity_Email Opened                            8679 non-null uint8\n",
      "Last_Activity_Email Received                          8679 non-null uint8\n",
      "Last_Activity_Form Submitted on Website               8679 non-null uint8\n",
      "Last_Activity_Had a Phone Conversation                8679 non-null uint8\n",
      "Last_Activity_Olark Chat Conversation                 8679 non-null uint8\n",
      "Last_Activity_Other                                   8679 non-null uint8\n",
      "Last_Activity_Page Visited on Website                 8679 non-null uint8\n",
      "Last_Activity_Resubscribed to emails                  8679 non-null uint8\n",
      "Last_Activity_SMS Sent                                8679 non-null uint8\n",
      "Last_Activity_Unreachable                             8679 non-null uint8\n",
      "Last_Activity_Unsubscribed                            8679 non-null uint8\n",
      "Last_Activity_View in browser link Clicked            8679 non-null uint8\n",
      "Last_Activity_Visited Booth in Tradeshow              8679 non-null uint8\n",
      "current_occupation_Housewife                          8679 non-null uint8\n",
      "current_occupation_Other                              8679 non-null uint8\n",
      "current_occupation_Student                            8679 non-null uint8\n",
      "current_occupation_Unemployed                         8679 non-null uint8\n",
      "current_occupation_Working Professional               8679 non-null uint8\n",
      "course_matters_Flexibility & Convenience              8679 non-null uint8\n",
      "course_matters_Other                                  8679 non-null uint8\n",
      "dtypes: float64(2), int64(8), uint8(63)\n",
      "memory usage: 1.2 MB\n"
     ]
    }
   ],
   "source": [
    "print(leads.shape)\n",
    "leads.info()"
   ]
  },
  {
   "cell_type": "markdown",
   "metadata": {},
   "source": [
    "### Train and Test data Split"
   ]
  },
  {
   "cell_type": "code",
   "execution_count": 53,
   "metadata": {},
   "outputs": [
    {
     "data": {
      "text/html": [
       "<div>\n",
       "<style scoped>\n",
       "    .dataframe tbody tr th:only-of-type {\n",
       "        vertical-align: middle;\n",
       "    }\n",
       "\n",
       "    .dataframe tbody tr th {\n",
       "        vertical-align: top;\n",
       "    }\n",
       "\n",
       "    .dataframe thead th {\n",
       "        text-align: right;\n",
       "    }\n",
       "</style>\n",
       "<table border=\"1\" class=\"dataframe\">\n",
       "  <thead>\n",
       "    <tr style=\"text-align: right;\">\n",
       "      <th></th>\n",
       "      <th>Do Not Email</th>\n",
       "      <th>Do Not Call</th>\n",
       "      <th>TotalVisits</th>\n",
       "      <th>Total Time Spent on Website</th>\n",
       "      <th>Page Views Per Visit</th>\n",
       "      <th>Search</th>\n",
       "      <th>Digital Advertisement</th>\n",
       "      <th>Through Recommendations</th>\n",
       "      <th>A free copy of Mastering The Interview</th>\n",
       "      <th>Lead_Origin_Landing Page Submission</th>\n",
       "      <th>...</th>\n",
       "      <th>Last_Activity_Unsubscribed</th>\n",
       "      <th>Last_Activity_View in browser link Clicked</th>\n",
       "      <th>Last_Activity_Visited Booth in Tradeshow</th>\n",
       "      <th>current_occupation_Housewife</th>\n",
       "      <th>current_occupation_Other</th>\n",
       "      <th>current_occupation_Student</th>\n",
       "      <th>current_occupation_Unemployed</th>\n",
       "      <th>current_occupation_Working Professional</th>\n",
       "      <th>course_matters_Flexibility &amp; Convenience</th>\n",
       "      <th>course_matters_Other</th>\n",
       "    </tr>\n",
       "  </thead>\n",
       "  <tbody>\n",
       "    <tr>\n",
       "      <th>0</th>\n",
       "      <td>0</td>\n",
       "      <td>0</td>\n",
       "      <td>0.0</td>\n",
       "      <td>0</td>\n",
       "      <td>0.0</td>\n",
       "      <td>0</td>\n",
       "      <td>0</td>\n",
       "      <td>0</td>\n",
       "      <td>0</td>\n",
       "      <td>0</td>\n",
       "      <td>...</td>\n",
       "      <td>0</td>\n",
       "      <td>0</td>\n",
       "      <td>0</td>\n",
       "      <td>0</td>\n",
       "      <td>0</td>\n",
       "      <td>0</td>\n",
       "      <td>1</td>\n",
       "      <td>0</td>\n",
       "      <td>0</td>\n",
       "      <td>0</td>\n",
       "    </tr>\n",
       "    <tr>\n",
       "      <th>1</th>\n",
       "      <td>0</td>\n",
       "      <td>0</td>\n",
       "      <td>5.0</td>\n",
       "      <td>674</td>\n",
       "      <td>2.5</td>\n",
       "      <td>0</td>\n",
       "      <td>0</td>\n",
       "      <td>0</td>\n",
       "      <td>0</td>\n",
       "      <td>0</td>\n",
       "      <td>...</td>\n",
       "      <td>0</td>\n",
       "      <td>0</td>\n",
       "      <td>0</td>\n",
       "      <td>0</td>\n",
       "      <td>0</td>\n",
       "      <td>0</td>\n",
       "      <td>1</td>\n",
       "      <td>0</td>\n",
       "      <td>0</td>\n",
       "      <td>0</td>\n",
       "    </tr>\n",
       "    <tr>\n",
       "      <th>2</th>\n",
       "      <td>0</td>\n",
       "      <td>0</td>\n",
       "      <td>2.0</td>\n",
       "      <td>1532</td>\n",
       "      <td>2.0</td>\n",
       "      <td>0</td>\n",
       "      <td>0</td>\n",
       "      <td>0</td>\n",
       "      <td>1</td>\n",
       "      <td>1</td>\n",
       "      <td>...</td>\n",
       "      <td>0</td>\n",
       "      <td>0</td>\n",
       "      <td>0</td>\n",
       "      <td>0</td>\n",
       "      <td>0</td>\n",
       "      <td>1</td>\n",
       "      <td>0</td>\n",
       "      <td>0</td>\n",
       "      <td>0</td>\n",
       "      <td>0</td>\n",
       "    </tr>\n",
       "    <tr>\n",
       "      <th>3</th>\n",
       "      <td>0</td>\n",
       "      <td>0</td>\n",
       "      <td>1.0</td>\n",
       "      <td>305</td>\n",
       "      <td>1.0</td>\n",
       "      <td>0</td>\n",
       "      <td>0</td>\n",
       "      <td>0</td>\n",
       "      <td>0</td>\n",
       "      <td>1</td>\n",
       "      <td>...</td>\n",
       "      <td>0</td>\n",
       "      <td>0</td>\n",
       "      <td>0</td>\n",
       "      <td>0</td>\n",
       "      <td>0</td>\n",
       "      <td>0</td>\n",
       "      <td>1</td>\n",
       "      <td>0</td>\n",
       "      <td>0</td>\n",
       "      <td>0</td>\n",
       "    </tr>\n",
       "    <tr>\n",
       "      <th>4</th>\n",
       "      <td>0</td>\n",
       "      <td>0</td>\n",
       "      <td>2.0</td>\n",
       "      <td>1428</td>\n",
       "      <td>1.0</td>\n",
       "      <td>0</td>\n",
       "      <td>0</td>\n",
       "      <td>0</td>\n",
       "      <td>0</td>\n",
       "      <td>1</td>\n",
       "      <td>...</td>\n",
       "      <td>0</td>\n",
       "      <td>0</td>\n",
       "      <td>0</td>\n",
       "      <td>0</td>\n",
       "      <td>0</td>\n",
       "      <td>0</td>\n",
       "      <td>1</td>\n",
       "      <td>0</td>\n",
       "      <td>0</td>\n",
       "      <td>0</td>\n",
       "    </tr>\n",
       "  </tbody>\n",
       "</table>\n",
       "<p>5 rows × 72 columns</p>\n",
       "</div>"
      ],
      "text/plain": [
       "   Do Not Email  Do Not Call  TotalVisits  Total Time Spent on Website  \\\n",
       "0             0            0          0.0                            0   \n",
       "1             0            0          5.0                          674   \n",
       "2             0            0          2.0                         1532   \n",
       "3             0            0          1.0                          305   \n",
       "4             0            0          2.0                         1428   \n",
       "\n",
       "   Page Views Per Visit  Search  Digital Advertisement  \\\n",
       "0                   0.0       0                      0   \n",
       "1                   2.5       0                      0   \n",
       "2                   2.0       0                      0   \n",
       "3                   1.0       0                      0   \n",
       "4                   1.0       0                      0   \n",
       "\n",
       "   Through Recommendations  A free copy of Mastering The Interview  \\\n",
       "0                        0                                       0   \n",
       "1                        0                                       0   \n",
       "2                        0                                       1   \n",
       "3                        0                                       0   \n",
       "4                        0                                       0   \n",
       "\n",
       "   Lead_Origin_Landing Page Submission  ...  Last_Activity_Unsubscribed  \\\n",
       "0                                    0  ...                           0   \n",
       "1                                    0  ...                           0   \n",
       "2                                    1  ...                           0   \n",
       "3                                    1  ...                           0   \n",
       "4                                    1  ...                           0   \n",
       "\n",
       "   Last_Activity_View in browser link Clicked  \\\n",
       "0                                           0   \n",
       "1                                           0   \n",
       "2                                           0   \n",
       "3                                           0   \n",
       "4                                           0   \n",
       "\n",
       "   Last_Activity_Visited Booth in Tradeshow  current_occupation_Housewife  \\\n",
       "0                                         0                             0   \n",
       "1                                         0                             0   \n",
       "2                                         0                             0   \n",
       "3                                         0                             0   \n",
       "4                                         0                             0   \n",
       "\n",
       "   current_occupation_Other  current_occupation_Student  \\\n",
       "0                         0                           0   \n",
       "1                         0                           0   \n",
       "2                         0                           1   \n",
       "3                         0                           0   \n",
       "4                         0                           0   \n",
       "\n",
       "   current_occupation_Unemployed  current_occupation_Working Professional  \\\n",
       "0                              1                                        0   \n",
       "1                              1                                        0   \n",
       "2                              0                                        0   \n",
       "3                              1                                        0   \n",
       "4                              1                                        0   \n",
       "\n",
       "   course_matters_Flexibility & Convenience  course_matters_Other  \n",
       "0                                         0                     0  \n",
       "1                                         0                     0  \n",
       "2                                         0                     0  \n",
       "3                                         0                     0  \n",
       "4                                         0                     0  \n",
       "\n",
       "[5 rows x 72 columns]"
      ]
     },
     "execution_count": 53,
     "metadata": {},
     "output_type": "execute_result"
    }
   ],
   "source": [
    "# Putting feature variables to X\n",
    "X = leads.drop(['Converted'], axis=1)\n",
    "X.head()"
   ]
  },
  {
   "cell_type": "code",
   "execution_count": 54,
   "metadata": {},
   "outputs": [
    {
     "data": {
      "text/plain": [
       "0    0\n",
       "1    0\n",
       "2    1\n",
       "3    0\n",
       "4    1\n",
       "Name: Converted, dtype: int64"
      ]
     },
     "execution_count": 54,
     "metadata": {},
     "output_type": "execute_result"
    }
   ],
   "source": [
    "# Putting response variable to y\n",
    "y = leads['Converted']\n",
    "y.head()"
   ]
  },
  {
   "cell_type": "code",
   "execution_count": 55,
   "metadata": {},
   "outputs": [],
   "source": [
    "from sklearn.model_selection import train_test_split\n",
    "X_train, X_test, y_train, y_test=train_test_split(X,y, train_size=0.7, test_size=0.3 , random_state=5)"
   ]
  },
  {
   "cell_type": "markdown",
   "metadata": {},
   "source": [
    "### Rescaling the features"
   ]
  },
  {
   "cell_type": "code",
   "execution_count": 56,
   "metadata": {},
   "outputs": [],
   "source": [
    "from sklearn.preprocessing import MinMaxScaler\n",
    "minmax_scaler=MinMaxScaler()"
   ]
  },
  {
   "cell_type": "code",
   "execution_count": 57,
   "metadata": {},
   "outputs": [
    {
     "name": "stdout",
     "output_type": "stream",
     "text": [
      "(6075, 72)\n"
     ]
    },
    {
     "data": {
      "text/html": [
       "<div>\n",
       "<style scoped>\n",
       "    .dataframe tbody tr th:only-of-type {\n",
       "        vertical-align: middle;\n",
       "    }\n",
       "\n",
       "    .dataframe tbody tr th {\n",
       "        vertical-align: top;\n",
       "    }\n",
       "\n",
       "    .dataframe thead th {\n",
       "        text-align: right;\n",
       "    }\n",
       "</style>\n",
       "<table border=\"1\" class=\"dataframe\">\n",
       "  <thead>\n",
       "    <tr style=\"text-align: right;\">\n",
       "      <th></th>\n",
       "      <th>Do Not Email</th>\n",
       "      <th>Do Not Call</th>\n",
       "      <th>TotalVisits</th>\n",
       "      <th>Total Time Spent on Website</th>\n",
       "      <th>Page Views Per Visit</th>\n",
       "      <th>Search</th>\n",
       "      <th>Digital Advertisement</th>\n",
       "      <th>Through Recommendations</th>\n",
       "      <th>A free copy of Mastering The Interview</th>\n",
       "      <th>Lead_Origin_Landing Page Submission</th>\n",
       "      <th>...</th>\n",
       "      <th>Last_Activity_Unsubscribed</th>\n",
       "      <th>Last_Activity_View in browser link Clicked</th>\n",
       "      <th>Last_Activity_Visited Booth in Tradeshow</th>\n",
       "      <th>current_occupation_Housewife</th>\n",
       "      <th>current_occupation_Other</th>\n",
       "      <th>current_occupation_Student</th>\n",
       "      <th>current_occupation_Unemployed</th>\n",
       "      <th>current_occupation_Working Professional</th>\n",
       "      <th>course_matters_Flexibility &amp; Convenience</th>\n",
       "      <th>course_matters_Other</th>\n",
       "    </tr>\n",
       "  </thead>\n",
       "  <tbody>\n",
       "    <tr>\n",
       "      <th>2874</th>\n",
       "      <td>0</td>\n",
       "      <td>0</td>\n",
       "      <td>0.909091</td>\n",
       "      <td>0.215184</td>\n",
       "      <td>0.555000</td>\n",
       "      <td>0</td>\n",
       "      <td>0</td>\n",
       "      <td>0</td>\n",
       "      <td>1</td>\n",
       "      <td>1</td>\n",
       "      <td>...</td>\n",
       "      <td>0</td>\n",
       "      <td>0</td>\n",
       "      <td>0</td>\n",
       "      <td>0</td>\n",
       "      <td>1</td>\n",
       "      <td>0</td>\n",
       "      <td>0</td>\n",
       "      <td>0</td>\n",
       "      <td>0</td>\n",
       "      <td>1</td>\n",
       "    </tr>\n",
       "    <tr>\n",
       "      <th>2877</th>\n",
       "      <td>0</td>\n",
       "      <td>0</td>\n",
       "      <td>0.454545</td>\n",
       "      <td>0.082210</td>\n",
       "      <td>0.416667</td>\n",
       "      <td>0</td>\n",
       "      <td>0</td>\n",
       "      <td>0</td>\n",
       "      <td>1</td>\n",
       "      <td>1</td>\n",
       "      <td>...</td>\n",
       "      <td>0</td>\n",
       "      <td>0</td>\n",
       "      <td>0</td>\n",
       "      <td>0</td>\n",
       "      <td>0</td>\n",
       "      <td>0</td>\n",
       "      <td>1</td>\n",
       "      <td>0</td>\n",
       "      <td>0</td>\n",
       "      <td>0</td>\n",
       "    </tr>\n",
       "    <tr>\n",
       "      <th>4378</th>\n",
       "      <td>0</td>\n",
       "      <td>0</td>\n",
       "      <td>0.000000</td>\n",
       "      <td>0.000000</td>\n",
       "      <td>0.000000</td>\n",
       "      <td>0</td>\n",
       "      <td>0</td>\n",
       "      <td>0</td>\n",
       "      <td>0</td>\n",
       "      <td>0</td>\n",
       "      <td>...</td>\n",
       "      <td>0</td>\n",
       "      <td>0</td>\n",
       "      <td>0</td>\n",
       "      <td>0</td>\n",
       "      <td>0</td>\n",
       "      <td>0</td>\n",
       "      <td>1</td>\n",
       "      <td>0</td>\n",
       "      <td>0</td>\n",
       "      <td>0</td>\n",
       "    </tr>\n",
       "    <tr>\n",
       "      <th>8847</th>\n",
       "      <td>0</td>\n",
       "      <td>0</td>\n",
       "      <td>0.000000</td>\n",
       "      <td>0.000000</td>\n",
       "      <td>0.000000</td>\n",
       "      <td>0</td>\n",
       "      <td>0</td>\n",
       "      <td>0</td>\n",
       "      <td>0</td>\n",
       "      <td>0</td>\n",
       "      <td>...</td>\n",
       "      <td>0</td>\n",
       "      <td>0</td>\n",
       "      <td>0</td>\n",
       "      <td>0</td>\n",
       "      <td>0</td>\n",
       "      <td>0</td>\n",
       "      <td>1</td>\n",
       "      <td>0</td>\n",
       "      <td>0</td>\n",
       "      <td>0</td>\n",
       "    </tr>\n",
       "    <tr>\n",
       "      <th>1421</th>\n",
       "      <td>0</td>\n",
       "      <td>0</td>\n",
       "      <td>0.454545</td>\n",
       "      <td>0.486972</td>\n",
       "      <td>0.833333</td>\n",
       "      <td>0</td>\n",
       "      <td>0</td>\n",
       "      <td>0</td>\n",
       "      <td>0</td>\n",
       "      <td>0</td>\n",
       "      <td>...</td>\n",
       "      <td>0</td>\n",
       "      <td>0</td>\n",
       "      <td>0</td>\n",
       "      <td>0</td>\n",
       "      <td>1</td>\n",
       "      <td>0</td>\n",
       "      <td>0</td>\n",
       "      <td>0</td>\n",
       "      <td>0</td>\n",
       "      <td>1</td>\n",
       "    </tr>\n",
       "  </tbody>\n",
       "</table>\n",
       "<p>5 rows × 72 columns</p>\n",
       "</div>"
      ],
      "text/plain": [
       "      Do Not Email  Do Not Call  TotalVisits  Total Time Spent on Website  \\\n",
       "2874             0            0     0.909091                     0.215184   \n",
       "2877             0            0     0.454545                     0.082210   \n",
       "4378             0            0     0.000000                     0.000000   \n",
       "8847             0            0     0.000000                     0.000000   \n",
       "1421             0            0     0.454545                     0.486972   \n",
       "\n",
       "      Page Views Per Visit  Search  Digital Advertisement  \\\n",
       "2874              0.555000       0                      0   \n",
       "2877              0.416667       0                      0   \n",
       "4378              0.000000       0                      0   \n",
       "8847              0.000000       0                      0   \n",
       "1421              0.833333       0                      0   \n",
       "\n",
       "      Through Recommendations  A free copy of Mastering The Interview  \\\n",
       "2874                        0                                       1   \n",
       "2877                        0                                       1   \n",
       "4378                        0                                       0   \n",
       "8847                        0                                       0   \n",
       "1421                        0                                       0   \n",
       "\n",
       "      Lead_Origin_Landing Page Submission  ...  Last_Activity_Unsubscribed  \\\n",
       "2874                                    1  ...                           0   \n",
       "2877                                    1  ...                           0   \n",
       "4378                                    0  ...                           0   \n",
       "8847                                    0  ...                           0   \n",
       "1421                                    0  ...                           0   \n",
       "\n",
       "      Last_Activity_View in browser link Clicked  \\\n",
       "2874                                           0   \n",
       "2877                                           0   \n",
       "4378                                           0   \n",
       "8847                                           0   \n",
       "1421                                           0   \n",
       "\n",
       "      Last_Activity_Visited Booth in Tradeshow  current_occupation_Housewife  \\\n",
       "2874                                         0                             0   \n",
       "2877                                         0                             0   \n",
       "4378                                         0                             0   \n",
       "8847                                         0                             0   \n",
       "1421                                         0                             0   \n",
       "\n",
       "      current_occupation_Other  current_occupation_Student  \\\n",
       "2874                         1                           0   \n",
       "2877                         0                           0   \n",
       "4378                         0                           0   \n",
       "8847                         0                           0   \n",
       "1421                         1                           0   \n",
       "\n",
       "      current_occupation_Unemployed  current_occupation_Working Professional  \\\n",
       "2874                              0                                        0   \n",
       "2877                              1                                        0   \n",
       "4378                              1                                        0   \n",
       "8847                              1                                        0   \n",
       "1421                              0                                        0   \n",
       "\n",
       "      course_matters_Flexibility & Convenience  course_matters_Other  \n",
       "2874                                         0                     1  \n",
       "2877                                         0                     0  \n",
       "4378                                         0                     0  \n",
       "8847                                         0                     0  \n",
       "1421                                         0                     1  \n",
       "\n",
       "[5 rows x 72 columns]"
      ]
     },
     "execution_count": 57,
     "metadata": {},
     "output_type": "execute_result"
    }
   ],
   "source": [
    "# Do feature scaling to all the columns except the 'dummy' variables\n",
    "varlist_scale=['TotalVisits', 'Total Time Spent on Website','Page Views Per Visit']\n",
    "\n",
    "X_train[varlist_scale] = minmax_scaler.fit_transform(X_train[varlist_scale])\n",
    "print(X_train.shape)\n",
    "X_train.head()"
   ]
  },
  {
   "cell_type": "code",
   "execution_count": 58,
   "metadata": {},
   "outputs": [
    {
     "data": {
      "text/html": [
       "<div>\n",
       "<style scoped>\n",
       "    .dataframe tbody tr th:only-of-type {\n",
       "        vertical-align: middle;\n",
       "    }\n",
       "\n",
       "    .dataframe tbody tr th {\n",
       "        vertical-align: top;\n",
       "    }\n",
       "\n",
       "    .dataframe thead th {\n",
       "        text-align: right;\n",
       "    }\n",
       "</style>\n",
       "<table border=\"1\" class=\"dataframe\">\n",
       "  <thead>\n",
       "    <tr style=\"text-align: right;\">\n",
       "      <th></th>\n",
       "      <th>Do Not Email</th>\n",
       "      <th>Do Not Call</th>\n",
       "      <th>TotalVisits</th>\n",
       "      <th>Total Time Spent on Website</th>\n",
       "      <th>Page Views Per Visit</th>\n",
       "      <th>Search</th>\n",
       "      <th>Digital Advertisement</th>\n",
       "      <th>Through Recommendations</th>\n",
       "      <th>A free copy of Mastering The Interview</th>\n",
       "      <th>Lead_Origin_Landing Page Submission</th>\n",
       "      <th>...</th>\n",
       "      <th>Last_Activity_Unsubscribed</th>\n",
       "      <th>Last_Activity_View in browser link Clicked</th>\n",
       "      <th>Last_Activity_Visited Booth in Tradeshow</th>\n",
       "      <th>current_occupation_Housewife</th>\n",
       "      <th>current_occupation_Other</th>\n",
       "      <th>current_occupation_Student</th>\n",
       "      <th>current_occupation_Unemployed</th>\n",
       "      <th>current_occupation_Working Professional</th>\n",
       "      <th>course_matters_Flexibility &amp; Convenience</th>\n",
       "      <th>course_matters_Other</th>\n",
       "    </tr>\n",
       "  </thead>\n",
       "  <tbody>\n",
       "    <tr>\n",
       "      <th>count</th>\n",
       "      <td>6075.000000</td>\n",
       "      <td>6075.000000</td>\n",
       "      <td>6075.000000</td>\n",
       "      <td>6075.000000</td>\n",
       "      <td>6075.000000</td>\n",
       "      <td>6075.000000</td>\n",
       "      <td>6075.000000</td>\n",
       "      <td>6075.000000</td>\n",
       "      <td>6075.000000</td>\n",
       "      <td>6075.000000</td>\n",
       "      <td>...</td>\n",
       "      <td>6075.000000</td>\n",
       "      <td>6075.000000</td>\n",
       "      <td>6075.0</td>\n",
       "      <td>6075.000000</td>\n",
       "      <td>6075.000000</td>\n",
       "      <td>6075.000000</td>\n",
       "      <td>6075.000000</td>\n",
       "      <td>6075.000000</td>\n",
       "      <td>6075.000000</td>\n",
       "      <td>6075.000000</td>\n",
       "    </tr>\n",
       "    <tr>\n",
       "      <th>mean</th>\n",
       "      <td>0.074568</td>\n",
       "      <td>0.000165</td>\n",
       "      <td>0.254800</td>\n",
       "      <td>0.213196</td>\n",
       "      <td>0.344563</td>\n",
       "      <td>0.000988</td>\n",
       "      <td>0.000329</td>\n",
       "      <td>0.000658</td>\n",
       "      <td>0.294156</td>\n",
       "      <td>0.512099</td>\n",
       "      <td>...</td>\n",
       "      <td>0.005761</td>\n",
       "      <td>0.000494</td>\n",
       "      <td>0.0</td>\n",
       "      <td>0.000988</td>\n",
       "      <td>0.297613</td>\n",
       "      <td>0.022222</td>\n",
       "      <td>0.602140</td>\n",
       "      <td>0.076214</td>\n",
       "      <td>0.000329</td>\n",
       "      <td>0.298107</td>\n",
       "    </tr>\n",
       "    <tr>\n",
       "      <th>std</th>\n",
       "      <td>0.262714</td>\n",
       "      <td>0.012830</td>\n",
       "      <td>0.218093</td>\n",
       "      <td>0.243642</td>\n",
       "      <td>0.273031</td>\n",
       "      <td>0.031414</td>\n",
       "      <td>0.018143</td>\n",
       "      <td>0.025654</td>\n",
       "      <td>0.455700</td>\n",
       "      <td>0.499895</td>\n",
       "      <td>...</td>\n",
       "      <td>0.075691</td>\n",
       "      <td>0.022219</td>\n",
       "      <td>0.0</td>\n",
       "      <td>0.031414</td>\n",
       "      <td>0.457246</td>\n",
       "      <td>0.147418</td>\n",
       "      <td>0.489497</td>\n",
       "      <td>0.265362</td>\n",
       "      <td>0.018143</td>\n",
       "      <td>0.457464</td>\n",
       "    </tr>\n",
       "    <tr>\n",
       "      <th>min</th>\n",
       "      <td>0.000000</td>\n",
       "      <td>0.000000</td>\n",
       "      <td>0.000000</td>\n",
       "      <td>0.000000</td>\n",
       "      <td>0.000000</td>\n",
       "      <td>0.000000</td>\n",
       "      <td>0.000000</td>\n",
       "      <td>0.000000</td>\n",
       "      <td>0.000000</td>\n",
       "      <td>0.000000</td>\n",
       "      <td>...</td>\n",
       "      <td>0.000000</td>\n",
       "      <td>0.000000</td>\n",
       "      <td>0.0</td>\n",
       "      <td>0.000000</td>\n",
       "      <td>0.000000</td>\n",
       "      <td>0.000000</td>\n",
       "      <td>0.000000</td>\n",
       "      <td>0.000000</td>\n",
       "      <td>0.000000</td>\n",
       "      <td>0.000000</td>\n",
       "    </tr>\n",
       "    <tr>\n",
       "      <th>25%</th>\n",
       "      <td>0.000000</td>\n",
       "      <td>0.000000</td>\n",
       "      <td>0.000000</td>\n",
       "      <td>0.000000</td>\n",
       "      <td>0.000000</td>\n",
       "      <td>0.000000</td>\n",
       "      <td>0.000000</td>\n",
       "      <td>0.000000</td>\n",
       "      <td>0.000000</td>\n",
       "      <td>0.000000</td>\n",
       "      <td>...</td>\n",
       "      <td>0.000000</td>\n",
       "      <td>0.000000</td>\n",
       "      <td>0.0</td>\n",
       "      <td>0.000000</td>\n",
       "      <td>0.000000</td>\n",
       "      <td>0.000000</td>\n",
       "      <td>0.000000</td>\n",
       "      <td>0.000000</td>\n",
       "      <td>0.000000</td>\n",
       "      <td>0.000000</td>\n",
       "    </tr>\n",
       "    <tr>\n",
       "      <th>50%</th>\n",
       "      <td>0.000000</td>\n",
       "      <td>0.000000</td>\n",
       "      <td>0.272727</td>\n",
       "      <td>0.107817</td>\n",
       "      <td>0.333333</td>\n",
       "      <td>0.000000</td>\n",
       "      <td>0.000000</td>\n",
       "      <td>0.000000</td>\n",
       "      <td>0.000000</td>\n",
       "      <td>1.000000</td>\n",
       "      <td>...</td>\n",
       "      <td>0.000000</td>\n",
       "      <td>0.000000</td>\n",
       "      <td>0.0</td>\n",
       "      <td>0.000000</td>\n",
       "      <td>0.000000</td>\n",
       "      <td>0.000000</td>\n",
       "      <td>1.000000</td>\n",
       "      <td>0.000000</td>\n",
       "      <td>0.000000</td>\n",
       "      <td>0.000000</td>\n",
       "    </tr>\n",
       "    <tr>\n",
       "      <th>75%</th>\n",
       "      <td>0.000000</td>\n",
       "      <td>0.000000</td>\n",
       "      <td>0.363636</td>\n",
       "      <td>0.407907</td>\n",
       "      <td>0.500000</td>\n",
       "      <td>0.000000</td>\n",
       "      <td>0.000000</td>\n",
       "      <td>0.000000</td>\n",
       "      <td>1.000000</td>\n",
       "      <td>1.000000</td>\n",
       "      <td>...</td>\n",
       "      <td>0.000000</td>\n",
       "      <td>0.000000</td>\n",
       "      <td>0.0</td>\n",
       "      <td>0.000000</td>\n",
       "      <td>1.000000</td>\n",
       "      <td>0.000000</td>\n",
       "      <td>1.000000</td>\n",
       "      <td>0.000000</td>\n",
       "      <td>0.000000</td>\n",
       "      <td>1.000000</td>\n",
       "    </tr>\n",
       "    <tr>\n",
       "      <th>max</th>\n",
       "      <td>1.000000</td>\n",
       "      <td>1.000000</td>\n",
       "      <td>1.000000</td>\n",
       "      <td>1.000000</td>\n",
       "      <td>1.000000</td>\n",
       "      <td>1.000000</td>\n",
       "      <td>1.000000</td>\n",
       "      <td>1.000000</td>\n",
       "      <td>1.000000</td>\n",
       "      <td>1.000000</td>\n",
       "      <td>...</td>\n",
       "      <td>1.000000</td>\n",
       "      <td>1.000000</td>\n",
       "      <td>0.0</td>\n",
       "      <td>1.000000</td>\n",
       "      <td>1.000000</td>\n",
       "      <td>1.000000</td>\n",
       "      <td>1.000000</td>\n",
       "      <td>1.000000</td>\n",
       "      <td>1.000000</td>\n",
       "      <td>1.000000</td>\n",
       "    </tr>\n",
       "  </tbody>\n",
       "</table>\n",
       "<p>8 rows × 72 columns</p>\n",
       "</div>"
      ],
      "text/plain": [
       "       Do Not Email  Do Not Call  TotalVisits  Total Time Spent on Website  \\\n",
       "count   6075.000000  6075.000000  6075.000000                  6075.000000   \n",
       "mean       0.074568     0.000165     0.254800                     0.213196   \n",
       "std        0.262714     0.012830     0.218093                     0.243642   \n",
       "min        0.000000     0.000000     0.000000                     0.000000   \n",
       "25%        0.000000     0.000000     0.000000                     0.000000   \n",
       "50%        0.000000     0.000000     0.272727                     0.107817   \n",
       "75%        0.000000     0.000000     0.363636                     0.407907   \n",
       "max        1.000000     1.000000     1.000000                     1.000000   \n",
       "\n",
       "       Page Views Per Visit       Search  Digital Advertisement  \\\n",
       "count           6075.000000  6075.000000            6075.000000   \n",
       "mean               0.344563     0.000988               0.000329   \n",
       "std                0.273031     0.031414               0.018143   \n",
       "min                0.000000     0.000000               0.000000   \n",
       "25%                0.000000     0.000000               0.000000   \n",
       "50%                0.333333     0.000000               0.000000   \n",
       "75%                0.500000     0.000000               0.000000   \n",
       "max                1.000000     1.000000               1.000000   \n",
       "\n",
       "       Through Recommendations  A free copy of Mastering The Interview  \\\n",
       "count              6075.000000                             6075.000000   \n",
       "mean                  0.000658                                0.294156   \n",
       "std                   0.025654                                0.455700   \n",
       "min                   0.000000                                0.000000   \n",
       "25%                   0.000000                                0.000000   \n",
       "50%                   0.000000                                0.000000   \n",
       "75%                   0.000000                                1.000000   \n",
       "max                   1.000000                                1.000000   \n",
       "\n",
       "       Lead_Origin_Landing Page Submission  ...  Last_Activity_Unsubscribed  \\\n",
       "count                          6075.000000  ...                 6075.000000   \n",
       "mean                              0.512099  ...                    0.005761   \n",
       "std                               0.499895  ...                    0.075691   \n",
       "min                               0.000000  ...                    0.000000   \n",
       "25%                               0.000000  ...                    0.000000   \n",
       "50%                               1.000000  ...                    0.000000   \n",
       "75%                               1.000000  ...                    0.000000   \n",
       "max                               1.000000  ...                    1.000000   \n",
       "\n",
       "       Last_Activity_View in browser link Clicked  \\\n",
       "count                                 6075.000000   \n",
       "mean                                     0.000494   \n",
       "std                                      0.022219   \n",
       "min                                      0.000000   \n",
       "25%                                      0.000000   \n",
       "50%                                      0.000000   \n",
       "75%                                      0.000000   \n",
       "max                                      1.000000   \n",
       "\n",
       "       Last_Activity_Visited Booth in Tradeshow  current_occupation_Housewife  \\\n",
       "count                                    6075.0                   6075.000000   \n",
       "mean                                        0.0                      0.000988   \n",
       "std                                         0.0                      0.031414   \n",
       "min                                         0.0                      0.000000   \n",
       "25%                                         0.0                      0.000000   \n",
       "50%                                         0.0                      0.000000   \n",
       "75%                                         0.0                      0.000000   \n",
       "max                                         0.0                      1.000000   \n",
       "\n",
       "       current_occupation_Other  current_occupation_Student  \\\n",
       "count               6075.000000                 6075.000000   \n",
       "mean                   0.297613                    0.022222   \n",
       "std                    0.457246                    0.147418   \n",
       "min                    0.000000                    0.000000   \n",
       "25%                    0.000000                    0.000000   \n",
       "50%                    0.000000                    0.000000   \n",
       "75%                    1.000000                    0.000000   \n",
       "max                    1.000000                    1.000000   \n",
       "\n",
       "       current_occupation_Unemployed  current_occupation_Working Professional  \\\n",
       "count                    6075.000000                              6075.000000   \n",
       "mean                        0.602140                                 0.076214   \n",
       "std                         0.489497                                 0.265362   \n",
       "min                         0.000000                                 0.000000   \n",
       "25%                         0.000000                                 0.000000   \n",
       "50%                         1.000000                                 0.000000   \n",
       "75%                         1.000000                                 0.000000   \n",
       "max                         1.000000                                 1.000000   \n",
       "\n",
       "       course_matters_Flexibility & Convenience  course_matters_Other  \n",
       "count                               6075.000000           6075.000000  \n",
       "mean                                   0.000329              0.298107  \n",
       "std                                    0.018143              0.457464  \n",
       "min                                    0.000000              0.000000  \n",
       "25%                                    0.000000              0.000000  \n",
       "50%                                    0.000000              0.000000  \n",
       "75%                                    0.000000              1.000000  \n",
       "max                                    1.000000              1.000000  \n",
       "\n",
       "[8 rows x 72 columns]"
      ]
     },
     "execution_count": 58,
     "metadata": {},
     "output_type": "execute_result"
    }
   ],
   "source": [
    "X_train.describe()"
   ]
  },
  {
   "cell_type": "markdown",
   "metadata": {},
   "source": [
    "### RFE"
   ]
  },
  {
   "cell_type": "code",
   "execution_count": 59,
   "metadata": {},
   "outputs": [],
   "source": [
    "# Importing RFE and LogisticRegression\n",
    "from sklearn.feature_selection import RFE\n",
    "from sklearn.linear_model import LogisticRegression\n",
    "logreg = LogisticRegression(solver='liblinear',random_state=9)"
   ]
  },
  {
   "cell_type": "code",
   "execution_count": 60,
   "metadata": {},
   "outputs": [],
   "source": [
    "# Running RFE with the output number of the variable equal to 15\n",
    "rfe = RFE(logreg, 15)  \n",
    "rfe = rfe.fit(X_train, y_train)"
   ]
  },
  {
   "cell_type": "code",
   "execution_count": 61,
   "metadata": {},
   "outputs": [
    {
     "data": {
      "text/plain": [
       "[('Do Not Email', True, 1),\n",
       " ('Do Not Call', False, 27),\n",
       " ('TotalVisits', False, 3),\n",
       " ('Total Time Spent on Website', True, 1),\n",
       " ('Page Views Per Visit', False, 4),\n",
       " ('Search', False, 32),\n",
       " ('Digital Advertisement', False, 51),\n",
       " ('Through Recommendations', False, 39),\n",
       " ('A free copy of Mastering The Interview', False, 43),\n",
       " ('Lead_Origin_Landing Page Submission', False, 41),\n",
       " ('Lead_Origin_Lead Add Form', True, 1),\n",
       " ('Lead_Origin_Lead Import', False, 46),\n",
       " ('Lead_Origin_Quick Add Form', False, 31),\n",
       " ('Lead_Source_Direct Traffic', True, 1),\n",
       " ('Lead_Source_Facebook', False, 47),\n",
       " ('Lead_Source_Google', False, 2),\n",
       " ('Lead_Source_Live Chat', False, 48),\n",
       " ('Lead_Source_NC_EDM', False, 22),\n",
       " ('Lead_Source_Olark Chat', False, 17),\n",
       " ('Lead_Source_Organic Search', True, 1),\n",
       " ('Lead_Source_Pay per Click Ads', False, 52),\n",
       " ('Lead_Source_Press_Release', False, 55),\n",
       " ('Lead_Source_Reference', False, 24),\n",
       " ('Lead_Source_Referral Sites', True, 1),\n",
       " ('Lead_Source_Social Media', False, 16),\n",
       " ('Lead_Source_WeLearn', False, 36),\n",
       " ('Lead_Source_Welingak Website', True, 1),\n",
       " ('Lead_Source_bing', False, 35),\n",
       " ('Lead_Source_blog', False, 38),\n",
       " ('Lead_Source_google', False, 19),\n",
       " ('Lead_Source_testone', False, 57),\n",
       " ('Lead_Source_welearnblog_Home', False, 56),\n",
       " ('Lead_Source_youtubechannel', False, 40),\n",
       " ('Last_notable_Activity_Email Bounced', False, 50),\n",
       " ('Last_notable_Activity_Email Link Clicked', False, 11),\n",
       " ('Last_notable_Activity_Email Marked Spam', False, 25),\n",
       " ('Last_notable_Activity_Email Opened', False, 12),\n",
       " ('Last_notable_Activity_Email Received', False, 54),\n",
       " ('Last_notable_Activity_Form Submitted on Website', False, 45),\n",
       " ('Last_notable_Activity_Had a Phone Conversation', False, 23),\n",
       " ('Last_notable_Activity_Modified', False, 8),\n",
       " ('Last_notable_Activity_Olark Chat Conversation', False, 10),\n",
       " ('Last_notable_Activity_Page Visited on Website', False, 9),\n",
       " ('Last_notable_Activity_Resubscribed to emails', False, 18),\n",
       " ('Last_notable_Activity_SMS Sent', False, 34),\n",
       " ('Last_notable_Activity_Unreachable', True, 1),\n",
       " ('Last_notable_Activity_Unsubscribed', False, 44),\n",
       " ('Last_notable_Activity_View in browser link Clicked', False, 58),\n",
       " ('Last_Activity_Converted to Lead', False, 13),\n",
       " ('Last_Activity_Email Bounced', False, 15),\n",
       " ('Last_Activity_Email Link Clicked', False, 28),\n",
       " ('Last_Activity_Email Marked Spam', False, 33),\n",
       " ('Last_Activity_Email Opened', False, 42),\n",
       " ('Last_Activity_Email Received', False, 49),\n",
       " ('Last_Activity_Form Submitted on Website', False, 30),\n",
       " ('Last_Activity_Had a Phone Conversation', True, 1),\n",
       " ('Last_Activity_Olark Chat Conversation', True, 1),\n",
       " ('Last_Activity_Other', True, 1),\n",
       " ('Last_Activity_Page Visited on Website', False, 29),\n",
       " ('Last_Activity_Resubscribed to emails', False, 5),\n",
       " ('Last_Activity_SMS Sent', True, 1),\n",
       " ('Last_Activity_Unreachable', False, 14),\n",
       " ('Last_Activity_Unsubscribed', False, 21),\n",
       " ('Last_Activity_View in browser link Clicked', False, 26),\n",
       " ('Last_Activity_Visited Booth in Tradeshow', False, 53),\n",
       " ('current_occupation_Housewife', True, 1),\n",
       " ('current_occupation_Other', False, 20),\n",
       " ('current_occupation_Student', False, 7),\n",
       " ('current_occupation_Unemployed', False, 6),\n",
       " ('current_occupation_Working Professional', True, 1),\n",
       " ('course_matters_Flexibility & Convenience', False, 37),\n",
       " ('course_matters_Other', True, 1)]"
      ]
     },
     "execution_count": 61,
     "metadata": {},
     "output_type": "execute_result"
    }
   ],
   "source": [
    "list(zip(X_train.columns, rfe.support_, rfe.ranking_))"
   ]
  },
  {
   "cell_type": "code",
   "execution_count": 62,
   "metadata": {},
   "outputs": [
    {
     "data": {
      "text/plain": [
       "Index(['Do Not Email', 'Total Time Spent on Website',\n",
       "       'Lead_Origin_Lead Add Form', 'Lead_Source_Direct Traffic',\n",
       "       'Lead_Source_Organic Search', 'Lead_Source_Referral Sites',\n",
       "       'Lead_Source_Welingak Website', 'Last_notable_Activity_Unreachable',\n",
       "       'Last_Activity_Had a Phone Conversation',\n",
       "       'Last_Activity_Olark Chat Conversation', 'Last_Activity_Other',\n",
       "       'Last_Activity_SMS Sent', 'current_occupation_Housewife',\n",
       "       'current_occupation_Working Professional', 'course_matters_Other'],\n",
       "      dtype='object')"
      ]
     },
     "execution_count": 62,
     "metadata": {},
     "output_type": "execute_result"
    }
   ],
   "source": [
    "# Take all column names to col variabled selected by RFE. In our case it is 15\n",
    "col = X_train.columns[rfe.support_]\n",
    "col"
   ]
  },
  {
   "cell_type": "code",
   "execution_count": 63,
   "metadata": {},
   "outputs": [
    {
     "data": {
      "text/plain": [
       "LogisticRegression(C=1.0, class_weight=None, dual=False, fit_intercept=True,\n",
       "          intercept_scaling=1, max_iter=100, multi_class='ovr', n_jobs=1,\n",
       "          penalty='l2', random_state=9, solver='liblinear', tol=0.0001,\n",
       "          verbose=0, warm_start=False)"
      ]
     },
     "execution_count": 63,
     "metadata": {},
     "output_type": "execute_result"
    }
   ],
   "source": [
    "rfe.estimator_"
   ]
  },
  {
   "cell_type": "markdown",
   "metadata": {},
   "source": [
    "### Building the model using statsmodel"
   ]
  },
  {
   "cell_type": "code",
   "execution_count": 64,
   "metadata": {},
   "outputs": [],
   "source": [
    "# Create new Dataframe only RFE selected columns\n",
    "X_train_rfe=X_train[col]"
   ]
  },
  {
   "cell_type": "code",
   "execution_count": 65,
   "metadata": {},
   "outputs": [
    {
     "name": "stdout",
     "output_type": "stream",
     "text": [
      "Original DataFrame Shape (6075, 72)\n",
      "RFE Selected DataFrame Shape (6075, 15)\n"
     ]
    },
    {
     "data": {
      "text/html": [
       "<div>\n",
       "<style scoped>\n",
       "    .dataframe tbody tr th:only-of-type {\n",
       "        vertical-align: middle;\n",
       "    }\n",
       "\n",
       "    .dataframe tbody tr th {\n",
       "        vertical-align: top;\n",
       "    }\n",
       "\n",
       "    .dataframe thead th {\n",
       "        text-align: right;\n",
       "    }\n",
       "</style>\n",
       "<table border=\"1\" class=\"dataframe\">\n",
       "  <thead>\n",
       "    <tr style=\"text-align: right;\">\n",
       "      <th></th>\n",
       "      <th>Do Not Email</th>\n",
       "      <th>Total Time Spent on Website</th>\n",
       "      <th>Lead_Origin_Lead Add Form</th>\n",
       "      <th>Lead_Source_Direct Traffic</th>\n",
       "      <th>Lead_Source_Organic Search</th>\n",
       "      <th>Lead_Source_Referral Sites</th>\n",
       "      <th>Lead_Source_Welingak Website</th>\n",
       "      <th>Last_notable_Activity_Unreachable</th>\n",
       "      <th>Last_Activity_Had a Phone Conversation</th>\n",
       "      <th>Last_Activity_Olark Chat Conversation</th>\n",
       "      <th>Last_Activity_Other</th>\n",
       "      <th>Last_Activity_SMS Sent</th>\n",
       "      <th>current_occupation_Housewife</th>\n",
       "      <th>current_occupation_Working Professional</th>\n",
       "      <th>course_matters_Other</th>\n",
       "    </tr>\n",
       "  </thead>\n",
       "  <tbody>\n",
       "    <tr>\n",
       "      <th>2874</th>\n",
       "      <td>0</td>\n",
       "      <td>0.215184</td>\n",
       "      <td>0</td>\n",
       "      <td>0</td>\n",
       "      <td>0</td>\n",
       "      <td>0</td>\n",
       "      <td>0</td>\n",
       "      <td>0</td>\n",
       "      <td>0</td>\n",
       "      <td>0</td>\n",
       "      <td>0</td>\n",
       "      <td>0</td>\n",
       "      <td>0</td>\n",
       "      <td>0</td>\n",
       "      <td>1</td>\n",
       "    </tr>\n",
       "    <tr>\n",
       "      <th>2877</th>\n",
       "      <td>0</td>\n",
       "      <td>0.082210</td>\n",
       "      <td>0</td>\n",
       "      <td>0</td>\n",
       "      <td>0</td>\n",
       "      <td>0</td>\n",
       "      <td>0</td>\n",
       "      <td>0</td>\n",
       "      <td>0</td>\n",
       "      <td>0</td>\n",
       "      <td>0</td>\n",
       "      <td>1</td>\n",
       "      <td>0</td>\n",
       "      <td>0</td>\n",
       "      <td>0</td>\n",
       "    </tr>\n",
       "    <tr>\n",
       "      <th>4378</th>\n",
       "      <td>0</td>\n",
       "      <td>0.000000</td>\n",
       "      <td>1</td>\n",
       "      <td>0</td>\n",
       "      <td>0</td>\n",
       "      <td>0</td>\n",
       "      <td>0</td>\n",
       "      <td>0</td>\n",
       "      <td>0</td>\n",
       "      <td>0</td>\n",
       "      <td>0</td>\n",
       "      <td>1</td>\n",
       "      <td>0</td>\n",
       "      <td>0</td>\n",
       "      <td>0</td>\n",
       "    </tr>\n",
       "    <tr>\n",
       "      <th>8847</th>\n",
       "      <td>0</td>\n",
       "      <td>0.000000</td>\n",
       "      <td>0</td>\n",
       "      <td>0</td>\n",
       "      <td>0</td>\n",
       "      <td>0</td>\n",
       "      <td>0</td>\n",
       "      <td>0</td>\n",
       "      <td>0</td>\n",
       "      <td>1</td>\n",
       "      <td>0</td>\n",
       "      <td>0</td>\n",
       "      <td>0</td>\n",
       "      <td>0</td>\n",
       "      <td>0</td>\n",
       "    </tr>\n",
       "    <tr>\n",
       "      <th>1421</th>\n",
       "      <td>0</td>\n",
       "      <td>0.486972</td>\n",
       "      <td>0</td>\n",
       "      <td>0</td>\n",
       "      <td>1</td>\n",
       "      <td>0</td>\n",
       "      <td>0</td>\n",
       "      <td>0</td>\n",
       "      <td>0</td>\n",
       "      <td>1</td>\n",
       "      <td>0</td>\n",
       "      <td>0</td>\n",
       "      <td>0</td>\n",
       "      <td>0</td>\n",
       "      <td>1</td>\n",
       "    </tr>\n",
       "  </tbody>\n",
       "</table>\n",
       "</div>"
      ],
      "text/plain": [
       "      Do Not Email  Total Time Spent on Website  Lead_Origin_Lead Add Form  \\\n",
       "2874             0                     0.215184                          0   \n",
       "2877             0                     0.082210                          0   \n",
       "4378             0                     0.000000                          1   \n",
       "8847             0                     0.000000                          0   \n",
       "1421             0                     0.486972                          0   \n",
       "\n",
       "      Lead_Source_Direct Traffic  Lead_Source_Organic Search  \\\n",
       "2874                           0                           0   \n",
       "2877                           0                           0   \n",
       "4378                           0                           0   \n",
       "8847                           0                           0   \n",
       "1421                           0                           1   \n",
       "\n",
       "      Lead_Source_Referral Sites  Lead_Source_Welingak Website  \\\n",
       "2874                           0                             0   \n",
       "2877                           0                             0   \n",
       "4378                           0                             0   \n",
       "8847                           0                             0   \n",
       "1421                           0                             0   \n",
       "\n",
       "      Last_notable_Activity_Unreachable  \\\n",
       "2874                                  0   \n",
       "2877                                  0   \n",
       "4378                                  0   \n",
       "8847                                  0   \n",
       "1421                                  0   \n",
       "\n",
       "      Last_Activity_Had a Phone Conversation  \\\n",
       "2874                                       0   \n",
       "2877                                       0   \n",
       "4378                                       0   \n",
       "8847                                       0   \n",
       "1421                                       0   \n",
       "\n",
       "      Last_Activity_Olark Chat Conversation  Last_Activity_Other  \\\n",
       "2874                                      0                    0   \n",
       "2877                                      0                    0   \n",
       "4378                                      0                    0   \n",
       "8847                                      1                    0   \n",
       "1421                                      1                    0   \n",
       "\n",
       "      Last_Activity_SMS Sent  current_occupation_Housewife  \\\n",
       "2874                       0                             0   \n",
       "2877                       1                             0   \n",
       "4378                       1                             0   \n",
       "8847                       0                             0   \n",
       "1421                       0                             0   \n",
       "\n",
       "      current_occupation_Working Professional  course_matters_Other  \n",
       "2874                                        0                     1  \n",
       "2877                                        0                     0  \n",
       "4378                                        0                     0  \n",
       "8847                                        0                     0  \n",
       "1421                                        0                     1  "
      ]
     },
     "execution_count": 65,
     "metadata": {},
     "output_type": "execute_result"
    }
   ],
   "source": [
    "print(\"Original DataFrame Shape\", X_train.shape)\n",
    "print(\"RFE Selected DataFrame Shape\", X_train_rfe.shape)\n",
    "X_train_rfe.head()"
   ]
  },
  {
   "cell_type": "code",
   "execution_count": 66,
   "metadata": {},
   "outputs": [],
   "source": [
    "# Adding a constant variable \n",
    "import statsmodels.api as sm  \n",
    "#X_train_rfe = sm.add_constant(X_train_rfe)\n",
    "X_train_sm = sm.add_constant(X_train[col])"
   ]
  },
  {
   "cell_type": "code",
   "execution_count": 67,
   "metadata": {},
   "outputs": [
    {
     "name": "stdout",
     "output_type": "stream",
     "text": [
      "(6075,)\n",
      "(6075, 16)\n"
     ]
    }
   ],
   "source": [
    "print(y_train.shape)\n",
    "print(X_train_sm.shape)"
   ]
  },
  {
   "cell_type": "code",
   "execution_count": 68,
   "metadata": {},
   "outputs": [
    {
     "data": {
      "text/html": [
       "<table class=\"simpletable\">\n",
       "<caption>Generalized Linear Model Regression Results</caption>\n",
       "<tr>\n",
       "  <th>Dep. Variable:</th>      <td>Converted</td>    <th>  No. Observations:  </th>  <td>  6075</td>  \n",
       "</tr>\n",
       "<tr>\n",
       "  <th>Model:</th>                 <td>GLM</td>       <th>  Df Residuals:      </th>  <td>  6059</td>  \n",
       "</tr>\n",
       "<tr>\n",
       "  <th>Model Family:</th>       <td>Binomial</td>     <th>  Df Model:          </th>  <td>    15</td>  \n",
       "</tr>\n",
       "<tr>\n",
       "  <th>Link Function:</th>        <td>logit</td>      <th>  Scale:             </th> <td>  1.0000</td> \n",
       "</tr>\n",
       "<tr>\n",
       "  <th>Method:</th>               <td>IRLS</td>       <th>  Log-Likelihood:    </th> <td> -2522.9</td> \n",
       "</tr>\n",
       "<tr>\n",
       "  <th>Date:</th>           <td>Sun, 03 Mar 2019</td> <th>  Deviance:          </th> <td>  5045.8</td> \n",
       "</tr>\n",
       "<tr>\n",
       "  <th>Time:</th>               <td>22:35:37</td>     <th>  Pearson chi2:      </th> <td>5.89e+03</td> \n",
       "</tr>\n",
       "<tr>\n",
       "  <th>No. Iterations:</th>        <td>21</td>        <th>  Covariance Type:   </th> <td>nonrobust</td>\n",
       "</tr>\n",
       "</table>\n",
       "<table class=\"simpletable\">\n",
       "<tr>\n",
       "                     <td></td>                        <th>coef</th>     <th>std err</th>      <th>z</th>      <th>P>|z|</th>  <th>[0.025</th>    <th>0.975]</th>  \n",
       "</tr>\n",
       "<tr>\n",
       "  <th>const</th>                                   <td>   -1.5299</td> <td>    0.070</td> <td>  -21.873</td> <td> 0.000</td> <td>   -1.667</td> <td>   -1.393</td>\n",
       "</tr>\n",
       "<tr>\n",
       "  <th>Do Not Email</th>                            <td>   -1.4513</td> <td>    0.176</td> <td>   -8.230</td> <td> 0.000</td> <td>   -1.797</td> <td>   -1.106</td>\n",
       "</tr>\n",
       "<tr>\n",
       "  <th>Total Time Spent on Website</th>             <td>    3.8547</td> <td>    0.151</td> <td>   25.583</td> <td> 0.000</td> <td>    3.559</td> <td>    4.150</td>\n",
       "</tr>\n",
       "<tr>\n",
       "  <th>Lead_Origin_Lead Add Form</th>               <td>    2.8665</td> <td>    0.202</td> <td>   14.176</td> <td> 0.000</td> <td>    2.470</td> <td>    3.263</td>\n",
       "</tr>\n",
       "<tr>\n",
       "  <th>Lead_Source_Direct Traffic</th>              <td>   -0.6630</td> <td>    0.084</td> <td>   -7.875</td> <td> 0.000</td> <td>   -0.828</td> <td>   -0.498</td>\n",
       "</tr>\n",
       "<tr>\n",
       "  <th>Lead_Source_Organic Search</th>              <td>   -0.5673</td> <td>    0.114</td> <td>   -4.972</td> <td> 0.000</td> <td>   -0.791</td> <td>   -0.344</td>\n",
       "</tr>\n",
       "<tr>\n",
       "  <th>Lead_Source_Referral Sites</th>              <td>   -0.6297</td> <td>    0.338</td> <td>   -1.865</td> <td> 0.062</td> <td>   -1.292</td> <td>    0.032</td>\n",
       "</tr>\n",
       "<tr>\n",
       "  <th>Lead_Source_Welingak Website</th>            <td>    2.1122</td> <td>    0.742</td> <td>    2.846</td> <td> 0.004</td> <td>    0.657</td> <td>    3.567</td>\n",
       "</tr>\n",
       "<tr>\n",
       "  <th>Last_notable_Activity_Unreachable</th>       <td>    1.8419</td> <td>    0.559</td> <td>    3.292</td> <td> 0.001</td> <td>    0.745</td> <td>    2.938</td>\n",
       "</tr>\n",
       "<tr>\n",
       "  <th>Last_Activity_Had a Phone Conversation</th>  <td>    1.7259</td> <td>    0.683</td> <td>    2.529</td> <td> 0.011</td> <td>    0.388</td> <td>    3.064</td>\n",
       "</tr>\n",
       "<tr>\n",
       "  <th>Last_Activity_Olark Chat Conversation</th>   <td>   -0.8287</td> <td>    0.163</td> <td>   -5.080</td> <td> 0.000</td> <td>   -1.148</td> <td>   -0.509</td>\n",
       "</tr>\n",
       "<tr>\n",
       "  <th>Last_Activity_Other</th>                     <td>   -1.1592</td> <td>    0.426</td> <td>   -2.724</td> <td> 0.006</td> <td>   -1.993</td> <td>   -0.325</td>\n",
       "</tr>\n",
       "<tr>\n",
       "  <th>Last_Activity_SMS Sent</th>                  <td>    1.4178</td> <td>    0.076</td> <td>   18.563</td> <td> 0.000</td> <td>    1.268</td> <td>    1.567</td>\n",
       "</tr>\n",
       "<tr>\n",
       "  <th>current_occupation_Housewife</th>            <td>   22.8746</td> <td> 1.71e+04</td> <td>    0.001</td> <td> 0.999</td> <td>-3.35e+04</td> <td> 3.36e+04</td>\n",
       "</tr>\n",
       "<tr>\n",
       "  <th>current_occupation_Working Professional</th> <td>    2.3010</td> <td>    0.181</td> <td>   12.684</td> <td> 0.000</td> <td>    1.945</td> <td>    2.657</td>\n",
       "</tr>\n",
       "<tr>\n",
       "  <th>course_matters_Other</th>                    <td>   -1.2195</td> <td>    0.089</td> <td>  -13.779</td> <td> 0.000</td> <td>   -1.393</td> <td>   -1.046</td>\n",
       "</tr>\n",
       "</table>"
      ],
      "text/plain": [
       "<class 'statsmodels.iolib.summary.Summary'>\n",
       "\"\"\"\n",
       "                 Generalized Linear Model Regression Results                  \n",
       "==============================================================================\n",
       "Dep. Variable:              Converted   No. Observations:                 6075\n",
       "Model:                            GLM   Df Residuals:                     6059\n",
       "Model Family:                Binomial   Df Model:                           15\n",
       "Link Function:                  logit   Scale:                          1.0000\n",
       "Method:                          IRLS   Log-Likelihood:                -2522.9\n",
       "Date:                Sun, 03 Mar 2019   Deviance:                       5045.8\n",
       "Time:                        22:35:37   Pearson chi2:                 5.89e+03\n",
       "No. Iterations:                    21   Covariance Type:             nonrobust\n",
       "===========================================================================================================\n",
       "                                              coef    std err          z      P>|z|      [0.025      0.975]\n",
       "-----------------------------------------------------------------------------------------------------------\n",
       "const                                      -1.5299      0.070    -21.873      0.000      -1.667      -1.393\n",
       "Do Not Email                               -1.4513      0.176     -8.230      0.000      -1.797      -1.106\n",
       "Total Time Spent on Website                 3.8547      0.151     25.583      0.000       3.559       4.150\n",
       "Lead_Origin_Lead Add Form                   2.8665      0.202     14.176      0.000       2.470       3.263\n",
       "Lead_Source_Direct Traffic                 -0.6630      0.084     -7.875      0.000      -0.828      -0.498\n",
       "Lead_Source_Organic Search                 -0.5673      0.114     -4.972      0.000      -0.791      -0.344\n",
       "Lead_Source_Referral Sites                 -0.6297      0.338     -1.865      0.062      -1.292       0.032\n",
       "Lead_Source_Welingak Website                2.1122      0.742      2.846      0.004       0.657       3.567\n",
       "Last_notable_Activity_Unreachable           1.8419      0.559      3.292      0.001       0.745       2.938\n",
       "Last_Activity_Had a Phone Conversation      1.7259      0.683      2.529      0.011       0.388       3.064\n",
       "Last_Activity_Olark Chat Conversation      -0.8287      0.163     -5.080      0.000      -1.148      -0.509\n",
       "Last_Activity_Other                        -1.1592      0.426     -2.724      0.006      -1.993      -0.325\n",
       "Last_Activity_SMS Sent                      1.4178      0.076     18.563      0.000       1.268       1.567\n",
       "current_occupation_Housewife               22.8746   1.71e+04      0.001      0.999   -3.35e+04    3.36e+04\n",
       "current_occupation_Working Professional     2.3010      0.181     12.684      0.000       1.945       2.657\n",
       "course_matters_Other                       -1.2195      0.089    -13.779      0.000      -1.393      -1.046\n",
       "===========================================================================================================\n",
       "\"\"\""
      ]
     },
     "execution_count": 68,
     "metadata": {},
     "output_type": "execute_result"
    }
   ],
   "source": [
    "# Logistic regression model\n",
    "binomial_model1 = sm.GLM(y_train, X_train_sm, family = sm.families.Binomial())\n",
    "\n",
    "#Fit the model. This is important step\n",
    "log_res=binomial_model1.fit()\n",
    "log_res.summary()"
   ]
  },
  {
   "cell_type": "code",
   "execution_count": 69,
   "metadata": {},
   "outputs": [
    {
     "data": {
      "text/plain": [
       "2874    0.127860\n",
       "2877    0.551004\n",
       "4378    0.940159\n",
       "8847    0.086385\n",
       "1421    0.093777\n",
       "7304    0.576441\n",
       "5460    0.906265\n",
       "2945    0.226263\n",
       "7291    0.335499\n",
       "8690    0.178001\n",
       "dtype: float64"
      ]
     },
     "execution_count": 69,
     "metadata": {},
     "output_type": "execute_result"
    }
   ],
   "source": [
    "# Getting the predicted values on the train set\n",
    "y_train_pred = log_res.predict(X_train_sm)\n",
    "y_train_pred[:10]"
   ]
  },
  {
   "cell_type": "code",
   "execution_count": 70,
   "metadata": {},
   "outputs": [
    {
     "data": {
      "text/plain": [
       "array([0.12785957, 0.55100391, 0.94015924, 0.08638459, 0.09377684,\n",
       "       0.57644092, 0.90626531, 0.22626331, 0.33549943, 0.17800136])"
      ]
     },
     "execution_count": 70,
     "metadata": {},
     "output_type": "execute_result"
    }
   ],
   "source": [
    "y_train_pred = y_train_pred.values.reshape(-1)\n",
    "y_train_pred[:10]"
   ]
  },
  {
   "cell_type": "code",
   "execution_count": 71,
   "metadata": {},
   "outputs": [
    {
     "data": {
      "text/html": [
       "<div>\n",
       "<style scoped>\n",
       "    .dataframe tbody tr th:only-of-type {\n",
       "        vertical-align: middle;\n",
       "    }\n",
       "\n",
       "    .dataframe tbody tr th {\n",
       "        vertical-align: top;\n",
       "    }\n",
       "\n",
       "    .dataframe thead th {\n",
       "        text-align: right;\n",
       "    }\n",
       "</style>\n",
       "<table border=\"1\" class=\"dataframe\">\n",
       "  <thead>\n",
       "    <tr style=\"text-align: right;\">\n",
       "      <th></th>\n",
       "      <th>Converted</th>\n",
       "      <th>Converted_Prob</th>\n",
       "      <th>index</th>\n",
       "    </tr>\n",
       "  </thead>\n",
       "  <tbody>\n",
       "    <tr>\n",
       "      <th>0</th>\n",
       "      <td>0</td>\n",
       "      <td>0.127860</td>\n",
       "      <td>2874</td>\n",
       "    </tr>\n",
       "    <tr>\n",
       "      <th>1</th>\n",
       "      <td>1</td>\n",
       "      <td>0.551004</td>\n",
       "      <td>2877</td>\n",
       "    </tr>\n",
       "    <tr>\n",
       "      <th>2</th>\n",
       "      <td>1</td>\n",
       "      <td>0.940159</td>\n",
       "      <td>4378</td>\n",
       "    </tr>\n",
       "    <tr>\n",
       "      <th>3</th>\n",
       "      <td>0</td>\n",
       "      <td>0.086385</td>\n",
       "      <td>8847</td>\n",
       "    </tr>\n",
       "    <tr>\n",
       "      <th>4</th>\n",
       "      <td>1</td>\n",
       "      <td>0.093777</td>\n",
       "      <td>1421</td>\n",
       "    </tr>\n",
       "  </tbody>\n",
       "</table>\n",
       "</div>"
      ],
      "text/plain": [
       "   Converted  Converted_Prob  index\n",
       "0          0        0.127860   2874\n",
       "1          1        0.551004   2877\n",
       "2          1        0.940159   4378\n",
       "3          0        0.086385   8847\n",
       "4          1        0.093777   1421"
      ]
     },
     "execution_count": 71,
     "metadata": {},
     "output_type": "execute_result"
    }
   ],
   "source": [
    "# Creating a dataframe with the actual flag and the predicted probabilities\n",
    "y_train_pred_final = pd.DataFrame({'Converted':y_train.values, 'Converted_Prob':y_train_pred})\n",
    "y_train_pred_final['index'] = y_train.index\n",
    "y_train_pred_final.head()"
   ]
  },
  {
   "cell_type": "code",
   "execution_count": 72,
   "metadata": {},
   "outputs": [
    {
     "data": {
      "text/html": [
       "<div>\n",
       "<style scoped>\n",
       "    .dataframe tbody tr th:only-of-type {\n",
       "        vertical-align: middle;\n",
       "    }\n",
       "\n",
       "    .dataframe tbody tr th {\n",
       "        vertical-align: top;\n",
       "    }\n",
       "\n",
       "    .dataframe thead th {\n",
       "        text-align: right;\n",
       "    }\n",
       "</style>\n",
       "<table border=\"1\" class=\"dataframe\">\n",
       "  <thead>\n",
       "    <tr style=\"text-align: right;\">\n",
       "      <th></th>\n",
       "      <th>Converted</th>\n",
       "      <th>Converted_Prob</th>\n",
       "      <th>index</th>\n",
       "      <th>predicted</th>\n",
       "    </tr>\n",
       "  </thead>\n",
       "  <tbody>\n",
       "    <tr>\n",
       "      <th>0</th>\n",
       "      <td>0</td>\n",
       "      <td>0.127860</td>\n",
       "      <td>2874</td>\n",
       "      <td>0</td>\n",
       "    </tr>\n",
       "    <tr>\n",
       "      <th>1</th>\n",
       "      <td>1</td>\n",
       "      <td>0.551004</td>\n",
       "      <td>2877</td>\n",
       "      <td>1</td>\n",
       "    </tr>\n",
       "    <tr>\n",
       "      <th>2</th>\n",
       "      <td>1</td>\n",
       "      <td>0.940159</td>\n",
       "      <td>4378</td>\n",
       "      <td>1</td>\n",
       "    </tr>\n",
       "    <tr>\n",
       "      <th>3</th>\n",
       "      <td>0</td>\n",
       "      <td>0.086385</td>\n",
       "      <td>8847</td>\n",
       "      <td>0</td>\n",
       "    </tr>\n",
       "    <tr>\n",
       "      <th>4</th>\n",
       "      <td>1</td>\n",
       "      <td>0.093777</td>\n",
       "      <td>1421</td>\n",
       "      <td>0</td>\n",
       "    </tr>\n",
       "  </tbody>\n",
       "</table>\n",
       "</div>"
      ],
      "text/plain": [
       "   Converted  Converted_Prob  index  predicted\n",
       "0          0        0.127860   2874          0\n",
       "1          1        0.551004   2877          1\n",
       "2          1        0.940159   4378          1\n",
       "3          0        0.086385   8847          0\n",
       "4          1        0.093777   1421          0"
      ]
     },
     "execution_count": 72,
     "metadata": {},
     "output_type": "execute_result"
    }
   ],
   "source": [
    "# Creating new column 'predicted' with 1 if Converted_Prob > 0.5 else 0\n",
    "y_train_pred_final['predicted'] = y_train_pred_final.Converted_Prob.map(lambda x: 1 if x > 0.5 else 0)\n",
    "\n",
    "# Let's see the head\n",
    "y_train_pred_final.head()"
   ]
  },
  {
   "cell_type": "code",
   "execution_count": 73,
   "metadata": {},
   "outputs": [
    {
     "data": {
      "text/plain": [
       "array([[3327,  437],\n",
       "       [ 753, 1558]], dtype=int64)"
      ]
     },
     "execution_count": 73,
     "metadata": {},
     "output_type": "execute_result"
    }
   ],
   "source": [
    "# Import metrics\n",
    "from sklearn import metrics\n",
    "confusion=metrics.confusion_matrix(y_train,y_train_pred_final.predicted)\n",
    "confusion"
   ]
  },
  {
   "cell_type": "code",
   "execution_count": 74,
   "metadata": {},
   "outputs": [
    {
     "data": {
      "text/plain": [
       "0.8041152263374486"
      ]
     },
     "execution_count": 74,
     "metadata": {},
     "output_type": "execute_result"
    }
   ],
   "source": [
    "# Let's check the accuracy Score\n",
    "metrics.accuracy_score(y_train,y_train_pred_final.predicted)"
   ]
  },
  {
   "cell_type": "markdown",
   "metadata": {},
   "source": [
    "##### p-value of `current_occupation_Housewife` is more than 0.05. Hence it is insignificant in presence of other variables. We will drop this variable."
   ]
  },
  {
   "cell_type": "code",
   "execution_count": 75,
   "metadata": {},
   "outputs": [
    {
     "data": {
      "text/plain": [
       "(6075, 15)"
      ]
     },
     "execution_count": 75,
     "metadata": {},
     "output_type": "execute_result"
    }
   ],
   "source": [
    "X_train_sm2 = X_train_sm.drop([\"current_occupation_Housewife\"], axis = 1)\n",
    "X_train_sm2.shape"
   ]
  },
  {
   "cell_type": "markdown",
   "metadata": {},
   "source": [
    "#### Model-2 Rebuilding the model without current_occupation_Housewife"
   ]
  },
  {
   "cell_type": "code",
   "execution_count": 76,
   "metadata": {},
   "outputs": [
    {
     "data": {
      "text/html": [
       "<table class=\"simpletable\">\n",
       "<caption>Generalized Linear Model Regression Results</caption>\n",
       "<tr>\n",
       "  <th>Dep. Variable:</th>      <td>Converted</td>    <th>  No. Observations:  </th>  <td>  6075</td>  \n",
       "</tr>\n",
       "<tr>\n",
       "  <th>Model:</th>                 <td>GLM</td>       <th>  Df Residuals:      </th>  <td>  6060</td>  \n",
       "</tr>\n",
       "<tr>\n",
       "  <th>Model Family:</th>       <td>Binomial</td>     <th>  Df Model:          </th>  <td>    14</td>  \n",
       "</tr>\n",
       "<tr>\n",
       "  <th>Link Function:</th>        <td>logit</td>      <th>  Scale:             </th> <td>  1.0000</td> \n",
       "</tr>\n",
       "<tr>\n",
       "  <th>Method:</th>               <td>IRLS</td>       <th>  Log-Likelihood:    </th> <td> -2527.2</td> \n",
       "</tr>\n",
       "<tr>\n",
       "  <th>Date:</th>           <td>Sun, 03 Mar 2019</td> <th>  Deviance:          </th> <td>  5054.3</td> \n",
       "</tr>\n",
       "<tr>\n",
       "  <th>Time:</th>               <td>22:35:37</td>     <th>  Pearson chi2:      </th> <td>5.90e+03</td> \n",
       "</tr>\n",
       "<tr>\n",
       "  <th>No. Iterations:</th>         <td>7</td>        <th>  Covariance Type:   </th> <td>nonrobust</td>\n",
       "</tr>\n",
       "</table>\n",
       "<table class=\"simpletable\">\n",
       "<tr>\n",
       "                     <td></td>                        <th>coef</th>     <th>std err</th>      <th>z</th>      <th>P>|z|</th>  <th>[0.025</th>    <th>0.975]</th>  \n",
       "</tr>\n",
       "<tr>\n",
       "  <th>const</th>                                   <td>   -1.5251</td> <td>    0.070</td> <td>  -21.832</td> <td> 0.000</td> <td>   -1.662</td> <td>   -1.388</td>\n",
       "</tr>\n",
       "<tr>\n",
       "  <th>Do Not Email</th>                            <td>   -1.4542</td> <td>    0.176</td> <td>   -8.247</td> <td> 0.000</td> <td>   -1.800</td> <td>   -1.109</td>\n",
       "</tr>\n",
       "<tr>\n",
       "  <th>Total Time Spent on Website</th>             <td>    3.8542</td> <td>    0.151</td> <td>   25.606</td> <td> 0.000</td> <td>    3.559</td> <td>    4.149</td>\n",
       "</tr>\n",
       "<tr>\n",
       "  <th>Lead_Origin_Lead Add Form</th>               <td>    2.8738</td> <td>    0.202</td> <td>   14.218</td> <td> 0.000</td> <td>    2.478</td> <td>    3.270</td>\n",
       "</tr>\n",
       "<tr>\n",
       "  <th>Lead_Source_Direct Traffic</th>              <td>   -0.6648</td> <td>    0.084</td> <td>   -7.900</td> <td> 0.000</td> <td>   -0.830</td> <td>   -0.500</td>\n",
       "</tr>\n",
       "<tr>\n",
       "  <th>Lead_Source_Organic Search</th>              <td>   -0.5554</td> <td>    0.114</td> <td>   -4.882</td> <td> 0.000</td> <td>   -0.778</td> <td>   -0.332</td>\n",
       "</tr>\n",
       "<tr>\n",
       "  <th>Lead_Source_Referral Sites</th>              <td>   -0.6320</td> <td>    0.338</td> <td>   -1.872</td> <td> 0.061</td> <td>   -1.294</td> <td>    0.030</td>\n",
       "</tr>\n",
       "<tr>\n",
       "  <th>Lead_Source_Welingak Website</th>            <td>    2.0996</td> <td>    0.742</td> <td>    2.829</td> <td> 0.005</td> <td>    0.645</td> <td>    3.554</td>\n",
       "</tr>\n",
       "<tr>\n",
       "  <th>Last_notable_Activity_Unreachable</th>       <td>    1.8366</td> <td>    0.560</td> <td>    3.281</td> <td> 0.001</td> <td>    0.740</td> <td>    2.934</td>\n",
       "</tr>\n",
       "<tr>\n",
       "  <th>Last_Activity_Had a Phone Conversation</th>  <td>    1.7167</td> <td>    0.683</td> <td>    2.515</td> <td> 0.012</td> <td>    0.379</td> <td>    3.055</td>\n",
       "</tr>\n",
       "<tr>\n",
       "  <th>Last_Activity_Olark Chat Conversation</th>   <td>   -0.8330</td> <td>    0.163</td> <td>   -5.107</td> <td> 0.000</td> <td>   -1.153</td> <td>   -0.513</td>\n",
       "</tr>\n",
       "<tr>\n",
       "  <th>Last_Activity_Other</th>                     <td>   -1.1352</td> <td>    0.423</td> <td>   -2.683</td> <td> 0.007</td> <td>   -1.964</td> <td>   -0.306</td>\n",
       "</tr>\n",
       "<tr>\n",
       "  <th>Last_Activity_SMS Sent</th>                  <td>    1.4128</td> <td>    0.076</td> <td>   18.508</td> <td> 0.000</td> <td>    1.263</td> <td>    1.562</td>\n",
       "</tr>\n",
       "<tr>\n",
       "  <th>current_occupation_Working Professional</th> <td>    2.2963</td> <td>    0.181</td> <td>   12.659</td> <td> 0.000</td> <td>    1.941</td> <td>    2.652</td>\n",
       "</tr>\n",
       "<tr>\n",
       "  <th>course_matters_Other</th>                    <td>   -1.2225</td> <td>    0.088</td> <td>  -13.818</td> <td> 0.000</td> <td>   -1.396</td> <td>   -1.049</td>\n",
       "</tr>\n",
       "</table>"
      ],
      "text/plain": [
       "<class 'statsmodels.iolib.summary.Summary'>\n",
       "\"\"\"\n",
       "                 Generalized Linear Model Regression Results                  \n",
       "==============================================================================\n",
       "Dep. Variable:              Converted   No. Observations:                 6075\n",
       "Model:                            GLM   Df Residuals:                     6060\n",
       "Model Family:                Binomial   Df Model:                           14\n",
       "Link Function:                  logit   Scale:                          1.0000\n",
       "Method:                          IRLS   Log-Likelihood:                -2527.2\n",
       "Date:                Sun, 03 Mar 2019   Deviance:                       5054.3\n",
       "Time:                        22:35:37   Pearson chi2:                 5.90e+03\n",
       "No. Iterations:                     7   Covariance Type:             nonrobust\n",
       "===========================================================================================================\n",
       "                                              coef    std err          z      P>|z|      [0.025      0.975]\n",
       "-----------------------------------------------------------------------------------------------------------\n",
       "const                                      -1.5251      0.070    -21.832      0.000      -1.662      -1.388\n",
       "Do Not Email                               -1.4542      0.176     -8.247      0.000      -1.800      -1.109\n",
       "Total Time Spent on Website                 3.8542      0.151     25.606      0.000       3.559       4.149\n",
       "Lead_Origin_Lead Add Form                   2.8738      0.202     14.218      0.000       2.478       3.270\n",
       "Lead_Source_Direct Traffic                 -0.6648      0.084     -7.900      0.000      -0.830      -0.500\n",
       "Lead_Source_Organic Search                 -0.5554      0.114     -4.882      0.000      -0.778      -0.332\n",
       "Lead_Source_Referral Sites                 -0.6320      0.338     -1.872      0.061      -1.294       0.030\n",
       "Lead_Source_Welingak Website                2.0996      0.742      2.829      0.005       0.645       3.554\n",
       "Last_notable_Activity_Unreachable           1.8366      0.560      3.281      0.001       0.740       2.934\n",
       "Last_Activity_Had a Phone Conversation      1.7167      0.683      2.515      0.012       0.379       3.055\n",
       "Last_Activity_Olark Chat Conversation      -0.8330      0.163     -5.107      0.000      -1.153      -0.513\n",
       "Last_Activity_Other                        -1.1352      0.423     -2.683      0.007      -1.964      -0.306\n",
       "Last_Activity_SMS Sent                      1.4128      0.076     18.508      0.000       1.263       1.562\n",
       "current_occupation_Working Professional     2.2963      0.181     12.659      0.000       1.941       2.652\n",
       "course_matters_Other                       -1.2225      0.088    -13.818      0.000      -1.396      -1.049\n",
       "===========================================================================================================\n",
       "\"\"\""
      ]
     },
     "execution_count": 76,
     "metadata": {},
     "output_type": "execute_result"
    }
   ],
   "source": [
    "X_train_sm3=sm.add_constant(X_train_sm2)\n",
    "\n",
    "# Logistic regression model\n",
    "binomial_model3 = sm.GLM(y_train, X_train_sm3, family = sm.families.Binomial())\n",
    "\n",
    "#Fit the model. This is important step\n",
    "log_res3=binomial_model3.fit()\n",
    "log_res3.summary()"
   ]
  },
  {
   "cell_type": "code",
   "execution_count": 77,
   "metadata": {},
   "outputs": [
    {
     "data": {
      "text/html": [
       "<div>\n",
       "<style scoped>\n",
       "    .dataframe tbody tr th:only-of-type {\n",
       "        vertical-align: middle;\n",
       "    }\n",
       "\n",
       "    .dataframe tbody tr th {\n",
       "        vertical-align: top;\n",
       "    }\n",
       "\n",
       "    .dataframe thead th {\n",
       "        text-align: right;\n",
       "    }\n",
       "</style>\n",
       "<table border=\"1\" class=\"dataframe\">\n",
       "  <thead>\n",
       "    <tr style=\"text-align: right;\">\n",
       "      <th></th>\n",
       "      <th>Converted</th>\n",
       "      <th>Converted_Prob</th>\n",
       "      <th>index</th>\n",
       "    </tr>\n",
       "  </thead>\n",
       "  <tbody>\n",
       "    <tr>\n",
       "      <th>0</th>\n",
       "      <td>0</td>\n",
       "      <td>0.128051</td>\n",
       "      <td>2874</td>\n",
       "    </tr>\n",
       "    <tr>\n",
       "      <th>1</th>\n",
       "      <td>1</td>\n",
       "      <td>0.550950</td>\n",
       "      <td>2877</td>\n",
       "    </tr>\n",
       "    <tr>\n",
       "      <th>2</th>\n",
       "      <td>1</td>\n",
       "      <td>0.940556</td>\n",
       "      <td>4378</td>\n",
       "    </tr>\n",
       "    <tr>\n",
       "      <th>3</th>\n",
       "      <td>0</td>\n",
       "      <td>0.086419</td>\n",
       "      <td>8847</td>\n",
       "    </tr>\n",
       "    <tr>\n",
       "      <th>4</th>\n",
       "      <td>1</td>\n",
       "      <td>0.094559</td>\n",
       "      <td>1421</td>\n",
       "    </tr>\n",
       "  </tbody>\n",
       "</table>\n",
       "</div>"
      ],
      "text/plain": [
       "   Converted  Converted_Prob  index\n",
       "0          0        0.128051   2874\n",
       "1          1        0.550950   2877\n",
       "2          1        0.940556   4378\n",
       "3          0        0.086419   8847\n",
       "4          1        0.094559   1421"
      ]
     },
     "execution_count": 77,
     "metadata": {},
     "output_type": "execute_result"
    }
   ],
   "source": [
    "# Getting the predicted values on the train set\n",
    "y_train_pred3 = log_res3.predict(X_train_sm2)\n",
    "y_train_pred3 = y_train_pred3.values.reshape(-1)\n",
    "\n",
    "# Creating a dataframe with the actual flag and the predicted probabilities\n",
    "y_train_pred_final3 = pd.DataFrame({'Converted':y_train.values, 'Converted_Prob':y_train_pred3})\n",
    "y_train_pred_final3['index'] = y_train.index\n",
    "y_train_pred_final3.head()"
   ]
  },
  {
   "cell_type": "code",
   "execution_count": 78,
   "metadata": {},
   "outputs": [
    {
     "data": {
      "text/html": [
       "<div>\n",
       "<style scoped>\n",
       "    .dataframe tbody tr th:only-of-type {\n",
       "        vertical-align: middle;\n",
       "    }\n",
       "\n",
       "    .dataframe tbody tr th {\n",
       "        vertical-align: top;\n",
       "    }\n",
       "\n",
       "    .dataframe thead th {\n",
       "        text-align: right;\n",
       "    }\n",
       "</style>\n",
       "<table border=\"1\" class=\"dataframe\">\n",
       "  <thead>\n",
       "    <tr style=\"text-align: right;\">\n",
       "      <th></th>\n",
       "      <th>Converted</th>\n",
       "      <th>Converted_Prob</th>\n",
       "      <th>index</th>\n",
       "      <th>predicted</th>\n",
       "    </tr>\n",
       "  </thead>\n",
       "  <tbody>\n",
       "    <tr>\n",
       "      <th>0</th>\n",
       "      <td>0</td>\n",
       "      <td>0.128051</td>\n",
       "      <td>2874</td>\n",
       "      <td>0</td>\n",
       "    </tr>\n",
       "    <tr>\n",
       "      <th>1</th>\n",
       "      <td>1</td>\n",
       "      <td>0.550950</td>\n",
       "      <td>2877</td>\n",
       "      <td>1</td>\n",
       "    </tr>\n",
       "    <tr>\n",
       "      <th>2</th>\n",
       "      <td>1</td>\n",
       "      <td>0.940556</td>\n",
       "      <td>4378</td>\n",
       "      <td>1</td>\n",
       "    </tr>\n",
       "    <tr>\n",
       "      <th>3</th>\n",
       "      <td>0</td>\n",
       "      <td>0.086419</td>\n",
       "      <td>8847</td>\n",
       "      <td>0</td>\n",
       "    </tr>\n",
       "    <tr>\n",
       "      <th>4</th>\n",
       "      <td>1</td>\n",
       "      <td>0.094559</td>\n",
       "      <td>1421</td>\n",
       "      <td>0</td>\n",
       "    </tr>\n",
       "  </tbody>\n",
       "</table>\n",
       "</div>"
      ],
      "text/plain": [
       "   Converted  Converted_Prob  index  predicted\n",
       "0          0        0.128051   2874          0\n",
       "1          1        0.550950   2877          1\n",
       "2          1        0.940556   4378          1\n",
       "3          0        0.086419   8847          0\n",
       "4          1        0.094559   1421          0"
      ]
     },
     "execution_count": 78,
     "metadata": {},
     "output_type": "execute_result"
    }
   ],
   "source": [
    "# Creating new column 'predicted' with 1 if Converted_Prob > 0.5 else 0\n",
    "y_train_pred_final3['predicted'] = y_train_pred_final3.Converted_Prob.map(lambda x: 1 if x > 0.5 else 0)\n",
    "\n",
    "# Let's see the head\n",
    "y_train_pred_final3.head()"
   ]
  },
  {
   "cell_type": "code",
   "execution_count": 79,
   "metadata": {},
   "outputs": [
    {
     "data": {
      "text/plain": [
       "0.8036213991769547"
      ]
     },
     "execution_count": 79,
     "metadata": {},
     "output_type": "execute_result"
    }
   ],
   "source": [
    "# Let's check the accuracy Score\n",
    "metrics.accuracy_score(y_train,y_train_pred_final3.predicted)"
   ]
  },
  {
   "cell_type": "markdown",
   "metadata": {},
   "source": [
    "##### Accuracy score has changed marginally\n",
    "##### p-value of all variables is zero which are significant. We will calculate the multicolinearity (VIF)."
   ]
  },
  {
   "cell_type": "code",
   "execution_count": 80,
   "metadata": {},
   "outputs": [
    {
     "data": {
      "text/html": [
       "<div>\n",
       "<style scoped>\n",
       "    .dataframe tbody tr th:only-of-type {\n",
       "        vertical-align: middle;\n",
       "    }\n",
       "\n",
       "    .dataframe tbody tr th {\n",
       "        vertical-align: top;\n",
       "    }\n",
       "\n",
       "    .dataframe thead th {\n",
       "        text-align: right;\n",
       "    }\n",
       "</style>\n",
       "<table border=\"1\" class=\"dataframe\">\n",
       "  <thead>\n",
       "    <tr style=\"text-align: right;\">\n",
       "      <th></th>\n",
       "      <th>Features</th>\n",
       "      <th>VIF</th>\n",
       "    </tr>\n",
       "  </thead>\n",
       "  <tbody>\n",
       "    <tr>\n",
       "      <th>0</th>\n",
       "      <td>const</td>\n",
       "      <td>4.40</td>\n",
       "    </tr>\n",
       "    <tr>\n",
       "      <th>3</th>\n",
       "      <td>Lead_Origin_Lead Add Form</td>\n",
       "      <td>1.61</td>\n",
       "    </tr>\n",
       "    <tr>\n",
       "      <th>7</th>\n",
       "      <td>Lead_Source_Welingak Website</td>\n",
       "      <td>1.26</td>\n",
       "    </tr>\n",
       "    <tr>\n",
       "      <th>4</th>\n",
       "      <td>Lead_Source_Direct Traffic</td>\n",
       "      <td>1.19</td>\n",
       "    </tr>\n",
       "    <tr>\n",
       "      <th>10</th>\n",
       "      <td>Last_Activity_Olark Chat Conversation</td>\n",
       "      <td>1.17</td>\n",
       "    </tr>\n",
       "    <tr>\n",
       "      <th>11</th>\n",
       "      <td>Last_Activity_Other</td>\n",
       "      <td>1.17</td>\n",
       "    </tr>\n",
       "    <tr>\n",
       "      <th>2</th>\n",
       "      <td>Total Time Spent on Website</td>\n",
       "      <td>1.15</td>\n",
       "    </tr>\n",
       "    <tr>\n",
       "      <th>14</th>\n",
       "      <td>course_matters_Other</td>\n",
       "      <td>1.13</td>\n",
       "    </tr>\n",
       "    <tr>\n",
       "      <th>5</th>\n",
       "      <td>Lead_Source_Organic Search</td>\n",
       "      <td>1.11</td>\n",
       "    </tr>\n",
       "    <tr>\n",
       "      <th>12</th>\n",
       "      <td>Last_Activity_SMS Sent</td>\n",
       "      <td>1.11</td>\n",
       "    </tr>\n",
       "    <tr>\n",
       "      <th>13</th>\n",
       "      <td>current_occupation_Working Professional</td>\n",
       "      <td>1.11</td>\n",
       "    </tr>\n",
       "    <tr>\n",
       "      <th>1</th>\n",
       "      <td>Do Not Email</td>\n",
       "      <td>1.03</td>\n",
       "    </tr>\n",
       "    <tr>\n",
       "      <th>6</th>\n",
       "      <td>Lead_Source_Referral Sites</td>\n",
       "      <td>1.02</td>\n",
       "    </tr>\n",
       "    <tr>\n",
       "      <th>9</th>\n",
       "      <td>Last_Activity_Had a Phone Conversation</td>\n",
       "      <td>1.01</td>\n",
       "    </tr>\n",
       "    <tr>\n",
       "      <th>8</th>\n",
       "      <td>Last_notable_Activity_Unreachable</td>\n",
       "      <td>1.00</td>\n",
       "    </tr>\n",
       "  </tbody>\n",
       "</table>\n",
       "</div>"
      ],
      "text/plain": [
       "                                   Features   VIF\n",
       "0                                     const  4.40\n",
       "3                 Lead_Origin_Lead Add Form  1.61\n",
       "7              Lead_Source_Welingak Website  1.26\n",
       "4                Lead_Source_Direct Traffic  1.19\n",
       "10    Last_Activity_Olark Chat Conversation  1.17\n",
       "11                      Last_Activity_Other  1.17\n",
       "2               Total Time Spent on Website  1.15\n",
       "14                     course_matters_Other  1.13\n",
       "5                Lead_Source_Organic Search  1.11\n",
       "12                   Last_Activity_SMS Sent  1.11\n",
       "13  current_occupation_Working Professional  1.11\n",
       "1                              Do Not Email  1.03\n",
       "6                Lead_Source_Referral Sites  1.02\n",
       "9    Last_Activity_Had a Phone Conversation  1.01\n",
       "8         Last_notable_Activity_Unreachable  1.00"
      ]
     },
     "execution_count": 80,
     "metadata": {},
     "output_type": "execute_result"
    }
   ],
   "source": [
    "# Calculate the VIFs for the new model\n",
    "from statsmodels.stats.outliers_influence import variance_inflation_factor\n",
    "\n",
    "vif = pd.DataFrame()\n",
    "vif['Features'] = X_train_sm3.columns\n",
    "vif['VIF'] = [variance_inflation_factor(X_train_sm3.values, i) for i in range(X_train_sm3.shape[1])]\n",
    "vif['VIF'] = round(vif['VIF'], 2)\n",
    "vif = vif.sort_values(by = \"VIF\", ascending = False)\n",
    "vif"
   ]
  },
  {
   "cell_type": "markdown",
   "metadata": {},
   "source": [
    "##### VIF values of all variables are less than 5 except constant.\n",
    "##### We will drop `const` variable now."
   ]
  },
  {
   "cell_type": "code",
   "execution_count": 81,
   "metadata": {},
   "outputs": [],
   "source": [
    "X_train_sm_final = X_train_sm3.drop(['const'], axis=1)"
   ]
  },
  {
   "cell_type": "code",
   "execution_count": 82,
   "metadata": {},
   "outputs": [
    {
     "data": {
      "image/png": "[encoded data removed]",
      "text/plain": [
       "<Figure size 1440x720 with 2 Axes>"
      ]
     },
     "metadata": {
      "needs_background": "light"
     },
     "output_type": "display_data"
    }
   ],
   "source": [
    "# Let's see the correlation matrix \n",
    "plt.figure(figsize = (20,10))        # Size of the figure\n",
    "sns.heatmap(X_train_sm_final.corr(),annot = True)\n",
    "plt.show()"
   ]
  },
  {
   "cell_type": "markdown",
   "metadata": {},
   "source": [
    "#### Observtions - Heatmap shows all variables co-relation is less."
   ]
  },
  {
   "cell_type": "markdown",
   "metadata": {},
   "source": [
    "### Subjective Questions - 1 Top 2 Numeric variables\n",
    "    1) Total time spent on Website.\n",
    "    2) Total Visits"
   ]
  },
  {
   "cell_type": "markdown",
   "metadata": {},
   "source": [
    "### Subjective Questions - 2 Top 3 Categorical/Dummy variables\n",
    "    1) Lead_Origin_Lead Add Form\n",
    "    2) Current_occupation_Working Professional\n",
    "    3) Lead_Source_Welingak Website"
   ]
  },
  {
   "cell_type": "markdown",
   "metadata": {},
   "source": [
    "### Lead Score on Train Dataset"
   ]
  },
  {
   "cell_type": "code",
   "execution_count": 83,
   "metadata": {},
   "outputs": [
    {
     "data": {
      "text/html": [
       "<div>\n",
       "<style scoped>\n",
       "    .dataframe tbody tr th:only-of-type {\n",
       "        vertical-align: middle;\n",
       "    }\n",
       "\n",
       "    .dataframe tbody tr th {\n",
       "        vertical-align: top;\n",
       "    }\n",
       "\n",
       "    .dataframe thead th {\n",
       "        text-align: right;\n",
       "    }\n",
       "</style>\n",
       "<table border=\"1\" class=\"dataframe\">\n",
       "  <thead>\n",
       "    <tr style=\"text-align: right;\">\n",
       "      <th></th>\n",
       "      <th>Converted</th>\n",
       "      <th>Converted_Prob</th>\n",
       "      <th>index</th>\n",
       "      <th>predicted</th>\n",
       "      <th>Lead_Score</th>\n",
       "    </tr>\n",
       "  </thead>\n",
       "  <tbody>\n",
       "    <tr>\n",
       "      <th>0</th>\n",
       "      <td>0</td>\n",
       "      <td>0.128051</td>\n",
       "      <td>2874</td>\n",
       "      <td>0</td>\n",
       "      <td>12.805134</td>\n",
       "    </tr>\n",
       "    <tr>\n",
       "      <th>1</th>\n",
       "      <td>1</td>\n",
       "      <td>0.550950</td>\n",
       "      <td>2877</td>\n",
       "      <td>1</td>\n",
       "      <td>55.095026</td>\n",
       "    </tr>\n",
       "    <tr>\n",
       "      <th>2</th>\n",
       "      <td>1</td>\n",
       "      <td>0.940556</td>\n",
       "      <td>4378</td>\n",
       "      <td>1</td>\n",
       "      <td>94.055619</td>\n",
       "    </tr>\n",
       "    <tr>\n",
       "      <th>3</th>\n",
       "      <td>0</td>\n",
       "      <td>0.086419</td>\n",
       "      <td>8847</td>\n",
       "      <td>0</td>\n",
       "      <td>8.641898</td>\n",
       "    </tr>\n",
       "    <tr>\n",
       "      <th>4</th>\n",
       "      <td>1</td>\n",
       "      <td>0.094559</td>\n",
       "      <td>1421</td>\n",
       "      <td>0</td>\n",
       "      <td>9.455936</td>\n",
       "    </tr>\n",
       "  </tbody>\n",
       "</table>\n",
       "</div>"
      ],
      "text/plain": [
       "   Converted  Converted_Prob  index  predicted  Lead_Score\n",
       "0          0        0.128051   2874          0   12.805134\n",
       "1          1        0.550950   2877          1   55.095026\n",
       "2          1        0.940556   4378          1   94.055619\n",
       "3          0        0.086419   8847          0    8.641898\n",
       "4          1        0.094559   1421          0    9.455936"
      ]
     },
     "execution_count": 83,
     "metadata": {},
     "output_type": "execute_result"
    }
   ],
   "source": [
    "y_train_pred_final3['Lead_Score']= y_train_pred_final3['Converted_Prob']*100\n",
    "y_train_pred_final3.head()"
   ]
  },
  {
   "cell_type": "code",
   "execution_count": 84,
   "metadata": {},
   "outputs": [
    {
     "data": {
      "text/plain": [
       "<matplotlib.axes._subplots.AxesSubplot at 0x1dd6eec27b8>"
      ]
     },
     "execution_count": 84,
     "metadata": {},
     "output_type": "execute_result"
    },
    {
     "data": {
      "image/png": "[encoded data removed]",
      "text/plain": [
       "<Figure size 432x288 with 1 Axes>"
      ]
     },
     "metadata": {
      "needs_background": "light"
     },
     "output_type": "display_data"
    }
   ],
   "source": [
    "temp_train=y_train_pred_final3['Lead_Score']\n",
    "sns.distplot(temp_train, hist=True, bins=10, kde=True)"
   ]
  },
  {
   "cell_type": "markdown",
   "metadata": {},
   "source": [
    "### ROC"
   ]
  },
  {
   "cell_type": "code",
   "execution_count": 85,
   "metadata": {},
   "outputs": [],
   "source": [
    "# Let's plot the ROC\n",
    "fpr, tpr, thresholds = metrics.roc_curve(y_train,y_train_pred_final3.Converted_Prob , drop_intermediate = False)"
   ]
  },
  {
   "cell_type": "code",
   "execution_count": 86,
   "metadata": {},
   "outputs": [],
   "source": [
    "def draw_roc( actual, probs ):\n",
    "    fpr, tpr, thresholds = metrics.roc_curve( actual, probs, drop_intermediate = False )\n",
    "    auc_score = metrics.roc_auc_score( actual, probs )\n",
    "    plt.figure(figsize=(13, 7))\n",
    "    plt.plot( fpr, tpr, label='ROC curve (area = %0.2f)' % auc_score )\n",
    "    plt.plot([0, 1], [0, 1], 'k--')\n",
    "    plt.xlim([0.0, 1.0])\n",
    "    plt.ylim([0.0, 1.05])\n",
    "    plt.xlabel('False Positive Rate')\n",
    "    plt.ylabel('True Positive Rate')\n",
    "    plt.title('Receiver operating characteristic')\n",
    "    plt.legend(loc=\"lower right\")\n",
    "    plt.show()\n",
    "\n",
    "    return None"
   ]
  },
  {
   "cell_type": "code",
   "execution_count": 87,
   "metadata": {},
   "outputs": [
    {
     "data": {
      "image/png": "[encoded data removed]",
      "text/plain": [
       "<Figure size 936x504 with 1 Axes>"
      ]
     },
     "metadata": {
      "needs_background": "light"
     },
     "output_type": "display_data"
    }
   ],
   "source": [
    "draw_roc(y_train_pred_final3.Converted,y_train_pred_final3.Converted_Prob)"
   ]
  },
  {
   "cell_type": "code",
   "execution_count": 88,
   "metadata": {},
   "outputs": [
    {
     "data": {
      "text/plain": [
       "0.7230090550267008"
      ]
     },
     "execution_count": 88,
     "metadata": {},
     "output_type": "execute_result"
    }
   ],
   "source": [
    "# Let's plot the F1- Score\n",
    "metrics.f1_score(y_train,y_train_pred_final3.predicted)"
   ]
  },
  {
   "cell_type": "code",
   "execution_count": 89,
   "metadata": {},
   "outputs": [
    {
     "data": {
      "text/plain": [
       "0.16891836897046952"
      ]
     },
     "execution_count": 89,
     "metadata": {},
     "output_type": "execute_result"
    }
   ],
   "source": [
    "metrics.r2_score(y_train,y_train_pred_final.predicted)"
   ]
  },
  {
   "cell_type": "markdown",
   "metadata": {},
   "source": [
    "#### Let's find Optimal Cutoff Point"
   ]
  },
  {
   "cell_type": "code",
   "execution_count": 90,
   "metadata": {},
   "outputs": [
    {
     "data": {
      "text/html": [
       "<div>\n",
       "<style scoped>\n",
       "    .dataframe tbody tr th:only-of-type {\n",
       "        vertical-align: middle;\n",
       "    }\n",
       "\n",
       "    .dataframe tbody tr th {\n",
       "        vertical-align: top;\n",
       "    }\n",
       "\n",
       "    .dataframe thead th {\n",
       "        text-align: right;\n",
       "    }\n",
       "</style>\n",
       "<table border=\"1\" class=\"dataframe\">\n",
       "  <thead>\n",
       "    <tr style=\"text-align: right;\">\n",
       "      <th></th>\n",
       "      <th>Converted</th>\n",
       "      <th>Converted_Prob</th>\n",
       "      <th>index</th>\n",
       "      <th>predicted</th>\n",
       "      <th>Lead_Score</th>\n",
       "      <th>0.0</th>\n",
       "      <th>0.1</th>\n",
       "      <th>0.2</th>\n",
       "      <th>0.3</th>\n",
       "      <th>0.4</th>\n",
       "      <th>0.5</th>\n",
       "      <th>0.6</th>\n",
       "      <th>0.7</th>\n",
       "      <th>0.8</th>\n",
       "      <th>0.9</th>\n",
       "    </tr>\n",
       "  </thead>\n",
       "  <tbody>\n",
       "    <tr>\n",
       "      <th>0</th>\n",
       "      <td>0</td>\n",
       "      <td>0.128051</td>\n",
       "      <td>2874</td>\n",
       "      <td>0</td>\n",
       "      <td>12.805134</td>\n",
       "      <td>1</td>\n",
       "      <td>1</td>\n",
       "      <td>0</td>\n",
       "      <td>0</td>\n",
       "      <td>0</td>\n",
       "      <td>0</td>\n",
       "      <td>0</td>\n",
       "      <td>0</td>\n",
       "      <td>0</td>\n",
       "      <td>0</td>\n",
       "    </tr>\n",
       "    <tr>\n",
       "      <th>1</th>\n",
       "      <td>1</td>\n",
       "      <td>0.550950</td>\n",
       "      <td>2877</td>\n",
       "      <td>1</td>\n",
       "      <td>55.095026</td>\n",
       "      <td>1</td>\n",
       "      <td>1</td>\n",
       "      <td>1</td>\n",
       "      <td>1</td>\n",
       "      <td>1</td>\n",
       "      <td>1</td>\n",
       "      <td>0</td>\n",
       "      <td>0</td>\n",
       "      <td>0</td>\n",
       "      <td>0</td>\n",
       "    </tr>\n",
       "    <tr>\n",
       "      <th>2</th>\n",
       "      <td>1</td>\n",
       "      <td>0.940556</td>\n",
       "      <td>4378</td>\n",
       "      <td>1</td>\n",
       "      <td>94.055619</td>\n",
       "      <td>1</td>\n",
       "      <td>1</td>\n",
       "      <td>1</td>\n",
       "      <td>1</td>\n",
       "      <td>1</td>\n",
       "      <td>1</td>\n",
       "      <td>1</td>\n",
       "      <td>1</td>\n",
       "      <td>1</td>\n",
       "      <td>1</td>\n",
       "    </tr>\n",
       "    <tr>\n",
       "      <th>3</th>\n",
       "      <td>0</td>\n",
       "      <td>0.086419</td>\n",
       "      <td>8847</td>\n",
       "      <td>0</td>\n",
       "      <td>8.641898</td>\n",
       "      <td>1</td>\n",
       "      <td>0</td>\n",
       "      <td>0</td>\n",
       "      <td>0</td>\n",
       "      <td>0</td>\n",
       "      <td>0</td>\n",
       "      <td>0</td>\n",
       "      <td>0</td>\n",
       "      <td>0</td>\n",
       "      <td>0</td>\n",
       "    </tr>\n",
       "    <tr>\n",
       "      <th>4</th>\n",
       "      <td>1</td>\n",
       "      <td>0.094559</td>\n",
       "      <td>1421</td>\n",
       "      <td>0</td>\n",
       "      <td>9.455936</td>\n",
       "      <td>1</td>\n",
       "      <td>0</td>\n",
       "      <td>0</td>\n",
       "      <td>0</td>\n",
       "      <td>0</td>\n",
       "      <td>0</td>\n",
       "      <td>0</td>\n",
       "      <td>0</td>\n",
       "      <td>0</td>\n",
       "      <td>0</td>\n",
       "    </tr>\n",
       "  </tbody>\n",
       "</table>\n",
       "</div>"
      ],
      "text/plain": [
       "   Converted  Converted_Prob  index  predicted  Lead_Score  0.0  0.1  0.2  \\\n",
       "0          0        0.128051   2874          0   12.805134    1    1    0   \n",
       "1          1        0.550950   2877          1   55.095026    1    1    1   \n",
       "2          1        0.940556   4378          1   94.055619    1    1    1   \n",
       "3          0        0.086419   8847          0    8.641898    1    0    0   \n",
       "4          1        0.094559   1421          0    9.455936    1    0    0   \n",
       "\n",
       "   0.3  0.4  0.5  0.6  0.7  0.8  0.9  \n",
       "0    0    0    0    0    0    0    0  \n",
       "1    1    1    1    0    0    0    0  \n",
       "2    1    1    1    1    1    1    1  \n",
       "3    0    0    0    0    0    0    0  \n",
       "4    0    0    0    0    0    0    0  "
      ]
     },
     "execution_count": 90,
     "metadata": {},
     "output_type": "execute_result"
    }
   ],
   "source": [
    "# Let's create columns with different probability cutoffs \n",
    "numbers = [float(x)/10 for x in range(10)]\n",
    "for i in numbers:\n",
    "    y_train_pred_final3[i]= y_train_pred_final3.Converted_Prob.map(lambda x: 1 if x > i else 0)\n",
    "y_train_pred_final3.head()"
   ]
  },
  {
   "cell_type": "code",
   "execution_count": 91,
   "metadata": {},
   "outputs": [
    {
     "name": "stdout",
     "output_type": "stream",
     "text": [
      "     prob  accuracy     sensi     speci\n",
      "0.0   0.0  0.380412  1.000000  0.000000\n",
      "0.1   0.1  0.611687  0.981826  0.384431\n",
      "0.2   0.2  0.736790  0.893553  0.640542\n",
      "0.3   0.3  0.793909  0.834704  0.768863\n",
      "0.4   0.4  0.805761  0.772826  0.825983\n",
      "0.5   0.5  0.803621  0.673734  0.883369\n",
      "0.6   0.6  0.798189  0.594115  0.923486\n",
      "0.7   0.7  0.783374  0.511900  0.950053\n",
      "0.8   0.8  0.751276  0.392038  0.971838\n",
      "0.9   0.9  0.716708  0.273042  0.989107\n"
     ]
    }
   ],
   "source": [
    "# Now let's calculate accuracy sensitivity and specificity for various probability cutoffs.\n",
    "cutoff_df = pd.DataFrame( columns = ['prob','accuracy','sensi','speci'])\n",
    "\n",
    "for i in numbers:\n",
    "    cm1 = metrics.confusion_matrix(y_train_pred_final3.Converted, y_train_pred_final3[i] )\n",
    "    total1=sum(sum(cm1))\n",
    "    accuracy = (cm1[0,0]+cm1[1,1])/total1\n",
    "    \n",
    "    speci = cm1[0,0]/(cm1[0,0]+cm1[0,1])\n",
    "    sensi = cm1[1,1]/(cm1[1,0]+cm1[1,1])\n",
    "    cutoff_df.loc[i] =[ i ,accuracy,sensi,speci]\n",
    "print(cutoff_df)"
   ]
  },
  {
   "cell_type": "code",
   "execution_count": 92,
   "metadata": {},
   "outputs": [
    {
     "data": {
      "image/png": "[encoded data removed]",
      "text/plain": [
       "<Figure size 432x288 with 1 Axes>"
      ]
     },
     "metadata": {
      "needs_background": "light"
     },
     "output_type": "display_data"
    }
   ],
   "source": [
    "# Let's plot accuracy sensitivity and specificity for various probabilities.\n",
    "cutoff_df.plot.line(x='prob', y=['accuracy','sensi','speci'])\n",
    "plt.suptitle('Optimal Cut of Point', fontsize = 15)\n",
    "plt.xlabel('Probablity', fontsize = 10)\n",
    "plt.ylabel('Accuracy, Sensitivity and Specificity', fontsize = 10)\n",
    "plt.show()"
   ]
  },
  {
   "cell_type": "markdown",
   "metadata": {},
   "source": [
    "### Observations from Graph\n",
    "    1) ~0.35 Probability is optimum point where Accuracy, Sensitivity and Specificity is optimum.\n",
    "    2) X-Education CEO requirement is to have ball park 80% conversion Rate\n",
    "    3) To achieve it, we need set the Cut-off Probability to ~0.55"
   ]
  },
  {
   "cell_type": "markdown",
   "metadata": {},
   "source": [
    "### Let's Achieve 80% ball park Conversion Rate with Probablity of 0.55"
   ]
  },
  {
   "cell_type": "code",
   "execution_count": 93,
   "metadata": {},
   "outputs": [
    {
     "data": {
      "text/html": [
       "<div>\n",
       "<style scoped>\n",
       "    .dataframe tbody tr th:only-of-type {\n",
       "        vertical-align: middle;\n",
       "    }\n",
       "\n",
       "    .dataframe tbody tr th {\n",
       "        vertical-align: top;\n",
       "    }\n",
       "\n",
       "    .dataframe thead th {\n",
       "        text-align: right;\n",
       "    }\n",
       "</style>\n",
       "<table border=\"1\" class=\"dataframe\">\n",
       "  <thead>\n",
       "    <tr style=\"text-align: right;\">\n",
       "      <th></th>\n",
       "      <th>Converted</th>\n",
       "      <th>Converted_Prob</th>\n",
       "      <th>index</th>\n",
       "      <th>predicted</th>\n",
       "      <th>Lead_Score</th>\n",
       "      <th>0.0</th>\n",
       "      <th>0.1</th>\n",
       "      <th>0.2</th>\n",
       "      <th>0.3</th>\n",
       "      <th>0.4</th>\n",
       "      <th>0.5</th>\n",
       "      <th>0.6</th>\n",
       "      <th>0.7</th>\n",
       "      <th>0.8</th>\n",
       "      <th>0.9</th>\n",
       "    </tr>\n",
       "  </thead>\n",
       "  <tbody>\n",
       "    <tr>\n",
       "      <th>0</th>\n",
       "      <td>0</td>\n",
       "      <td>0.128051</td>\n",
       "      <td>2874</td>\n",
       "      <td>0</td>\n",
       "      <td>12.805134</td>\n",
       "      <td>1</td>\n",
       "      <td>1</td>\n",
       "      <td>0</td>\n",
       "      <td>0</td>\n",
       "      <td>0</td>\n",
       "      <td>0</td>\n",
       "      <td>0</td>\n",
       "      <td>0</td>\n",
       "      <td>0</td>\n",
       "      <td>0</td>\n",
       "    </tr>\n",
       "    <tr>\n",
       "      <th>1</th>\n",
       "      <td>1</td>\n",
       "      <td>0.550950</td>\n",
       "      <td>2877</td>\n",
       "      <td>1</td>\n",
       "      <td>55.095026</td>\n",
       "      <td>1</td>\n",
       "      <td>1</td>\n",
       "      <td>1</td>\n",
       "      <td>1</td>\n",
       "      <td>1</td>\n",
       "      <td>1</td>\n",
       "      <td>0</td>\n",
       "      <td>0</td>\n",
       "      <td>0</td>\n",
       "      <td>0</td>\n",
       "    </tr>\n",
       "    <tr>\n",
       "      <th>2</th>\n",
       "      <td>1</td>\n",
       "      <td>0.940556</td>\n",
       "      <td>4378</td>\n",
       "      <td>1</td>\n",
       "      <td>94.055619</td>\n",
       "      <td>1</td>\n",
       "      <td>1</td>\n",
       "      <td>1</td>\n",
       "      <td>1</td>\n",
       "      <td>1</td>\n",
       "      <td>1</td>\n",
       "      <td>1</td>\n",
       "      <td>1</td>\n",
       "      <td>1</td>\n",
       "      <td>1</td>\n",
       "    </tr>\n",
       "    <tr>\n",
       "      <th>3</th>\n",
       "      <td>0</td>\n",
       "      <td>0.086419</td>\n",
       "      <td>8847</td>\n",
       "      <td>0</td>\n",
       "      <td>8.641898</td>\n",
       "      <td>1</td>\n",
       "      <td>0</td>\n",
       "      <td>0</td>\n",
       "      <td>0</td>\n",
       "      <td>0</td>\n",
       "      <td>0</td>\n",
       "      <td>0</td>\n",
       "      <td>0</td>\n",
       "      <td>0</td>\n",
       "      <td>0</td>\n",
       "    </tr>\n",
       "    <tr>\n",
       "      <th>4</th>\n",
       "      <td>1</td>\n",
       "      <td>0.094559</td>\n",
       "      <td>1421</td>\n",
       "      <td>0</td>\n",
       "      <td>9.455936</td>\n",
       "      <td>1</td>\n",
       "      <td>0</td>\n",
       "      <td>0</td>\n",
       "      <td>0</td>\n",
       "      <td>0</td>\n",
       "      <td>0</td>\n",
       "      <td>0</td>\n",
       "      <td>0</td>\n",
       "      <td>0</td>\n",
       "      <td>0</td>\n",
       "    </tr>\n",
       "  </tbody>\n",
       "</table>\n",
       "</div>"
      ],
      "text/plain": [
       "   Converted  Converted_Prob  index  predicted  Lead_Score  0.0  0.1  0.2  \\\n",
       "0          0        0.128051   2874          0   12.805134    1    1    0   \n",
       "1          1        0.550950   2877          1   55.095026    1    1    1   \n",
       "2          1        0.940556   4378          1   94.055619    1    1    1   \n",
       "3          0        0.086419   8847          0    8.641898    1    0    0   \n",
       "4          1        0.094559   1421          0    9.455936    1    0    0   \n",
       "\n",
       "   0.3  0.4  0.5  0.6  0.7  0.8  0.9  \n",
       "0    0    0    0    0    0    0    0  \n",
       "1    1    1    1    0    0    0    0  \n",
       "2    1    1    1    1    1    1    1  \n",
       "3    0    0    0    0    0    0    0  \n",
       "4    0    0    0    0    0    0    0  "
      ]
     },
     "execution_count": 93,
     "metadata": {},
     "output_type": "execute_result"
    }
   ],
   "source": [
    "# Creating new column 'predicted' with 1 if Converted_Prob > 0.35 else 0\n",
    "y_train_pred_final3['predicted'] = y_train_pred_final3.Converted_Prob.map(lambda x: 1 if x > 0.55 else 0)\n",
    "\n",
    "# Let's see the head\n",
    "y_train_pred_final3.head()"
   ]
  },
  {
   "cell_type": "code",
   "execution_count": 94,
   "metadata": {},
   "outputs": [
    {
     "data": {
      "text/plain": [
       "0.799835390946502"
      ]
     },
     "execution_count": 94,
     "metadata": {},
     "output_type": "execute_result"
    }
   ],
   "source": [
    "# Accuracy Score with probablity of 0.35.\n",
    "metrics.accuracy_score(y_train,y_train_pred_final3.predicted)"
   ]
  },
  {
   "cell_type": "code",
   "execution_count": 95,
   "metadata": {},
   "outputs": [
    {
     "data": {
      "text/plain": [
       "0.797716150081566"
      ]
     },
     "execution_count": 95,
     "metadata": {},
     "output_type": "execute_result"
    }
   ],
   "source": [
    "# Precision score based on probablity of 0.35\n",
    "metrics.precision_score(y_train_pred_final3.Converted, y_train_pred_final3.predicted)"
   ]
  },
  {
   "cell_type": "code",
   "execution_count": 96,
   "metadata": {},
   "outputs": [
    {
     "data": {
      "text/plain": [
       "0.6347901341410644"
      ]
     },
     "execution_count": 96,
     "metadata": {},
     "output_type": "execute_result"
    }
   ],
   "source": [
    "# Recall score based on probablity of 0.35\n",
    "metrics.recall_score(y_train_pred_final3.Converted, y_train_pred_final3.predicted)"
   ]
  },
  {
   "cell_type": "markdown",
   "metadata": {},
   "source": [
    "### Confusion Matrix Analysis"
   ]
  },
  {
   "cell_type": "code",
   "execution_count": 97,
   "metadata": {},
   "outputs": [
    {
     "data": {
      "text/plain": [
       "array([[3392,  372],\n",
       "       [ 844, 1467]], dtype=int64)"
      ]
     },
     "execution_count": 97,
     "metadata": {},
     "output_type": "execute_result"
    }
   ],
   "source": [
    "confusion=metrics.confusion_matrix(y_train_pred_final3.Converted, y_train_pred_final3.predicted)\n",
    "confusion"
   ]
  },
  {
   "cell_type": "code",
   "execution_count": 98,
   "metadata": {},
   "outputs": [],
   "source": [
    "TP = confusion[1,1] # true positive \n",
    "TN = confusion[0,0] # true negatives\n",
    "FP = confusion[0,1] # false positives\n",
    "FN = confusion[1,0] # false negatives"
   ]
  },
  {
   "cell_type": "code",
   "execution_count": 99,
   "metadata": {},
   "outputs": [
    {
     "data": {
      "text/plain": [
       "0.6347901341410644"
      ]
     },
     "execution_count": 99,
     "metadata": {},
     "output_type": "execute_result"
    }
   ],
   "source": [
    "# Let's see the sensitivity of our logistic regression model\n",
    "TP / float(TP+FN)"
   ]
  },
  {
   "cell_type": "code",
   "execution_count": 100,
   "metadata": {},
   "outputs": [
    {
     "data": {
      "text/plain": [
       "0.9011689691817216"
      ]
     },
     "execution_count": 100,
     "metadata": {},
     "output_type": "execute_result"
    }
   ],
   "source": [
    "# Let us calculate specificity\n",
    "TN / float(TN+FP)"
   ]
  },
  {
   "cell_type": "code",
   "execution_count": 101,
   "metadata": {},
   "outputs": [
    {
     "name": "stdout",
     "output_type": "stream",
     "text": [
      "0.09883103081827843\n"
     ]
    }
   ],
   "source": [
    "# Calculate false postive rate - predicting converted when customer does not have get converted\n",
    "print(FP/ float(TN+FP))"
   ]
  },
  {
   "cell_type": "code",
   "execution_count": 102,
   "metadata": {},
   "outputs": [
    {
     "name": "stdout",
     "output_type": "stream",
     "text": [
      "0.797716150081566\n"
     ]
    }
   ],
   "source": [
    "# positive predictive value \n",
    "print (TP / float(TP+FP))"
   ]
  },
  {
   "cell_type": "code",
   "execution_count": 103,
   "metadata": {},
   "outputs": [
    {
     "name": "stdout",
     "output_type": "stream",
     "text": [
      "0.8007554296506137\n"
     ]
    }
   ],
   "source": [
    "# Negative predictive value\n",
    "print (TN / float(TN+ FN))"
   ]
  },
  {
   "cell_type": "markdown",
   "metadata": {},
   "source": [
    "#### Precision and Recall Tradeoff"
   ]
  },
  {
   "cell_type": "code",
   "execution_count": 104,
   "metadata": {},
   "outputs": [],
   "source": [
    "p, r, thresholds = metrics.precision_recall_curve(y_train_pred_final3.Converted, y_train_pred_final3.Converted_Prob)"
   ]
  },
  {
   "cell_type": "code",
   "execution_count": 105,
   "metadata": {},
   "outputs": [
    {
     "data": {
      "text/plain": [
       "<Figure size 432x288 with 0 Axes>"
      ]
     },
     "metadata": {},
     "output_type": "display_data"
    },
    {
     "data": {
      "image/png": "[encoded data removed]",
      "text/plain": [
       "<Figure size 936x504 with 1 Axes>"
      ]
     },
     "metadata": {
      "needs_background": "light"
     },
     "output_type": "display_data"
    }
   ],
   "source": [
    "ax = plt.figure()\n",
    "plt.figure(figsize=(13, 7))\n",
    "plt.plot(thresholds, p[:-1], \"g-\")\n",
    "plt.plot(thresholds, r[:-1], \"r-\")\n",
    "\n",
    "plt.suptitle('Tradeoff', fontsize = 20)\n",
    "plt.xlabel('Thresholds', fontsize = 18)\n",
    "plt.ylabel('Precision & Recall', fontsize = 18)\n",
    "\n",
    "#plt.add_legend(title='Precision and Recall', labels=['Precision','Recall'], bbox_to_anchor=(0.8, 0.5),fontsize='medium',frameon=True)\n",
    "plt.show()"
   ]
  },
  {
   "cell_type": "markdown",
   "metadata": {},
   "source": [
    "## Let's make the predictions on test set"
   ]
  },
  {
   "cell_type": "code",
   "execution_count": 106,
   "metadata": {},
   "outputs": [
    {
     "name": "stdout",
     "output_type": "stream",
     "text": [
      "(2604, 72)\n"
     ]
    },
    {
     "data": {
      "text/html": [
       "<div>\n",
       "<style scoped>\n",
       "    .dataframe tbody tr th:only-of-type {\n",
       "        vertical-align: middle;\n",
       "    }\n",
       "\n",
       "    .dataframe tbody tr th {\n",
       "        vertical-align: top;\n",
       "    }\n",
       "\n",
       "    .dataframe thead th {\n",
       "        text-align: right;\n",
       "    }\n",
       "</style>\n",
       "<table border=\"1\" class=\"dataframe\">\n",
       "  <thead>\n",
       "    <tr style=\"text-align: right;\">\n",
       "      <th></th>\n",
       "      <th>Do Not Email</th>\n",
       "      <th>Do Not Call</th>\n",
       "      <th>TotalVisits</th>\n",
       "      <th>Total Time Spent on Website</th>\n",
       "      <th>Page Views Per Visit</th>\n",
       "      <th>Search</th>\n",
       "      <th>Digital Advertisement</th>\n",
       "      <th>Through Recommendations</th>\n",
       "      <th>A free copy of Mastering The Interview</th>\n",
       "      <th>Lead_Origin_Landing Page Submission</th>\n",
       "      <th>...</th>\n",
       "      <th>Last_Activity_Unsubscribed</th>\n",
       "      <th>Last_Activity_View in browser link Clicked</th>\n",
       "      <th>Last_Activity_Visited Booth in Tradeshow</th>\n",
       "      <th>current_occupation_Housewife</th>\n",
       "      <th>current_occupation_Other</th>\n",
       "      <th>current_occupation_Student</th>\n",
       "      <th>current_occupation_Unemployed</th>\n",
       "      <th>current_occupation_Working Professional</th>\n",
       "      <th>course_matters_Flexibility &amp; Convenience</th>\n",
       "      <th>course_matters_Other</th>\n",
       "    </tr>\n",
       "  </thead>\n",
       "  <tbody>\n",
       "    <tr>\n",
       "      <th>4282</th>\n",
       "      <td>0</td>\n",
       "      <td>0</td>\n",
       "      <td>0.181818</td>\n",
       "      <td>0.165053</td>\n",
       "      <td>0.333333</td>\n",
       "      <td>0</td>\n",
       "      <td>0</td>\n",
       "      <td>0</td>\n",
       "      <td>0</td>\n",
       "      <td>0</td>\n",
       "      <td>...</td>\n",
       "      <td>0</td>\n",
       "      <td>0</td>\n",
       "      <td>0</td>\n",
       "      <td>0</td>\n",
       "      <td>0</td>\n",
       "      <td>0</td>\n",
       "      <td>1</td>\n",
       "      <td>0</td>\n",
       "      <td>0</td>\n",
       "      <td>0</td>\n",
       "    </tr>\n",
       "    <tr>\n",
       "      <th>4483</th>\n",
       "      <td>0</td>\n",
       "      <td>0</td>\n",
       "      <td>0.363636</td>\n",
       "      <td>0.545335</td>\n",
       "      <td>0.666667</td>\n",
       "      <td>0</td>\n",
       "      <td>0</td>\n",
       "      <td>0</td>\n",
       "      <td>0</td>\n",
       "      <td>1</td>\n",
       "      <td>...</td>\n",
       "      <td>0</td>\n",
       "      <td>0</td>\n",
       "      <td>0</td>\n",
       "      <td>0</td>\n",
       "      <td>0</td>\n",
       "      <td>0</td>\n",
       "      <td>1</td>\n",
       "      <td>0</td>\n",
       "      <td>0</td>\n",
       "      <td>0</td>\n",
       "    </tr>\n",
       "    <tr>\n",
       "      <th>2427</th>\n",
       "      <td>0</td>\n",
       "      <td>0</td>\n",
       "      <td>0.545455</td>\n",
       "      <td>0.051056</td>\n",
       "      <td>0.500000</td>\n",
       "      <td>0</td>\n",
       "      <td>0</td>\n",
       "      <td>0</td>\n",
       "      <td>0</td>\n",
       "      <td>1</td>\n",
       "      <td>...</td>\n",
       "      <td>0</td>\n",
       "      <td>0</td>\n",
       "      <td>0</td>\n",
       "      <td>0</td>\n",
       "      <td>0</td>\n",
       "      <td>0</td>\n",
       "      <td>0</td>\n",
       "      <td>1</td>\n",
       "      <td>0</td>\n",
       "      <td>0</td>\n",
       "    </tr>\n",
       "    <tr>\n",
       "      <th>9150</th>\n",
       "      <td>1</td>\n",
       "      <td>0</td>\n",
       "      <td>0.090909</td>\n",
       "      <td>0.351673</td>\n",
       "      <td>0.166667</td>\n",
       "      <td>0</td>\n",
       "      <td>0</td>\n",
       "      <td>0</td>\n",
       "      <td>1</td>\n",
       "      <td>1</td>\n",
       "      <td>...</td>\n",
       "      <td>0</td>\n",
       "      <td>0</td>\n",
       "      <td>0</td>\n",
       "      <td>0</td>\n",
       "      <td>1</td>\n",
       "      <td>0</td>\n",
       "      <td>0</td>\n",
       "      <td>0</td>\n",
       "      <td>0</td>\n",
       "      <td>1</td>\n",
       "    </tr>\n",
       "    <tr>\n",
       "      <th>3111</th>\n",
       "      <td>0</td>\n",
       "      <td>0</td>\n",
       "      <td>0.000000</td>\n",
       "      <td>0.000000</td>\n",
       "      <td>0.000000</td>\n",
       "      <td>0</td>\n",
       "      <td>0</td>\n",
       "      <td>0</td>\n",
       "      <td>0</td>\n",
       "      <td>0</td>\n",
       "      <td>...</td>\n",
       "      <td>0</td>\n",
       "      <td>0</td>\n",
       "      <td>0</td>\n",
       "      <td>0</td>\n",
       "      <td>1</td>\n",
       "      <td>0</td>\n",
       "      <td>0</td>\n",
       "      <td>0</td>\n",
       "      <td>0</td>\n",
       "      <td>1</td>\n",
       "    </tr>\n",
       "  </tbody>\n",
       "</table>\n",
       "<p>5 rows × 72 columns</p>\n",
       "</div>"
      ],
      "text/plain": [
       "      Do Not Email  Do Not Call  TotalVisits  Total Time Spent on Website  \\\n",
       "4282             0            0     0.181818                     0.165053   \n",
       "4483             0            0     0.363636                     0.545335   \n",
       "2427             0            0     0.545455                     0.051056   \n",
       "9150             1            0     0.090909                     0.351673   \n",
       "3111             0            0     0.000000                     0.000000   \n",
       "\n",
       "      Page Views Per Visit  Search  Digital Advertisement  \\\n",
       "4282              0.333333       0                      0   \n",
       "4483              0.666667       0                      0   \n",
       "2427              0.500000       0                      0   \n",
       "9150              0.166667       0                      0   \n",
       "3111              0.000000       0                      0   \n",
       "\n",
       "      Through Recommendations  A free copy of Mastering The Interview  \\\n",
       "4282                        0                                       0   \n",
       "4483                        0                                       0   \n",
       "2427                        0                                       0   \n",
       "9150                        0                                       1   \n",
       "3111                        0                                       0   \n",
       "\n",
       "      Lead_Origin_Landing Page Submission  ...  Last_Activity_Unsubscribed  \\\n",
       "4282                                    0  ...                           0   \n",
       "4483                                    1  ...                           0   \n",
       "2427                                    1  ...                           0   \n",
       "9150                                    1  ...                           0   \n",
       "3111                                    0  ...                           0   \n",
       "\n",
       "      Last_Activity_View in browser link Clicked  \\\n",
       "4282                                           0   \n",
       "4483                                           0   \n",
       "2427                                           0   \n",
       "9150                                           0   \n",
       "3111                                           0   \n",
       "\n",
       "      Last_Activity_Visited Booth in Tradeshow  current_occupation_Housewife  \\\n",
       "4282                                         0                             0   \n",
       "4483                                         0                             0   \n",
       "2427                                         0                             0   \n",
       "9150                                         0                             0   \n",
       "3111                                         0                             0   \n",
       "\n",
       "      current_occupation_Other  current_occupation_Student  \\\n",
       "4282                         0                           0   \n",
       "4483                         0                           0   \n",
       "2427                         0                           0   \n",
       "9150                         1                           0   \n",
       "3111                         1                           0   \n",
       "\n",
       "      current_occupation_Unemployed  current_occupation_Working Professional  \\\n",
       "4282                              1                                        0   \n",
       "4483                              1                                        0   \n",
       "2427                              0                                        1   \n",
       "9150                              0                                        0   \n",
       "3111                              0                                        0   \n",
       "\n",
       "      course_matters_Flexibility & Convenience  course_matters_Other  \n",
       "4282                                         0                     0  \n",
       "4483                                         0                     0  \n",
       "2427                                         0                     0  \n",
       "9150                                         0                     1  \n",
       "3111                                         0                     1  \n",
       "\n",
       "[5 rows x 72 columns]"
      ]
     },
     "execution_count": 106,
     "metadata": {},
     "output_type": "execute_result"
    }
   ],
   "source": [
    "# Scaling the test data. This step is similar to train data. Using same 'varlist_scale' list which is used in train.\n",
    "X_test[varlist_scale] = minmax_scaler.fit_transform(X_test[varlist_scale])\n",
    "print(X_test.shape)\n",
    "X_test.head()"
   ]
  },
  {
   "cell_type": "code",
   "execution_count": 107,
   "metadata": {},
   "outputs": [],
   "source": [
    "# Create new DataFrame. Here we need to select the final trained model columns.\n",
    "# IN our case, after removing constant, we have final list of columns are available in 'X_train_sm_final'  DataFrame\n",
    "X_test_rfe=X_test[X_train_sm_final.columns]"
   ]
  },
  {
   "cell_type": "code",
   "execution_count": 108,
   "metadata": {},
   "outputs": [
    {
     "name": "stdout",
     "output_type": "stream",
     "text": [
      "Original DataFrame Shape (2604, 72)\n",
      "RFE Selected DataFrame Shape (2604, 14)\n"
     ]
    },
    {
     "data": {
      "text/html": [
       "<div>\n",
       "<style scoped>\n",
       "    .dataframe tbody tr th:only-of-type {\n",
       "        vertical-align: middle;\n",
       "    }\n",
       "\n",
       "    .dataframe tbody tr th {\n",
       "        vertical-align: top;\n",
       "    }\n",
       "\n",
       "    .dataframe thead th {\n",
       "        text-align: right;\n",
       "    }\n",
       "</style>\n",
       "<table border=\"1\" class=\"dataframe\">\n",
       "  <thead>\n",
       "    <tr style=\"text-align: right;\">\n",
       "      <th></th>\n",
       "      <th>Do Not Email</th>\n",
       "      <th>Total Time Spent on Website</th>\n",
       "      <th>Lead_Origin_Lead Add Form</th>\n",
       "      <th>Lead_Source_Direct Traffic</th>\n",
       "      <th>Lead_Source_Organic Search</th>\n",
       "      <th>Lead_Source_Referral Sites</th>\n",
       "      <th>Lead_Source_Welingak Website</th>\n",
       "      <th>Last_notable_Activity_Unreachable</th>\n",
       "      <th>Last_Activity_Had a Phone Conversation</th>\n",
       "      <th>Last_Activity_Olark Chat Conversation</th>\n",
       "      <th>Last_Activity_Other</th>\n",
       "      <th>Last_Activity_SMS Sent</th>\n",
       "      <th>current_occupation_Working Professional</th>\n",
       "      <th>course_matters_Other</th>\n",
       "    </tr>\n",
       "  </thead>\n",
       "  <tbody>\n",
       "    <tr>\n",
       "      <th>4282</th>\n",
       "      <td>0</td>\n",
       "      <td>0.165053</td>\n",
       "      <td>0</td>\n",
       "      <td>0</td>\n",
       "      <td>1</td>\n",
       "      <td>0</td>\n",
       "      <td>0</td>\n",
       "      <td>0</td>\n",
       "      <td>0</td>\n",
       "      <td>0</td>\n",
       "      <td>0</td>\n",
       "      <td>0</td>\n",
       "      <td>0</td>\n",
       "      <td>0</td>\n",
       "    </tr>\n",
       "    <tr>\n",
       "      <th>4483</th>\n",
       "      <td>0</td>\n",
       "      <td>0.545335</td>\n",
       "      <td>0</td>\n",
       "      <td>0</td>\n",
       "      <td>0</td>\n",
       "      <td>0</td>\n",
       "      <td>0</td>\n",
       "      <td>0</td>\n",
       "      <td>0</td>\n",
       "      <td>0</td>\n",
       "      <td>0</td>\n",
       "      <td>1</td>\n",
       "      <td>0</td>\n",
       "      <td>0</td>\n",
       "    </tr>\n",
       "    <tr>\n",
       "      <th>2427</th>\n",
       "      <td>0</td>\n",
       "      <td>0.051056</td>\n",
       "      <td>0</td>\n",
       "      <td>0</td>\n",
       "      <td>0</td>\n",
       "      <td>0</td>\n",
       "      <td>0</td>\n",
       "      <td>0</td>\n",
       "      <td>0</td>\n",
       "      <td>0</td>\n",
       "      <td>0</td>\n",
       "      <td>1</td>\n",
       "      <td>1</td>\n",
       "      <td>0</td>\n",
       "    </tr>\n",
       "    <tr>\n",
       "      <th>9150</th>\n",
       "      <td>1</td>\n",
       "      <td>0.351673</td>\n",
       "      <td>0</td>\n",
       "      <td>1</td>\n",
       "      <td>0</td>\n",
       "      <td>0</td>\n",
       "      <td>0</td>\n",
       "      <td>0</td>\n",
       "      <td>0</td>\n",
       "      <td>0</td>\n",
       "      <td>0</td>\n",
       "      <td>0</td>\n",
       "      <td>0</td>\n",
       "      <td>1</td>\n",
       "    </tr>\n",
       "    <tr>\n",
       "      <th>3111</th>\n",
       "      <td>0</td>\n",
       "      <td>0.000000</td>\n",
       "      <td>0</td>\n",
       "      <td>0</td>\n",
       "      <td>0</td>\n",
       "      <td>0</td>\n",
       "      <td>0</td>\n",
       "      <td>0</td>\n",
       "      <td>0</td>\n",
       "      <td>1</td>\n",
       "      <td>0</td>\n",
       "      <td>0</td>\n",
       "      <td>0</td>\n",
       "      <td>1</td>\n",
       "    </tr>\n",
       "  </tbody>\n",
       "</table>\n",
       "</div>"
      ],
      "text/plain": [
       "      Do Not Email  Total Time Spent on Website  Lead_Origin_Lead Add Form  \\\n",
       "4282             0                     0.165053                          0   \n",
       "4483             0                     0.545335                          0   \n",
       "2427             0                     0.051056                          0   \n",
       "9150             1                     0.351673                          0   \n",
       "3111             0                     0.000000                          0   \n",
       "\n",
       "      Lead_Source_Direct Traffic  Lead_Source_Organic Search  \\\n",
       "4282                           0                           1   \n",
       "4483                           0                           0   \n",
       "2427                           0                           0   \n",
       "9150                           1                           0   \n",
       "3111                           0                           0   \n",
       "\n",
       "      Lead_Source_Referral Sites  Lead_Source_Welingak Website  \\\n",
       "4282                           0                             0   \n",
       "4483                           0                             0   \n",
       "2427                           0                             0   \n",
       "9150                           0                             0   \n",
       "3111                           0                             0   \n",
       "\n",
       "      Last_notable_Activity_Unreachable  \\\n",
       "4282                                  0   \n",
       "4483                                  0   \n",
       "2427                                  0   \n",
       "9150                                  0   \n",
       "3111                                  0   \n",
       "\n",
       "      Last_Activity_Had a Phone Conversation  \\\n",
       "4282                                       0   \n",
       "4483                                       0   \n",
       "2427                                       0   \n",
       "9150                                       0   \n",
       "3111                                       0   \n",
       "\n",
       "      Last_Activity_Olark Chat Conversation  Last_Activity_Other  \\\n",
       "4282                                      0                    0   \n",
       "4483                                      0                    0   \n",
       "2427                                      0                    0   \n",
       "9150                                      0                    0   \n",
       "3111                                      1                    0   \n",
       "\n",
       "      Last_Activity_SMS Sent  current_occupation_Working Professional  \\\n",
       "4282                       0                                        0   \n",
       "4483                       1                                        0   \n",
       "2427                       1                                        1   \n",
       "9150                       0                                        0   \n",
       "3111                       0                                        0   \n",
       "\n",
       "      course_matters_Other  \n",
       "4282                     0  \n",
       "4483                     0  \n",
       "2427                     0  \n",
       "9150                     1  \n",
       "3111                     1  "
      ]
     },
     "execution_count": 108,
     "metadata": {},
     "output_type": "execute_result"
    }
   ],
   "source": [
    "print(\"Original DataFrame Shape\", X_test.shape)\n",
    "print(\"RFE Selected DataFrame Shape\", X_test_rfe.shape)\n",
    "X_test_rfe.head()"
   ]
  },
  {
   "cell_type": "code",
   "execution_count": 109,
   "metadata": {},
   "outputs": [],
   "source": [
    "# Adding a constant variable \n",
    "X_test_sm = sm.add_constant(X_test_rfe)\n",
    "#Making prediction on our final model 'log_res3' on test data\n",
    "y_test_pred = log_res3.predict(X_test_sm)"
   ]
  },
  {
   "cell_type": "code",
   "execution_count": 110,
   "metadata": {},
   "outputs": [
    {
     "data": {
      "text/plain": [
       "4282    0.190869\n",
       "4483    0.879689\n",
       "2427    0.915350\n",
       "9150    0.028994\n",
       "3111    0.027101\n",
       "75      0.407793\n",
       "6335    0.437564\n",
       "4305    0.627244\n",
       "8854    0.196269\n",
       "2456    0.044174\n",
       "dtype: float64"
      ]
     },
     "execution_count": 110,
     "metadata": {},
     "output_type": "execute_result"
    }
   ],
   "source": [
    "y_test_pred[:10]"
   ]
  },
  {
   "cell_type": "code",
   "execution_count": 111,
   "metadata": {},
   "outputs": [
    {
     "data": {
      "text/html": [
       "<div>\n",
       "<style scoped>\n",
       "    .dataframe tbody tr th:only-of-type {\n",
       "        vertical-align: middle;\n",
       "    }\n",
       "\n",
       "    .dataframe tbody tr th {\n",
       "        vertical-align: top;\n",
       "    }\n",
       "\n",
       "    .dataframe thead th {\n",
       "        text-align: right;\n",
       "    }\n",
       "</style>\n",
       "<table border=\"1\" class=\"dataframe\">\n",
       "  <thead>\n",
       "    <tr style=\"text-align: right;\">\n",
       "      <th></th>\n",
       "      <th>0</th>\n",
       "    </tr>\n",
       "  </thead>\n",
       "  <tbody>\n",
       "    <tr>\n",
       "      <th>4282</th>\n",
       "      <td>0.190869</td>\n",
       "    </tr>\n",
       "    <tr>\n",
       "      <th>4483</th>\n",
       "      <td>0.879689</td>\n",
       "    </tr>\n",
       "    <tr>\n",
       "      <th>2427</th>\n",
       "      <td>0.915350</td>\n",
       "    </tr>\n",
       "    <tr>\n",
       "      <th>9150</th>\n",
       "      <td>0.028994</td>\n",
       "    </tr>\n",
       "    <tr>\n",
       "      <th>3111</th>\n",
       "      <td>0.027101</td>\n",
       "    </tr>\n",
       "  </tbody>\n",
       "</table>\n",
       "</div>"
      ],
      "text/plain": [
       "             0\n",
       "4282  0.190869\n",
       "4483  0.879689\n",
       "2427  0.915350\n",
       "9150  0.028994\n",
       "3111  0.027101"
      ]
     },
     "execution_count": 111,
     "metadata": {},
     "output_type": "execute_result"
    }
   ],
   "source": [
    "# Converting y_pred to a dataframe which is an array\n",
    "y_pred_1 = pd.DataFrame(y_test_pred)\n",
    "\n",
    "# Let's see the head\n",
    "y_pred_1.head()"
   ]
  },
  {
   "cell_type": "code",
   "execution_count": 112,
   "metadata": {},
   "outputs": [],
   "source": [
    "# Converting y_test to dataframe\n",
    "y_test_df = pd.DataFrame(y_test)\n",
    "\n",
    "# Putting index\n",
    "y_test_df['index'] = y_test_df.index"
   ]
  },
  {
   "cell_type": "code",
   "execution_count": 113,
   "metadata": {},
   "outputs": [],
   "source": [
    "# Removing index for both dataframes to append them side by side \n",
    "y_pred_1.reset_index(drop=True, inplace=True)\n",
    "y_test_df.reset_index(drop=True, inplace=True)"
   ]
  },
  {
   "cell_type": "code",
   "execution_count": 114,
   "metadata": {},
   "outputs": [],
   "source": [
    "# Appending y_test_df and y_pred_1\n",
    "y_pred_final = pd.concat([y_test_df, y_pred_1],axis=1)"
   ]
  },
  {
   "cell_type": "code",
   "execution_count": 115,
   "metadata": {},
   "outputs": [
    {
     "data": {
      "text/html": [
       "<div>\n",
       "<style scoped>\n",
       "    .dataframe tbody tr th:only-of-type {\n",
       "        vertical-align: middle;\n",
       "    }\n",
       "\n",
       "    .dataframe tbody tr th {\n",
       "        vertical-align: top;\n",
       "    }\n",
       "\n",
       "    .dataframe thead th {\n",
       "        text-align: right;\n",
       "    }\n",
       "</style>\n",
       "<table border=\"1\" class=\"dataframe\">\n",
       "  <thead>\n",
       "    <tr style=\"text-align: right;\">\n",
       "      <th></th>\n",
       "      <th>Converted</th>\n",
       "      <th>index</th>\n",
       "      <th>Converted_Prob</th>\n",
       "    </tr>\n",
       "  </thead>\n",
       "  <tbody>\n",
       "    <tr>\n",
       "      <th>0</th>\n",
       "      <td>0</td>\n",
       "      <td>4282</td>\n",
       "      <td>0.190869</td>\n",
       "    </tr>\n",
       "    <tr>\n",
       "      <th>1</th>\n",
       "      <td>0</td>\n",
       "      <td>4483</td>\n",
       "      <td>0.879689</td>\n",
       "    </tr>\n",
       "    <tr>\n",
       "      <th>2</th>\n",
       "      <td>1</td>\n",
       "      <td>2427</td>\n",
       "      <td>0.915350</td>\n",
       "    </tr>\n",
       "    <tr>\n",
       "      <th>3</th>\n",
       "      <td>0</td>\n",
       "      <td>9150</td>\n",
       "      <td>0.028994</td>\n",
       "    </tr>\n",
       "    <tr>\n",
       "      <th>4</th>\n",
       "      <td>0</td>\n",
       "      <td>3111</td>\n",
       "      <td>0.027101</td>\n",
       "    </tr>\n",
       "  </tbody>\n",
       "</table>\n",
       "</div>"
      ],
      "text/plain": [
       "   Converted  index  Converted_Prob\n",
       "0          0   4282        0.190869\n",
       "1          0   4483        0.879689\n",
       "2          1   2427        0.915350\n",
       "3          0   9150        0.028994\n",
       "4          0   3111        0.027101"
      ]
     },
     "execution_count": 115,
     "metadata": {},
     "output_type": "execute_result"
    }
   ],
   "source": [
    "# Renaming the column \n",
    "y_pred_final= y_pred_final.rename(columns={ 0 : 'Converted_Prob'})\n",
    "y_pred_final.head()"
   ]
  },
  {
   "cell_type": "code",
   "execution_count": 116,
   "metadata": {},
   "outputs": [
    {
     "data": {
      "text/html": [
       "<div>\n",
       "<style scoped>\n",
       "    .dataframe tbody tr th:only-of-type {\n",
       "        vertical-align: middle;\n",
       "    }\n",
       "\n",
       "    .dataframe tbody tr th {\n",
       "        vertical-align: top;\n",
       "    }\n",
       "\n",
       "    .dataframe thead th {\n",
       "        text-align: right;\n",
       "    }\n",
       "</style>\n",
       "<table border=\"1\" class=\"dataframe\">\n",
       "  <thead>\n",
       "    <tr style=\"text-align: right;\">\n",
       "      <th></th>\n",
       "      <th>Converted</th>\n",
       "      <th>index</th>\n",
       "      <th>Converted_Prob</th>\n",
       "      <th>final_predicted</th>\n",
       "    </tr>\n",
       "  </thead>\n",
       "  <tbody>\n",
       "    <tr>\n",
       "      <th>0</th>\n",
       "      <td>0</td>\n",
       "      <td>4282</td>\n",
       "      <td>0.190869</td>\n",
       "      <td>0</td>\n",
       "    </tr>\n",
       "    <tr>\n",
       "      <th>1</th>\n",
       "      <td>0</td>\n",
       "      <td>4483</td>\n",
       "      <td>0.879689</td>\n",
       "      <td>1</td>\n",
       "    </tr>\n",
       "    <tr>\n",
       "      <th>2</th>\n",
       "      <td>1</td>\n",
       "      <td>2427</td>\n",
       "      <td>0.915350</td>\n",
       "      <td>1</td>\n",
       "    </tr>\n",
       "    <tr>\n",
       "      <th>3</th>\n",
       "      <td>0</td>\n",
       "      <td>9150</td>\n",
       "      <td>0.028994</td>\n",
       "      <td>0</td>\n",
       "    </tr>\n",
       "    <tr>\n",
       "      <th>4</th>\n",
       "      <td>0</td>\n",
       "      <td>3111</td>\n",
       "      <td>0.027101</td>\n",
       "      <td>0</td>\n",
       "    </tr>\n",
       "  </tbody>\n",
       "</table>\n",
       "</div>"
      ],
      "text/plain": [
       "   Converted  index  Converted_Prob  final_predicted\n",
       "0          0   4282        0.190869                0\n",
       "1          0   4483        0.879689                1\n",
       "2          1   2427        0.915350                1\n",
       "3          0   9150        0.028994                0\n",
       "4          0   3111        0.027101                0"
      ]
     },
     "execution_count": 116,
     "metadata": {},
     "output_type": "execute_result"
    }
   ],
   "source": [
    "# Creating new column 'final_predicted' with 1 if COnverted_Prob > 0.35 else 0\n",
    "y_pred_final['final_predicted'] = y_pred_final.Converted_Prob.map(lambda x: 1 if x > 0.55 else 0)\n",
    "y_pred_final.head()"
   ]
  },
  {
   "cell_type": "code",
   "execution_count": 117,
   "metadata": {},
   "outputs": [
    {
     "data": {
      "text/plain": [
       "0.7956989247311828"
      ]
     },
     "execution_count": 117,
     "metadata": {},
     "output_type": "execute_result"
    }
   ],
   "source": [
    "# Let's check the overall accuracy.\n",
    "metrics.accuracy_score(y_pred_final.Converted, y_pred_final.final_predicted)"
   ]
  },
  {
   "cell_type": "markdown",
   "metadata": {},
   "source": [
    "### Lead Score on Test Dataset"
   ]
  },
  {
   "cell_type": "code",
   "execution_count": 118,
   "metadata": {},
   "outputs": [
    {
     "data": {
      "text/html": [
       "<div>\n",
       "<style scoped>\n",
       "    .dataframe tbody tr th:only-of-type {\n",
       "        vertical-align: middle;\n",
       "    }\n",
       "\n",
       "    .dataframe tbody tr th {\n",
       "        vertical-align: top;\n",
       "    }\n",
       "\n",
       "    .dataframe thead th {\n",
       "        text-align: right;\n",
       "    }\n",
       "</style>\n",
       "<table border=\"1\" class=\"dataframe\">\n",
       "  <thead>\n",
       "    <tr style=\"text-align: right;\">\n",
       "      <th></th>\n",
       "      <th>Converted</th>\n",
       "      <th>index</th>\n",
       "      <th>Converted_Prob</th>\n",
       "      <th>final_predicted</th>\n",
       "      <th>Lead_Score</th>\n",
       "    </tr>\n",
       "  </thead>\n",
       "  <tbody>\n",
       "    <tr>\n",
       "      <th>0</th>\n",
       "      <td>0</td>\n",
       "      <td>4282</td>\n",
       "      <td>0.190869</td>\n",
       "      <td>0</td>\n",
       "      <td>19.086910</td>\n",
       "    </tr>\n",
       "    <tr>\n",
       "      <th>1</th>\n",
       "      <td>0</td>\n",
       "      <td>4483</td>\n",
       "      <td>0.879689</td>\n",
       "      <td>1</td>\n",
       "      <td>87.968945</td>\n",
       "    </tr>\n",
       "    <tr>\n",
       "      <th>2</th>\n",
       "      <td>1</td>\n",
       "      <td>2427</td>\n",
       "      <td>0.915350</td>\n",
       "      <td>1</td>\n",
       "      <td>91.535014</td>\n",
       "    </tr>\n",
       "    <tr>\n",
       "      <th>3</th>\n",
       "      <td>0</td>\n",
       "      <td>9150</td>\n",
       "      <td>0.028994</td>\n",
       "      <td>0</td>\n",
       "      <td>2.899370</td>\n",
       "    </tr>\n",
       "    <tr>\n",
       "      <th>4</th>\n",
       "      <td>0</td>\n",
       "      <td>3111</td>\n",
       "      <td>0.027101</td>\n",
       "      <td>0</td>\n",
       "      <td>2.710127</td>\n",
       "    </tr>\n",
       "  </tbody>\n",
       "</table>\n",
       "</div>"
      ],
      "text/plain": [
       "   Converted  index  Converted_Prob  final_predicted  Lead_Score\n",
       "0          0   4282        0.190869                0   19.086910\n",
       "1          0   4483        0.879689                1   87.968945\n",
       "2          1   2427        0.915350                1   91.535014\n",
       "3          0   9150        0.028994                0    2.899370\n",
       "4          0   3111        0.027101                0    2.710127"
      ]
     },
     "execution_count": 118,
     "metadata": {},
     "output_type": "execute_result"
    }
   ],
   "source": [
    "y_pred_final['Lead_Score']= y_pred_final['Converted_Prob']*100\n",
    "y_pred_final.head()"
   ]
  },
  {
   "cell_type": "code",
   "execution_count": 119,
   "metadata": {},
   "outputs": [
    {
     "data": {
      "text/plain": [
       "<matplotlib.axes._subplots.AxesSubplot at 0x1dd6eadbc50>"
      ]
     },
     "execution_count": 119,
     "metadata": {},
     "output_type": "execute_result"
    },
    {
     "data": {
      "image/png": "[encoded data removed]",
      "text/plain": [
       "<Figure size 432x288 with 1 Axes>"
      ]
     },
     "metadata": {
      "needs_background": "light"
     },
     "output_type": "display_data"
    }
   ],
   "source": [
    "temp_test=y_pred_final['Lead_Score']\n",
    "sns.distplot(temp_test, hist=True, bins=10, kde=True)"
   ]
  },
  {
   "cell_type": "markdown",
   "metadata": {},
   "source": [
    "### Confusion Matrix"
   ]
  },
  {
   "cell_type": "code",
   "execution_count": 120,
   "metadata": {},
   "outputs": [
    {
     "data": {
      "text/plain": [
       "array([[1429,  154],\n",
       "       [ 378,  643]], dtype=int64)"
      ]
     },
     "execution_count": 120,
     "metadata": {},
     "output_type": "execute_result"
    }
   ],
   "source": [
    "confusion2=metrics.confusion_matrix(y_pred_final.Converted, y_pred_final.final_predicted)\n",
    "confusion2"
   ]
  },
  {
   "cell_type": "code",
   "execution_count": 121,
   "metadata": {},
   "outputs": [],
   "source": [
    "TP2 = confusion2[1,1] # true positive \n",
    "TN2 = confusion2[0,0] # true negatives\n",
    "FP2 = confusion2[0,1] # false positives\n",
    "FN2 = confusion2[1,0] # false negatives"
   ]
  },
  {
   "cell_type": "markdown",
   "metadata": {},
   "source": [
    "#### Sensitivity when cutoff is 0.55"
   ]
  },
  {
   "cell_type": "code",
   "execution_count": 122,
   "metadata": {},
   "outputs": [
    {
     "data": {
      "text/plain": [
       "0.6297747306562194"
      ]
     },
     "execution_count": 122,
     "metadata": {},
     "output_type": "execute_result"
    }
   ],
   "source": [
    "# Let's see the sensitivity of our logistic regression model\n",
    "TP2 / float(TP2+FN2)"
   ]
  },
  {
   "cell_type": "markdown",
   "metadata": {},
   "source": [
    "#### Specificity when cutoff is 0.55"
   ]
  },
  {
   "cell_type": "code",
   "execution_count": 123,
   "metadata": {},
   "outputs": [
    {
     "data": {
      "text/plain": [
       "0.9027163613392293"
      ]
     },
     "execution_count": 123,
     "metadata": {},
     "output_type": "execute_result"
    }
   ],
   "source": [
    "# Let us calculate specificity\n",
    "TN2 / float(TN2+FP2)"
   ]
  },
  {
   "cell_type": "markdown",
   "metadata": {},
   "source": [
    "#### FPR when cutoff is 0.55"
   ]
  },
  {
   "cell_type": "code",
   "execution_count": 124,
   "metadata": {},
   "outputs": [
    {
     "name": "stdout",
     "output_type": "stream",
     "text": [
      "0.0972836386607707\n"
     ]
    }
   ],
   "source": [
    "# Calculate false postive rate - predicting converted when customer does not have converted\n",
    "print(FP2/ float(TN2+FP2))"
   ]
  },
  {
   "cell_type": "markdown",
   "metadata": {},
   "source": [
    "#### Precison when cutoff is 0.55"
   ]
  },
  {
   "cell_type": "code",
   "execution_count": 125,
   "metadata": {},
   "outputs": [
    {
     "name": "stdout",
     "output_type": "stream",
     "text": [
      "0.8067754077791719\n"
     ]
    }
   ],
   "source": [
    "# Precison - positive predictive value \n",
    "print (TP2 / float(TP2+FP2))"
   ]
  },
  {
   "cell_type": "code",
   "execution_count": 126,
   "metadata": {},
   "outputs": [
    {
     "name": "stdout",
     "output_type": "stream",
     "text": [
      "0.7908135030437189\n"
     ]
    }
   ],
   "source": [
    "# Negative predictive value\n",
    "print (TN2 / float(TN2+ FN2))"
   ]
  },
  {
   "cell_type": "markdown",
   "metadata": {},
   "source": [
    "### Subjective Questions - 3 (Lead Conversion Aggressive)"
   ]
  },
  {
   "cell_type": "code",
   "execution_count": 127,
   "metadata": {},
   "outputs": [],
   "source": [
    "y_pred_final_agg_lead=y_pred_final"
   ]
  },
  {
   "cell_type": "code",
   "execution_count": 128,
   "metadata": {},
   "outputs": [
    {
     "data": {
      "text/html": [
       "<div>\n",
       "<style scoped>\n",
       "    .dataframe tbody tr th:only-of-type {\n",
       "        vertical-align: middle;\n",
       "    }\n",
       "\n",
       "    .dataframe tbody tr th {\n",
       "        vertical-align: top;\n",
       "    }\n",
       "\n",
       "    .dataframe thead th {\n",
       "        text-align: right;\n",
       "    }\n",
       "</style>\n",
       "<table border=\"1\" class=\"dataframe\">\n",
       "  <thead>\n",
       "    <tr style=\"text-align: right;\">\n",
       "      <th></th>\n",
       "      <th>Converted</th>\n",
       "      <th>index</th>\n",
       "      <th>Converted_Prob</th>\n",
       "      <th>final_predicted</th>\n",
       "      <th>Lead_Score</th>\n",
       "    </tr>\n",
       "  </thead>\n",
       "  <tbody>\n",
       "    <tr>\n",
       "      <th>0</th>\n",
       "      <td>0</td>\n",
       "      <td>4282</td>\n",
       "      <td>0.190869</td>\n",
       "      <td>1</td>\n",
       "      <td>19.086910</td>\n",
       "    </tr>\n",
       "    <tr>\n",
       "      <th>1</th>\n",
       "      <td>0</td>\n",
       "      <td>4483</td>\n",
       "      <td>0.879689</td>\n",
       "      <td>1</td>\n",
       "      <td>87.968945</td>\n",
       "    </tr>\n",
       "    <tr>\n",
       "      <th>2</th>\n",
       "      <td>1</td>\n",
       "      <td>2427</td>\n",
       "      <td>0.915350</td>\n",
       "      <td>1</td>\n",
       "      <td>91.535014</td>\n",
       "    </tr>\n",
       "    <tr>\n",
       "      <th>3</th>\n",
       "      <td>0</td>\n",
       "      <td>9150</td>\n",
       "      <td>0.028994</td>\n",
       "      <td>0</td>\n",
       "      <td>2.899370</td>\n",
       "    </tr>\n",
       "    <tr>\n",
       "      <th>4</th>\n",
       "      <td>0</td>\n",
       "      <td>3111</td>\n",
       "      <td>0.027101</td>\n",
       "      <td>0</td>\n",
       "      <td>2.710127</td>\n",
       "    </tr>\n",
       "  </tbody>\n",
       "</table>\n",
       "</div>"
      ],
      "text/plain": [
       "   Converted  index  Converted_Prob  final_predicted  Lead_Score\n",
       "0          0   4282        0.190869                1   19.086910\n",
       "1          0   4483        0.879689                1   87.968945\n",
       "2          1   2427        0.915350                1   91.535014\n",
       "3          0   9150        0.028994                0    2.899370\n",
       "4          0   3111        0.027101                0    2.710127"
      ]
     },
     "execution_count": 128,
     "metadata": {},
     "output_type": "execute_result"
    }
   ],
   "source": [
    "# Creating new column 'final_predicted' with 1 if Converted_Prob > 0.10 else 0\n",
    "y_pred_final_agg_lead['final_predicted'] = y_pred_final_agg_lead.Converted_Prob.map(lambda x: 1 if x > 0.10 else 0)\n",
    "y_pred_final_agg_lead.head()"
   ]
  },
  {
   "cell_type": "code",
   "execution_count": 129,
   "metadata": {},
   "outputs": [
    {
     "data": {
      "text/plain": [
       "0.6382488479262672"
      ]
     },
     "execution_count": 129,
     "metadata": {},
     "output_type": "execute_result"
    }
   ],
   "source": [
    "# Let's check the overall accuracy.\n",
    "metrics.accuracy_score(y_pred_final_agg_lead.Converted, y_pred_final_agg_lead.final_predicted)"
   ]
  },
  {
   "cell_type": "markdown",
   "metadata": {},
   "source": [
    "### Confusion Matrix"
   ]
  },
  {
   "cell_type": "code",
   "execution_count": 130,
   "metadata": {},
   "outputs": [
    {
     "data": {
      "text/plain": [
       "array([[664, 919],\n",
       "       [ 23, 998]], dtype=int64)"
      ]
     },
     "execution_count": 130,
     "metadata": {},
     "output_type": "execute_result"
    }
   ],
   "source": [
    "confusion_agg_lead=metrics.confusion_matrix(y_pred_final_agg_lead.Converted, y_pred_final_agg_lead.final_predicted)\n",
    "confusion_agg_lead"
   ]
  },
  {
   "cell_type": "code",
   "execution_count": 131,
   "metadata": {},
   "outputs": [],
   "source": [
    "TP_agg_lead = confusion_agg_lead[1,1] # true positive \n",
    "TN_agg_lead = confusion_agg_lead[0,0] # true negatives\n",
    "FP_agg_lead = confusion_agg_lead[0,1] # false positives\n",
    "FN_agg_lead = confusion_agg_lead[1,0] # false negatives"
   ]
  },
  {
   "cell_type": "markdown",
   "metadata": {},
   "source": [
    "#### Sensitivity when cutoff is Aggressive"
   ]
  },
  {
   "cell_type": "code",
   "execution_count": 132,
   "metadata": {},
   "outputs": [
    {
     "data": {
      "text/plain": [
       "0.9774730656219393"
      ]
     },
     "execution_count": 132,
     "metadata": {},
     "output_type": "execute_result"
    }
   ],
   "source": [
    "# Let's see the sensitivity of our logistic regression model\n",
    "TP_agg_lead / float(TP_agg_lead+FN_agg_lead)"
   ]
  },
  {
   "cell_type": "markdown",
   "metadata": {},
   "source": [
    "#### Specificity when cutoff is Aggressive"
   ]
  },
  {
   "cell_type": "code",
   "execution_count": 133,
   "metadata": {},
   "outputs": [
    {
     "data": {
      "text/plain": [
       "0.41945672773215414"
      ]
     },
     "execution_count": 133,
     "metadata": {},
     "output_type": "execute_result"
    }
   ],
   "source": [
    "# Let us calculate specificity\n",
    "TN_agg_lead / float(TN_agg_lead+FP_agg_lead)"
   ]
  },
  {
   "cell_type": "markdown",
   "metadata": {},
   "source": [
    "#### FPR when cutoff is Aggressive"
   ]
  },
  {
   "cell_type": "code",
   "execution_count": 134,
   "metadata": {},
   "outputs": [
    {
     "name": "stdout",
     "output_type": "stream",
     "text": [
      "0.5805432722678459\n"
     ]
    }
   ],
   "source": [
    "# Calculate false postive rate - predicting converted when customer does not have converted\n",
    "print(FP_agg_lead/ float(TN_agg_lead+FP_agg_lead))"
   ]
  },
  {
   "cell_type": "markdown",
   "metadata": {},
   "source": [
    "#### Precision when cutoff is Aggressive"
   ]
  },
  {
   "cell_type": "code",
   "execution_count": 135,
   "metadata": {},
   "outputs": [
    {
     "name": "stdout",
     "output_type": "stream",
     "text": [
      "0.520605112154408\n"
     ]
    }
   ],
   "source": [
    "# Precision - positive predictive value \n",
    "print (TP_agg_lead / float(TP_agg_lead+FP_agg_lead))"
   ]
  },
  {
   "cell_type": "code",
   "execution_count": 136,
   "metadata": {},
   "outputs": [
    {
     "name": "stdout",
     "output_type": "stream",
     "text": [
      "0.9665211062590975\n"
     ]
    }
   ],
   "source": [
    "# Negative predictive value\n",
    "print (TN_agg_lead / float(TN_agg_lead+ FN_agg_lead))"
   ]
  },
  {
   "cell_type": "markdown",
   "metadata": {},
   "source": [
    "### Subjective Questions - 4 (Lead Conversion Less Aggressive)"
   ]
  },
  {
   "cell_type": "code",
   "execution_count": 137,
   "metadata": {},
   "outputs": [],
   "source": [
    "y_pred_no_agg_lead=y_pred_final"
   ]
  },
  {
   "cell_type": "code",
   "execution_count": 138,
   "metadata": {},
   "outputs": [
    {
     "data": {
      "text/html": [
       "<div>\n",
       "<style scoped>\n",
       "    .dataframe tbody tr th:only-of-type {\n",
       "        vertical-align: middle;\n",
       "    }\n",
       "\n",
       "    .dataframe tbody tr th {\n",
       "        vertical-align: top;\n",
       "    }\n",
       "\n",
       "    .dataframe thead th {\n",
       "        text-align: right;\n",
       "    }\n",
       "</style>\n",
       "<table border=\"1\" class=\"dataframe\">\n",
       "  <thead>\n",
       "    <tr style=\"text-align: right;\">\n",
       "      <th></th>\n",
       "      <th>Converted</th>\n",
       "      <th>index</th>\n",
       "      <th>Converted_Prob</th>\n",
       "      <th>final_predicted</th>\n",
       "      <th>Lead_Score</th>\n",
       "    </tr>\n",
       "  </thead>\n",
       "  <tbody>\n",
       "    <tr>\n",
       "      <th>0</th>\n",
       "      <td>0</td>\n",
       "      <td>4282</td>\n",
       "      <td>0.190869</td>\n",
       "      <td>0</td>\n",
       "      <td>19.086910</td>\n",
       "    </tr>\n",
       "    <tr>\n",
       "      <th>1</th>\n",
       "      <td>0</td>\n",
       "      <td>4483</td>\n",
       "      <td>0.879689</td>\n",
       "      <td>1</td>\n",
       "      <td>87.968945</td>\n",
       "    </tr>\n",
       "    <tr>\n",
       "      <th>2</th>\n",
       "      <td>1</td>\n",
       "      <td>2427</td>\n",
       "      <td>0.915350</td>\n",
       "      <td>1</td>\n",
       "      <td>91.535014</td>\n",
       "    </tr>\n",
       "    <tr>\n",
       "      <th>3</th>\n",
       "      <td>0</td>\n",
       "      <td>9150</td>\n",
       "      <td>0.028994</td>\n",
       "      <td>0</td>\n",
       "      <td>2.899370</td>\n",
       "    </tr>\n",
       "    <tr>\n",
       "      <th>4</th>\n",
       "      <td>0</td>\n",
       "      <td>3111</td>\n",
       "      <td>0.027101</td>\n",
       "      <td>0</td>\n",
       "      <td>2.710127</td>\n",
       "    </tr>\n",
       "  </tbody>\n",
       "</table>\n",
       "</div>"
      ],
      "text/plain": [
       "   Converted  index  Converted_Prob  final_predicted  Lead_Score\n",
       "0          0   4282        0.190869                0   19.086910\n",
       "1          0   4483        0.879689                1   87.968945\n",
       "2          1   2427        0.915350                1   91.535014\n",
       "3          0   9150        0.028994                0    2.899370\n",
       "4          0   3111        0.027101                0    2.710127"
      ]
     },
     "execution_count": 138,
     "metadata": {},
     "output_type": "execute_result"
    }
   ],
   "source": [
    "# Creating new column 'final_predicted' with 1 if Converted_Prob > 0.85 else 0\n",
    "y_pred_no_agg_lead['final_predicted'] = y_pred_no_agg_lead.Converted_Prob.map(lambda x: 1 if x > 0.75 else 0)\n",
    "y_pred_no_agg_lead.head()"
   ]
  },
  {
   "cell_type": "code",
   "execution_count": 139,
   "metadata": {},
   "outputs": [
    {
     "data": {
      "text/plain": [
       "0.7711213517665131"
      ]
     },
     "execution_count": 139,
     "metadata": {},
     "output_type": "execute_result"
    }
   ],
   "source": [
    "# Let's check the overall accuracy.\n",
    "metrics.accuracy_score(y_pred_no_agg_lead.Converted, y_pred_no_agg_lead.final_predicted)"
   ]
  },
  {
   "cell_type": "markdown",
   "metadata": {},
   "source": [
    "### Confusion Matrix"
   ]
  },
  {
   "cell_type": "code",
   "execution_count": 140,
   "metadata": {},
   "outputs": [
    {
     "data": {
      "text/plain": [
       "array([[1520,   63],\n",
       "       [ 533,  488]], dtype=int64)"
      ]
     },
     "execution_count": 140,
     "metadata": {},
     "output_type": "execute_result"
    }
   ],
   "source": [
    "confusion_no_agg_lead=metrics.confusion_matrix(y_pred_no_agg_lead.Converted, y_pred_no_agg_lead.final_predicted)\n",
    "confusion_no_agg_lead"
   ]
  },
  {
   "cell_type": "code",
   "execution_count": 141,
   "metadata": {},
   "outputs": [],
   "source": [
    "TP_no_agg_lead = confusion_no_agg_lead[1,1] # true positive \n",
    "TN_no_agg_lead = confusion_no_agg_lead[0,0] # true negatives\n",
    "FP_no_agg_lead = confusion_no_agg_lead[0,1] # false positives\n",
    "FN_no_agg_lead = confusion_no_agg_lead[1,0] # false negatives"
   ]
  },
  {
   "cell_type": "markdown",
   "metadata": {},
   "source": [
    "#### Sensitivity when cutoff is Less Aggressive"
   ]
  },
  {
   "cell_type": "code",
   "execution_count": 142,
   "metadata": {},
   "outputs": [
    {
     "data": {
      "text/plain": [
       "0.4779627815866797"
      ]
     },
     "execution_count": 142,
     "metadata": {},
     "output_type": "execute_result"
    }
   ],
   "source": [
    "# Let's see the sensitivity of our logistic regression model\n",
    "TP_no_agg_lead / float(TP_no_agg_lead+FN_no_agg_lead)"
   ]
  },
  {
   "cell_type": "markdown",
   "metadata": {},
   "source": [
    "#### Specificity when cutoff is Less Aggressive"
   ]
  },
  {
   "cell_type": "code",
   "execution_count": 143,
   "metadata": {},
   "outputs": [
    {
     "data": {
      "text/plain": [
       "0.9602021478205938"
      ]
     },
     "execution_count": 143,
     "metadata": {},
     "output_type": "execute_result"
    }
   ],
   "source": [
    "# Let us calculate specificity\n",
    "TN_no_agg_lead / float(TN_no_agg_lead+FP_no_agg_lead)"
   ]
  },
  {
   "cell_type": "markdown",
   "metadata": {},
   "source": [
    "#### FPR when cutoff is less Aggressive"
   ]
  },
  {
   "cell_type": "code",
   "execution_count": 144,
   "metadata": {},
   "outputs": [
    {
     "name": "stdout",
     "output_type": "stream",
     "text": [
      "0.03979785217940619\n"
     ]
    }
   ],
   "source": [
    "# Calculate false postive rate - predicting converted when customer does not get converted\n",
    "print(FP_no_agg_lead/ float(TN_no_agg_lead+FP_no_agg_lead))"
   ]
  },
  {
   "cell_type": "markdown",
   "metadata": {},
   "source": [
    "#### Precision when cutoff is less Aggressive"
   ]
  },
  {
   "cell_type": "code",
   "execution_count": 145,
   "metadata": {},
   "outputs": [
    {
     "name": "stdout",
     "output_type": "stream",
     "text": [
      "0.8856624319419237\n"
     ]
    }
   ],
   "source": [
    "# Precision - positive predictive value \n",
    "print (TP_no_agg_lead / float(TP_no_agg_lead+FP_no_agg_lead))"
   ]
  },
  {
   "cell_type": "code",
   "execution_count": 146,
   "metadata": {},
   "outputs": [
    {
     "name": "stdout",
     "output_type": "stream",
     "text": [
      "0.7403799318071116\n"
     ]
    }
   ],
   "source": [
    "# Negative predictive value\n",
    "print (TN_no_agg_lead / float(TN_no_agg_lead+ FN_no_agg_lead))"
   ]
  }
 ],
 "metadata": {
  "kernelspec": {
   "display_name": "Python 3",
   "language": "python",
   "name": "python3"
  },
  "language_info": {
   "codemirror_mode": {
    "name": "ipython",
    "version": 3
   },
   "file_extension": ".py",
   "mimetype": "text/x-python",
   "name": "python",
   "nbconvert_exporter": "python",
   "pygments_lexer": "ipython3",
   "version": "3.7.0"
  }
 },
 "nbformat": 4,
 "nbformat_minor": 2
}
